{
 "cells": [
  {
   "cell_type": "markdown",
   "metadata": {},
   "source": [
    "# Clustering Crypto"
   ]
  },
  {
   "cell_type": "code",
   "execution_count": 2,
   "metadata": {},
   "outputs": [],
   "source": [
    "# Initial imports\n",
    "import pandas as pd\n",
    "import hvplot.pandas\n",
    "from path import Path\n",
    "import plotly.express as px\n",
    "from sklearn.preprocessing import StandardScaler, MinMaxScaler\n",
    "from sklearn.decomposition import PCA\n",
    "from sklearn.cluster import KMeans\n"
   ]
  },
  {
   "cell_type": "markdown",
   "metadata": {},
   "source": [
    "### Deliverable 1: Preprocessing the Data for PCA"
   ]
  },
  {
   "cell_type": "code",
   "execution_count": 3,
   "metadata": {},
   "outputs": [
    {
     "data": {
      "text/html": [
       "<div>\n",
       "<style scoped>\n",
       "    .dataframe tbody tr th:only-of-type {\n",
       "        vertical-align: middle;\n",
       "    }\n",
       "\n",
       "    .dataframe tbody tr th {\n",
       "        vertical-align: top;\n",
       "    }\n",
       "\n",
       "    .dataframe thead th {\n",
       "        text-align: right;\n",
       "    }\n",
       "</style>\n",
       "<table border=\"1\" class=\"dataframe\">\n",
       "  <thead>\n",
       "    <tr style=\"text-align: right;\">\n",
       "      <th></th>\n",
       "      <th>CoinName</th>\n",
       "      <th>Algorithm</th>\n",
       "      <th>IsTrading</th>\n",
       "      <th>ProofType</th>\n",
       "      <th>TotalCoinsMined</th>\n",
       "      <th>TotalCoinSupply</th>\n",
       "    </tr>\n",
       "  </thead>\n",
       "  <tbody>\n",
       "    <tr>\n",
       "      <th>42</th>\n",
       "      <td>42 Coin</td>\n",
       "      <td>Scrypt</td>\n",
       "      <td>True</td>\n",
       "      <td>PoW/PoS</td>\n",
       "      <td>4.199995e+01</td>\n",
       "      <td>42</td>\n",
       "    </tr>\n",
       "    <tr>\n",
       "      <th>365</th>\n",
       "      <td>365Coin</td>\n",
       "      <td>X11</td>\n",
       "      <td>True</td>\n",
       "      <td>PoW/PoS</td>\n",
       "      <td>NaN</td>\n",
       "      <td>2300000000</td>\n",
       "    </tr>\n",
       "    <tr>\n",
       "      <th>404</th>\n",
       "      <td>404Coin</td>\n",
       "      <td>Scrypt</td>\n",
       "      <td>True</td>\n",
       "      <td>PoW/PoS</td>\n",
       "      <td>1.055185e+09</td>\n",
       "      <td>532000000</td>\n",
       "    </tr>\n",
       "    <tr>\n",
       "      <th>611</th>\n",
       "      <td>SixEleven</td>\n",
       "      <td>SHA-256</td>\n",
       "      <td>True</td>\n",
       "      <td>PoW</td>\n",
       "      <td>NaN</td>\n",
       "      <td>611000</td>\n",
       "    </tr>\n",
       "    <tr>\n",
       "      <th>808</th>\n",
       "      <td>808</td>\n",
       "      <td>SHA-256</td>\n",
       "      <td>True</td>\n",
       "      <td>PoW/PoS</td>\n",
       "      <td>0.000000e+00</td>\n",
       "      <td>0</td>\n",
       "    </tr>\n",
       "  </tbody>\n",
       "</table>\n",
       "</div>"
      ],
      "text/plain": [
       "      CoinName Algorithm  IsTrading ProofType  TotalCoinsMined TotalCoinSupply\n",
       "42     42 Coin    Scrypt       True   PoW/PoS     4.199995e+01              42\n",
       "365    365Coin       X11       True   PoW/PoS              NaN      2300000000\n",
       "404    404Coin    Scrypt       True   PoW/PoS     1.055185e+09       532000000\n",
       "611  SixEleven   SHA-256       True       PoW              NaN          611000\n",
       "808        808   SHA-256       True   PoW/PoS     0.000000e+00               0"
      ]
     },
     "execution_count": 3,
     "metadata": {},
     "output_type": "execute_result"
    }
   ],
   "source": [
    "# Load the crypto_data.csv dataset.\n",
    "file_path = \"Resources/crypto_data.csv\"\n",
    "crypto_df = pd.read_csv(file_path,index_col=0)\n",
    "crypto_df.head()"
   ]
  },
  {
   "cell_type": "code",
   "execution_count": 6,
   "metadata": {},
   "outputs": [
    {
     "data": {
      "text/html": [
       "<div>\n",
       "<style scoped>\n",
       "    .dataframe tbody tr th:only-of-type {\n",
       "        vertical-align: middle;\n",
       "    }\n",
       "\n",
       "    .dataframe tbody tr th {\n",
       "        vertical-align: top;\n",
       "    }\n",
       "\n",
       "    .dataframe thead th {\n",
       "        text-align: right;\n",
       "    }\n",
       "</style>\n",
       "<table border=\"1\" class=\"dataframe\">\n",
       "  <thead>\n",
       "    <tr style=\"text-align: right;\">\n",
       "      <th></th>\n",
       "      <th>CoinName</th>\n",
       "      <th>Algorithm</th>\n",
       "      <th>IsTrading</th>\n",
       "      <th>ProofType</th>\n",
       "      <th>TotalCoinsMined</th>\n",
       "      <th>TotalCoinSupply</th>\n",
       "    </tr>\n",
       "  </thead>\n",
       "  <tbody>\n",
       "    <tr>\n",
       "      <th>42</th>\n",
       "      <td>42 Coin</td>\n",
       "      <td>Scrypt</td>\n",
       "      <td>True</td>\n",
       "      <td>PoW/PoS</td>\n",
       "      <td>4.199995e+01</td>\n",
       "      <td>42</td>\n",
       "    </tr>\n",
       "    <tr>\n",
       "      <th>365</th>\n",
       "      <td>365Coin</td>\n",
       "      <td>X11</td>\n",
       "      <td>True</td>\n",
       "      <td>PoW/PoS</td>\n",
       "      <td>NaN</td>\n",
       "      <td>2300000000</td>\n",
       "    </tr>\n",
       "    <tr>\n",
       "      <th>404</th>\n",
       "      <td>404Coin</td>\n",
       "      <td>Scrypt</td>\n",
       "      <td>True</td>\n",
       "      <td>PoW/PoS</td>\n",
       "      <td>1.055185e+09</td>\n",
       "      <td>532000000</td>\n",
       "    </tr>\n",
       "    <tr>\n",
       "      <th>611</th>\n",
       "      <td>SixEleven</td>\n",
       "      <td>SHA-256</td>\n",
       "      <td>True</td>\n",
       "      <td>PoW</td>\n",
       "      <td>NaN</td>\n",
       "      <td>611000</td>\n",
       "    </tr>\n",
       "    <tr>\n",
       "      <th>808</th>\n",
       "      <td>808</td>\n",
       "      <td>SHA-256</td>\n",
       "      <td>True</td>\n",
       "      <td>PoW/PoS</td>\n",
       "      <td>0.000000e+00</td>\n",
       "      <td>0</td>\n",
       "    </tr>\n",
       "  </tbody>\n",
       "</table>\n",
       "</div>"
      ],
      "text/plain": [
       "      CoinName Algorithm  IsTrading ProofType  TotalCoinsMined TotalCoinSupply\n",
       "42     42 Coin    Scrypt       True   PoW/PoS     4.199995e+01              42\n",
       "365    365Coin       X11       True   PoW/PoS              NaN      2300000000\n",
       "404    404Coin    Scrypt       True   PoW/PoS     1.055185e+09       532000000\n",
       "611  SixEleven   SHA-256       True       PoW              NaN          611000\n",
       "808        808   SHA-256       True   PoW/PoS     0.000000e+00               0"
      ]
     },
     "execution_count": 6,
     "metadata": {},
     "output_type": "execute_result"
    }
   ],
   "source": [
    "# Keep all the cryptocurrencies that are being traded.\n",
    "crypto_df = crypto_df[crypto_df.IsTrading.eq(True)]\n",
    "crypto_df.head()"
   ]
  },
  {
   "cell_type": "code",
   "execution_count": 7,
   "metadata": {},
   "outputs": [
    {
     "data": {
      "text/html": [
       "<div>\n",
       "<style scoped>\n",
       "    .dataframe tbody tr th:only-of-type {\n",
       "        vertical-align: middle;\n",
       "    }\n",
       "\n",
       "    .dataframe tbody tr th {\n",
       "        vertical-align: top;\n",
       "    }\n",
       "\n",
       "    .dataframe thead th {\n",
       "        text-align: right;\n",
       "    }\n",
       "</style>\n",
       "<table border=\"1\" class=\"dataframe\">\n",
       "  <thead>\n",
       "    <tr style=\"text-align: right;\">\n",
       "      <th></th>\n",
       "      <th>CoinName</th>\n",
       "      <th>Algorithm</th>\n",
       "      <th>IsTrading</th>\n",
       "      <th>ProofType</th>\n",
       "      <th>TotalCoinsMined</th>\n",
       "      <th>TotalCoinSupply</th>\n",
       "    </tr>\n",
       "  </thead>\n",
       "  <tbody>\n",
       "    <tr>\n",
       "      <th>42</th>\n",
       "      <td>42 Coin</td>\n",
       "      <td>Scrypt</td>\n",
       "      <td>True</td>\n",
       "      <td>PoW/PoS</td>\n",
       "      <td>4.199995e+01</td>\n",
       "      <td>42</td>\n",
       "    </tr>\n",
       "    <tr>\n",
       "      <th>365</th>\n",
       "      <td>365Coin</td>\n",
       "      <td>X11</td>\n",
       "      <td>True</td>\n",
       "      <td>PoW/PoS</td>\n",
       "      <td>NaN</td>\n",
       "      <td>2300000000</td>\n",
       "    </tr>\n",
       "    <tr>\n",
       "      <th>404</th>\n",
       "      <td>404Coin</td>\n",
       "      <td>Scrypt</td>\n",
       "      <td>True</td>\n",
       "      <td>PoW/PoS</td>\n",
       "      <td>1.055185e+09</td>\n",
       "      <td>532000000</td>\n",
       "    </tr>\n",
       "    <tr>\n",
       "      <th>611</th>\n",
       "      <td>SixEleven</td>\n",
       "      <td>SHA-256</td>\n",
       "      <td>True</td>\n",
       "      <td>PoW</td>\n",
       "      <td>NaN</td>\n",
       "      <td>611000</td>\n",
       "    </tr>\n",
       "    <tr>\n",
       "      <th>808</th>\n",
       "      <td>808</td>\n",
       "      <td>SHA-256</td>\n",
       "      <td>True</td>\n",
       "      <td>PoW/PoS</td>\n",
       "      <td>0.000000e+00</td>\n",
       "      <td>0</td>\n",
       "    </tr>\n",
       "  </tbody>\n",
       "</table>\n",
       "</div>"
      ],
      "text/plain": [
       "      CoinName Algorithm  IsTrading ProofType  TotalCoinsMined TotalCoinSupply\n",
       "42     42 Coin    Scrypt       True   PoW/PoS     4.199995e+01              42\n",
       "365    365Coin       X11       True   PoW/PoS              NaN      2300000000\n",
       "404    404Coin    Scrypt       True   PoW/PoS     1.055185e+09       532000000\n",
       "611  SixEleven   SHA-256       True       PoW              NaN          611000\n",
       "808        808   SHA-256       True   PoW/PoS     0.000000e+00               0"
      ]
     },
     "execution_count": 7,
     "metadata": {},
     "output_type": "execute_result"
    }
   ],
   "source": [
    "# Keep all the cryptocurrencies that have a working algorithm.\n",
    "crypto_df = crypto_df.loc[crypto_df['Algorithm'] != 'N/A']\n",
    "crypto_df.head()"
   ]
  },
  {
   "cell_type": "code",
   "execution_count": 8,
   "metadata": {},
   "outputs": [
    {
     "name": "stdout",
     "output_type": "stream",
     "text": [
      "(1144, 5)\n"
     ]
    },
    {
     "data": {
      "text/html": [
       "<div>\n",
       "<style scoped>\n",
       "    .dataframe tbody tr th:only-of-type {\n",
       "        vertical-align: middle;\n",
       "    }\n",
       "\n",
       "    .dataframe tbody tr th {\n",
       "        vertical-align: top;\n",
       "    }\n",
       "\n",
       "    .dataframe thead th {\n",
       "        text-align: right;\n",
       "    }\n",
       "</style>\n",
       "<table border=\"1\" class=\"dataframe\">\n",
       "  <thead>\n",
       "    <tr style=\"text-align: right;\">\n",
       "      <th></th>\n",
       "      <th>CoinName</th>\n",
       "      <th>Algorithm</th>\n",
       "      <th>ProofType</th>\n",
       "      <th>TotalCoinsMined</th>\n",
       "      <th>TotalCoinSupply</th>\n",
       "    </tr>\n",
       "  </thead>\n",
       "  <tbody>\n",
       "    <tr>\n",
       "      <th>42</th>\n",
       "      <td>42 Coin</td>\n",
       "      <td>Scrypt</td>\n",
       "      <td>PoW/PoS</td>\n",
       "      <td>4.199995e+01</td>\n",
       "      <td>42</td>\n",
       "    </tr>\n",
       "    <tr>\n",
       "      <th>365</th>\n",
       "      <td>365Coin</td>\n",
       "      <td>X11</td>\n",
       "      <td>PoW/PoS</td>\n",
       "      <td>NaN</td>\n",
       "      <td>2300000000</td>\n",
       "    </tr>\n",
       "    <tr>\n",
       "      <th>404</th>\n",
       "      <td>404Coin</td>\n",
       "      <td>Scrypt</td>\n",
       "      <td>PoW/PoS</td>\n",
       "      <td>1.055185e+09</td>\n",
       "      <td>532000000</td>\n",
       "    </tr>\n",
       "    <tr>\n",
       "      <th>611</th>\n",
       "      <td>SixEleven</td>\n",
       "      <td>SHA-256</td>\n",
       "      <td>PoW</td>\n",
       "      <td>NaN</td>\n",
       "      <td>611000</td>\n",
       "    </tr>\n",
       "    <tr>\n",
       "      <th>808</th>\n",
       "      <td>808</td>\n",
       "      <td>SHA-256</td>\n",
       "      <td>PoW/PoS</td>\n",
       "      <td>0.000000e+00</td>\n",
       "      <td>0</td>\n",
       "    </tr>\n",
       "  </tbody>\n",
       "</table>\n",
       "</div>"
      ],
      "text/plain": [
       "      CoinName Algorithm ProofType  TotalCoinsMined TotalCoinSupply\n",
       "42     42 Coin    Scrypt   PoW/PoS     4.199995e+01              42\n",
       "365    365Coin       X11   PoW/PoS              NaN      2300000000\n",
       "404    404Coin    Scrypt   PoW/PoS     1.055185e+09       532000000\n",
       "611  SixEleven   SHA-256       PoW              NaN          611000\n",
       "808        808   SHA-256   PoW/PoS     0.000000e+00               0"
      ]
     },
     "execution_count": 8,
     "metadata": {},
     "output_type": "execute_result"
    }
   ],
   "source": [
    "# Remove the \"IsTrading\" column. \n",
    "crypto_df.drop(labels=\"IsTrading\", axis=1, inplace=True)\n",
    "print(crypto_df.shape)\n",
    "crypto_df.head()"
   ]
  },
  {
   "cell_type": "code",
   "execution_count": 10,
   "metadata": {},
   "outputs": [
    {
     "data": {
      "text/html": [
       "<div>\n",
       "<style scoped>\n",
       "    .dataframe tbody tr th:only-of-type {\n",
       "        vertical-align: middle;\n",
       "    }\n",
       "\n",
       "    .dataframe tbody tr th {\n",
       "        vertical-align: top;\n",
       "    }\n",
       "\n",
       "    .dataframe thead th {\n",
       "        text-align: right;\n",
       "    }\n",
       "</style>\n",
       "<table border=\"1\" class=\"dataframe\">\n",
       "  <thead>\n",
       "    <tr style=\"text-align: right;\">\n",
       "      <th></th>\n",
       "      <th>CoinName</th>\n",
       "      <th>Algorithm</th>\n",
       "      <th>ProofType</th>\n",
       "      <th>TotalCoinsMined</th>\n",
       "      <th>TotalCoinSupply</th>\n",
       "    </tr>\n",
       "  </thead>\n",
       "  <tbody>\n",
       "    <tr>\n",
       "      <th>42</th>\n",
       "      <td>42 Coin</td>\n",
       "      <td>Scrypt</td>\n",
       "      <td>PoW/PoS</td>\n",
       "      <td>4.199995e+01</td>\n",
       "      <td>42</td>\n",
       "    </tr>\n",
       "    <tr>\n",
       "      <th>404</th>\n",
       "      <td>404Coin</td>\n",
       "      <td>Scrypt</td>\n",
       "      <td>PoW/PoS</td>\n",
       "      <td>1.055185e+09</td>\n",
       "      <td>532000000</td>\n",
       "    </tr>\n",
       "    <tr>\n",
       "      <th>808</th>\n",
       "      <td>808</td>\n",
       "      <td>SHA-256</td>\n",
       "      <td>PoW/PoS</td>\n",
       "      <td>0.000000e+00</td>\n",
       "      <td>0</td>\n",
       "    </tr>\n",
       "    <tr>\n",
       "      <th>1337</th>\n",
       "      <td>EliteCoin</td>\n",
       "      <td>X13</td>\n",
       "      <td>PoW/PoS</td>\n",
       "      <td>2.927942e+10</td>\n",
       "      <td>314159265359</td>\n",
       "    </tr>\n",
       "    <tr>\n",
       "      <th>BTC</th>\n",
       "      <td>Bitcoin</td>\n",
       "      <td>SHA-256</td>\n",
       "      <td>PoW</td>\n",
       "      <td>1.792718e+07</td>\n",
       "      <td>21000000</td>\n",
       "    </tr>\n",
       "  </tbody>\n",
       "</table>\n",
       "</div>"
      ],
      "text/plain": [
       "       CoinName Algorithm ProofType  TotalCoinsMined TotalCoinSupply\n",
       "42      42 Coin    Scrypt   PoW/PoS     4.199995e+01              42\n",
       "404     404Coin    Scrypt   PoW/PoS     1.055185e+09       532000000\n",
       "808         808   SHA-256   PoW/PoS     0.000000e+00               0\n",
       "1337  EliteCoin       X13   PoW/PoS     2.927942e+10    314159265359\n",
       "BTC     Bitcoin   SHA-256       PoW     1.792718e+07        21000000"
      ]
     },
     "execution_count": 10,
     "metadata": {},
     "output_type": "execute_result"
    }
   ],
   "source": [
    "# Remove rows that have at least 1 null value.\n",
    "crypto_df = crypto_df.dropna(axis=0,how='any')\n",
    "crypto_df.head()"
   ]
  },
  {
   "cell_type": "code",
   "execution_count": 11,
   "metadata": {},
   "outputs": [
    {
     "data": {
      "text/html": [
       "<div>\n",
       "<style scoped>\n",
       "    .dataframe tbody tr th:only-of-type {\n",
       "        vertical-align: middle;\n",
       "    }\n",
       "\n",
       "    .dataframe tbody tr th {\n",
       "        vertical-align: top;\n",
       "    }\n",
       "\n",
       "    .dataframe thead th {\n",
       "        text-align: right;\n",
       "    }\n",
       "</style>\n",
       "<table border=\"1\" class=\"dataframe\">\n",
       "  <thead>\n",
       "    <tr style=\"text-align: right;\">\n",
       "      <th></th>\n",
       "      <th>CoinName</th>\n",
       "      <th>Algorithm</th>\n",
       "      <th>ProofType</th>\n",
       "      <th>TotalCoinsMined</th>\n",
       "      <th>TotalCoinSupply</th>\n",
       "    </tr>\n",
       "  </thead>\n",
       "  <tbody>\n",
       "    <tr>\n",
       "      <th>42</th>\n",
       "      <td>42 Coin</td>\n",
       "      <td>Scrypt</td>\n",
       "      <td>PoW/PoS</td>\n",
       "      <td>4.199995e+01</td>\n",
       "      <td>42</td>\n",
       "    </tr>\n",
       "    <tr>\n",
       "      <th>404</th>\n",
       "      <td>404Coin</td>\n",
       "      <td>Scrypt</td>\n",
       "      <td>PoW/PoS</td>\n",
       "      <td>1.055185e+09</td>\n",
       "      <td>532000000</td>\n",
       "    </tr>\n",
       "    <tr>\n",
       "      <th>1337</th>\n",
       "      <td>EliteCoin</td>\n",
       "      <td>X13</td>\n",
       "      <td>PoW/PoS</td>\n",
       "      <td>2.927942e+10</td>\n",
       "      <td>314159265359</td>\n",
       "    </tr>\n",
       "    <tr>\n",
       "      <th>BTC</th>\n",
       "      <td>Bitcoin</td>\n",
       "      <td>SHA-256</td>\n",
       "      <td>PoW</td>\n",
       "      <td>1.792718e+07</td>\n",
       "      <td>21000000</td>\n",
       "    </tr>\n",
       "    <tr>\n",
       "      <th>ETH</th>\n",
       "      <td>Ethereum</td>\n",
       "      <td>Ethash</td>\n",
       "      <td>PoW</td>\n",
       "      <td>1.076842e+08</td>\n",
       "      <td>0</td>\n",
       "    </tr>\n",
       "  </tbody>\n",
       "</table>\n",
       "</div>"
      ],
      "text/plain": [
       "       CoinName Algorithm ProofType  TotalCoinsMined TotalCoinSupply\n",
       "42      42 Coin    Scrypt   PoW/PoS     4.199995e+01              42\n",
       "404     404Coin    Scrypt   PoW/PoS     1.055185e+09       532000000\n",
       "1337  EliteCoin       X13   PoW/PoS     2.927942e+10    314159265359\n",
       "BTC     Bitcoin   SHA-256       PoW     1.792718e+07        21000000\n",
       "ETH    Ethereum    Ethash       PoW     1.076842e+08               0"
      ]
     },
     "execution_count": 11,
     "metadata": {},
     "output_type": "execute_result"
    }
   ],
   "source": [
    "# Keep the rows where coins are mined.\n",
    "crypto_df = crypto_df.loc[crypto_df[\"TotalCoinsMined\"] > 0]\n",
    "crypto_df.head()"
   ]
  },
  {
   "cell_type": "code",
   "execution_count": 18,
   "metadata": {},
   "outputs": [
    {
     "data": {
      "text/html": [
       "<div>\n",
       "<style scoped>\n",
       "    .dataframe tbody tr th:only-of-type {\n",
       "        vertical-align: middle;\n",
       "    }\n",
       "\n",
       "    .dataframe tbody tr th {\n",
       "        vertical-align: top;\n",
       "    }\n",
       "\n",
       "    .dataframe thead th {\n",
       "        text-align: right;\n",
       "    }\n",
       "</style>\n",
       "<table border=\"1\" class=\"dataframe\">\n",
       "  <thead>\n",
       "    <tr style=\"text-align: right;\">\n",
       "      <th></th>\n",
       "      <th>CoinName</th>\n",
       "    </tr>\n",
       "  </thead>\n",
       "  <tbody>\n",
       "    <tr>\n",
       "      <th>42</th>\n",
       "      <td>42 Coin</td>\n",
       "    </tr>\n",
       "    <tr>\n",
       "      <th>404</th>\n",
       "      <td>404Coin</td>\n",
       "    </tr>\n",
       "    <tr>\n",
       "      <th>1337</th>\n",
       "      <td>EliteCoin</td>\n",
       "    </tr>\n",
       "    <tr>\n",
       "      <th>BTC</th>\n",
       "      <td>Bitcoin</td>\n",
       "    </tr>\n",
       "    <tr>\n",
       "      <th>ETH</th>\n",
       "      <td>Ethereum</td>\n",
       "    </tr>\n",
       "  </tbody>\n",
       "</table>\n",
       "</div>"
      ],
      "text/plain": [
       "       CoinName\n",
       "42      42 Coin\n",
       "404     404Coin\n",
       "1337  EliteCoin\n",
       "BTC     Bitcoin\n",
       "ETH    Ethereum"
      ]
     },
     "execution_count": 18,
     "metadata": {},
     "output_type": "execute_result"
    }
   ],
   "source": [
    "# Create a new DataFrame that holds only the cryptocurrencies names.\n",
    "crypto_names_df = crypto_df[[\"CoinName\"]]\n",
    "crypto_names_df.head()"
   ]
  },
  {
   "cell_type": "code",
   "execution_count": 19,
   "metadata": {},
   "outputs": [
    {
     "data": {
      "text/html": [
       "<div>\n",
       "<style scoped>\n",
       "    .dataframe tbody tr th:only-of-type {\n",
       "        vertical-align: middle;\n",
       "    }\n",
       "\n",
       "    .dataframe tbody tr th {\n",
       "        vertical-align: top;\n",
       "    }\n",
       "\n",
       "    .dataframe thead th {\n",
       "        text-align: right;\n",
       "    }\n",
       "</style>\n",
       "<table border=\"1\" class=\"dataframe\">\n",
       "  <thead>\n",
       "    <tr style=\"text-align: right;\">\n",
       "      <th></th>\n",
       "      <th>Algorithm</th>\n",
       "      <th>ProofType</th>\n",
       "      <th>TotalCoinsMined</th>\n",
       "      <th>TotalCoinSupply</th>\n",
       "    </tr>\n",
       "  </thead>\n",
       "  <tbody>\n",
       "    <tr>\n",
       "      <th>42</th>\n",
       "      <td>Scrypt</td>\n",
       "      <td>PoW/PoS</td>\n",
       "      <td>4.199995e+01</td>\n",
       "      <td>42</td>\n",
       "    </tr>\n",
       "    <tr>\n",
       "      <th>404</th>\n",
       "      <td>Scrypt</td>\n",
       "      <td>PoW/PoS</td>\n",
       "      <td>1.055185e+09</td>\n",
       "      <td>532000000</td>\n",
       "    </tr>\n",
       "    <tr>\n",
       "      <th>1337</th>\n",
       "      <td>X13</td>\n",
       "      <td>PoW/PoS</td>\n",
       "      <td>2.927942e+10</td>\n",
       "      <td>314159265359</td>\n",
       "    </tr>\n",
       "    <tr>\n",
       "      <th>BTC</th>\n",
       "      <td>SHA-256</td>\n",
       "      <td>PoW</td>\n",
       "      <td>1.792718e+07</td>\n",
       "      <td>21000000</td>\n",
       "    </tr>\n",
       "    <tr>\n",
       "      <th>ETH</th>\n",
       "      <td>Ethash</td>\n",
       "      <td>PoW</td>\n",
       "      <td>1.076842e+08</td>\n",
       "      <td>0</td>\n",
       "    </tr>\n",
       "  </tbody>\n",
       "</table>\n",
       "</div>"
      ],
      "text/plain": [
       "     Algorithm ProofType  TotalCoinsMined TotalCoinSupply\n",
       "42      Scrypt   PoW/PoS     4.199995e+01              42\n",
       "404     Scrypt   PoW/PoS     1.055185e+09       532000000\n",
       "1337       X13   PoW/PoS     2.927942e+10    314159265359\n",
       "BTC    SHA-256       PoW     1.792718e+07        21000000\n",
       "ETH     Ethash       PoW     1.076842e+08               0"
      ]
     },
     "execution_count": 19,
     "metadata": {},
     "output_type": "execute_result"
    }
   ],
   "source": [
    "# Drop the 'CoinName' column since it's not going to be used on the clustering algorithm.\n",
    "crypto_df.drop(columns=[\"CoinName\"], inplace=True)\n",
    "crypto_df.head()"
   ]
  },
  {
   "cell_type": "code",
   "execution_count": 20,
   "metadata": {},
   "outputs": [
    {
     "data": {
      "text/html": [
       "<div>\n",
       "<style scoped>\n",
       "    .dataframe tbody tr th:only-of-type {\n",
       "        vertical-align: middle;\n",
       "    }\n",
       "\n",
       "    .dataframe tbody tr th {\n",
       "        vertical-align: top;\n",
       "    }\n",
       "\n",
       "    .dataframe thead th {\n",
       "        text-align: right;\n",
       "    }\n",
       "</style>\n",
       "<table border=\"1\" class=\"dataframe\">\n",
       "  <thead>\n",
       "    <tr style=\"text-align: right;\">\n",
       "      <th></th>\n",
       "      <th>TotalCoinsMined</th>\n",
       "      <th>TotalCoinSupply</th>\n",
       "      <th>Algorithm_1GB AES Pattern Search</th>\n",
       "      <th>Algorithm_536</th>\n",
       "      <th>Algorithm_Argon2d</th>\n",
       "      <th>Algorithm_BLAKE256</th>\n",
       "      <th>Algorithm_Blake</th>\n",
       "      <th>Algorithm_Blake2S</th>\n",
       "      <th>Algorithm_Blake2b</th>\n",
       "      <th>Algorithm_C11</th>\n",
       "      <th>...</th>\n",
       "      <th>ProofType_PoW/PoS</th>\n",
       "      <th>ProofType_PoW/PoS</th>\n",
       "      <th>ProofType_PoW/PoW</th>\n",
       "      <th>ProofType_PoW/nPoS</th>\n",
       "      <th>ProofType_Pos</th>\n",
       "      <th>ProofType_Proof of Authority</th>\n",
       "      <th>ProofType_Proof of Trust</th>\n",
       "      <th>ProofType_TPoS</th>\n",
       "      <th>ProofType_Zero-Knowledge Proof</th>\n",
       "      <th>ProofType_dPoW/PoW</th>\n",
       "    </tr>\n",
       "  </thead>\n",
       "  <tbody>\n",
       "    <tr>\n",
       "      <th>42</th>\n",
       "      <td>4.199995e+01</td>\n",
       "      <td>42</td>\n",
       "      <td>0</td>\n",
       "      <td>0</td>\n",
       "      <td>0</td>\n",
       "      <td>0</td>\n",
       "      <td>0</td>\n",
       "      <td>0</td>\n",
       "      <td>0</td>\n",
       "      <td>0</td>\n",
       "      <td>...</td>\n",
       "      <td>1</td>\n",
       "      <td>0</td>\n",
       "      <td>0</td>\n",
       "      <td>0</td>\n",
       "      <td>0</td>\n",
       "      <td>0</td>\n",
       "      <td>0</td>\n",
       "      <td>0</td>\n",
       "      <td>0</td>\n",
       "      <td>0</td>\n",
       "    </tr>\n",
       "    <tr>\n",
       "      <th>404</th>\n",
       "      <td>1.055185e+09</td>\n",
       "      <td>532000000</td>\n",
       "      <td>0</td>\n",
       "      <td>0</td>\n",
       "      <td>0</td>\n",
       "      <td>0</td>\n",
       "      <td>0</td>\n",
       "      <td>0</td>\n",
       "      <td>0</td>\n",
       "      <td>0</td>\n",
       "      <td>...</td>\n",
       "      <td>1</td>\n",
       "      <td>0</td>\n",
       "      <td>0</td>\n",
       "      <td>0</td>\n",
       "      <td>0</td>\n",
       "      <td>0</td>\n",
       "      <td>0</td>\n",
       "      <td>0</td>\n",
       "      <td>0</td>\n",
       "      <td>0</td>\n",
       "    </tr>\n",
       "    <tr>\n",
       "      <th>1337</th>\n",
       "      <td>2.927942e+10</td>\n",
       "      <td>314159265359</td>\n",
       "      <td>0</td>\n",
       "      <td>0</td>\n",
       "      <td>0</td>\n",
       "      <td>0</td>\n",
       "      <td>0</td>\n",
       "      <td>0</td>\n",
       "      <td>0</td>\n",
       "      <td>0</td>\n",
       "      <td>...</td>\n",
       "      <td>1</td>\n",
       "      <td>0</td>\n",
       "      <td>0</td>\n",
       "      <td>0</td>\n",
       "      <td>0</td>\n",
       "      <td>0</td>\n",
       "      <td>0</td>\n",
       "      <td>0</td>\n",
       "      <td>0</td>\n",
       "      <td>0</td>\n",
       "    </tr>\n",
       "    <tr>\n",
       "      <th>BTC</th>\n",
       "      <td>1.792718e+07</td>\n",
       "      <td>21000000</td>\n",
       "      <td>0</td>\n",
       "      <td>0</td>\n",
       "      <td>0</td>\n",
       "      <td>0</td>\n",
       "      <td>0</td>\n",
       "      <td>0</td>\n",
       "      <td>0</td>\n",
       "      <td>0</td>\n",
       "      <td>...</td>\n",
       "      <td>0</td>\n",
       "      <td>0</td>\n",
       "      <td>0</td>\n",
       "      <td>0</td>\n",
       "      <td>0</td>\n",
       "      <td>0</td>\n",
       "      <td>0</td>\n",
       "      <td>0</td>\n",
       "      <td>0</td>\n",
       "      <td>0</td>\n",
       "    </tr>\n",
       "    <tr>\n",
       "      <th>ETH</th>\n",
       "      <td>1.076842e+08</td>\n",
       "      <td>0</td>\n",
       "      <td>0</td>\n",
       "      <td>0</td>\n",
       "      <td>0</td>\n",
       "      <td>0</td>\n",
       "      <td>0</td>\n",
       "      <td>0</td>\n",
       "      <td>0</td>\n",
       "      <td>0</td>\n",
       "      <td>...</td>\n",
       "      <td>0</td>\n",
       "      <td>0</td>\n",
       "      <td>0</td>\n",
       "      <td>0</td>\n",
       "      <td>0</td>\n",
       "      <td>0</td>\n",
       "      <td>0</td>\n",
       "      <td>0</td>\n",
       "      <td>0</td>\n",
       "      <td>0</td>\n",
       "    </tr>\n",
       "  </tbody>\n",
       "</table>\n",
       "<p>5 rows × 98 columns</p>\n",
       "</div>"
      ],
      "text/plain": [
       "      TotalCoinsMined TotalCoinSupply  Algorithm_1GB AES Pattern Search  \\\n",
       "42       4.199995e+01              42                                 0   \n",
       "404      1.055185e+09       532000000                                 0   \n",
       "1337     2.927942e+10    314159265359                                 0   \n",
       "BTC      1.792718e+07        21000000                                 0   \n",
       "ETH      1.076842e+08               0                                 0   \n",
       "\n",
       "      Algorithm_536  Algorithm_Argon2d  Algorithm_BLAKE256  Algorithm_Blake  \\\n",
       "42                0                  0                   0                0   \n",
       "404               0                  0                   0                0   \n",
       "1337              0                  0                   0                0   \n",
       "BTC               0                  0                   0                0   \n",
       "ETH               0                  0                   0                0   \n",
       "\n",
       "      Algorithm_Blake2S  Algorithm_Blake2b  Algorithm_C11  ...  \\\n",
       "42                    0                  0              0  ...   \n",
       "404                   0                  0              0  ...   \n",
       "1337                  0                  0              0  ...   \n",
       "BTC                   0                  0              0  ...   \n",
       "ETH                   0                  0              0  ...   \n",
       "\n",
       "      ProofType_PoW/PoS  ProofType_PoW/PoS   ProofType_PoW/PoW  \\\n",
       "42                    1                   0                  0   \n",
       "404                   1                   0                  0   \n",
       "1337                  1                   0                  0   \n",
       "BTC                   0                   0                  0   \n",
       "ETH                   0                   0                  0   \n",
       "\n",
       "      ProofType_PoW/nPoS  ProofType_Pos  ProofType_Proof of Authority  \\\n",
       "42                     0              0                             0   \n",
       "404                    0              0                             0   \n",
       "1337                   0              0                             0   \n",
       "BTC                    0              0                             0   \n",
       "ETH                    0              0                             0   \n",
       "\n",
       "      ProofType_Proof of Trust  ProofType_TPoS  \\\n",
       "42                           0               0   \n",
       "404                          0               0   \n",
       "1337                         0               0   \n",
       "BTC                          0               0   \n",
       "ETH                          0               0   \n",
       "\n",
       "      ProofType_Zero-Knowledge Proof  ProofType_dPoW/PoW  \n",
       "42                                 0                   0  \n",
       "404                                0                   0  \n",
       "1337                               0                   0  \n",
       "BTC                                0                   0  \n",
       "ETH                                0                   0  \n",
       "\n",
       "[5 rows x 98 columns]"
      ]
     },
     "execution_count": 20,
     "metadata": {},
     "output_type": "execute_result"
    }
   ],
   "source": [
    "# Use get_dummies() to create variables for text features.\n",
    "X = pd.get_dummies(crypto_df, columns=[\"Algorithm\",\"ProofType\"])\n",
    "X.head()"
   ]
  },
  {
   "cell_type": "code",
   "execution_count": 22,
   "metadata": {},
   "outputs": [
    {
     "data": {
      "text/plain": [
       "array([[-0.11710817, -0.1528703 , -0.0433963 , -0.0433963 , -0.0433963 ,\n",
       "        -0.06142951, -0.07530656, -0.0433963 , -0.06142951, -0.06142951,\n",
       "        -0.0433963 , -0.0433963 , -0.19245009, -0.06142951, -0.09740465,\n",
       "        -0.0433963 , -0.11547005, -0.07530656, -0.0433963 , -0.0433963 ,\n",
       "        -0.15191091, -0.0433963 , -0.13118084, -0.0433963 , -0.0433963 ,\n",
       "        -0.08703883, -0.0433963 , -0.0433963 , -0.0433963 , -0.0433963 ,\n",
       "        -0.06142951, -0.0433963 , -0.08703883, -0.08703883, -0.08703883,\n",
       "        -0.0433963 , -0.13118084, -0.13840913, -0.13840913, -0.0433963 ,\n",
       "        -0.06142951, -0.0433963 , -0.07530656, -0.18168574, -0.0433963 ,\n",
       "        -0.0433963 , -0.0433963 , -0.07530656, -0.15826614, -0.31491833,\n",
       "        -0.0433963 , -0.08703883, -0.07530656, -0.06142951,  1.38675049,\n",
       "        -0.0433963 , -0.0433963 , -0.06142951, -0.0433963 , -0.0433963 ,\n",
       "        -0.0433963 , -0.0433963 , -0.0433963 , -0.0433963 , -0.0433963 ,\n",
       "        -0.0433963 , -0.39879994, -0.0433963 , -0.18168574, -0.0433963 ,\n",
       "        -0.08703883, -0.08703883, -0.10680283, -0.0433963 , -0.13118084,\n",
       "        -0.0433963 , -0.0433963 , -0.0433963 , -0.0433963 , -0.07530656,\n",
       "        -0.43911856, -0.0433963 , -0.06142951, -0.0433963 , -0.0433963 ,\n",
       "        -0.89632016, -0.0433963 , -0.0433963 ,  1.42222617, -0.0433963 ,\n",
       "        -0.0433963 , -0.0433963 , -0.0433963 , -0.0433963 , -0.0433963 ,\n",
       "        -0.0433963 , -0.0433963 , -0.0433963 ],\n",
       "       [-0.09396955, -0.145009  , -0.0433963 , -0.0433963 , -0.0433963 ,\n",
       "        -0.06142951, -0.07530656, -0.0433963 , -0.06142951, -0.06142951,\n",
       "        -0.0433963 , -0.0433963 , -0.19245009, -0.06142951, -0.09740465,\n",
       "        -0.0433963 , -0.11547005, -0.07530656, -0.0433963 , -0.0433963 ,\n",
       "        -0.15191091, -0.0433963 , -0.13118084, -0.0433963 , -0.0433963 ,\n",
       "        -0.08703883, -0.0433963 , -0.0433963 , -0.0433963 , -0.0433963 ,\n",
       "        -0.06142951, -0.0433963 , -0.08703883, -0.08703883, -0.08703883,\n",
       "        -0.0433963 , -0.13118084, -0.13840913, -0.13840913, -0.0433963 ,\n",
       "        -0.06142951, -0.0433963 , -0.07530656, -0.18168574, -0.0433963 ,\n",
       "        -0.0433963 , -0.0433963 , -0.07530656, -0.15826614, -0.31491833,\n",
       "        -0.0433963 , -0.08703883, -0.07530656, -0.06142951,  1.38675049,\n",
       "        -0.0433963 , -0.0433963 , -0.06142951, -0.0433963 , -0.0433963 ,\n",
       "        -0.0433963 , -0.0433963 , -0.0433963 , -0.0433963 , -0.0433963 ,\n",
       "        -0.0433963 , -0.39879994, -0.0433963 , -0.18168574, -0.0433963 ,\n",
       "        -0.08703883, -0.08703883, -0.10680283, -0.0433963 , -0.13118084,\n",
       "        -0.0433963 , -0.0433963 , -0.0433963 , -0.0433963 , -0.07530656,\n",
       "        -0.43911856, -0.0433963 , -0.06142951, -0.0433963 , -0.0433963 ,\n",
       "        -0.89632016, -0.0433963 , -0.0433963 ,  1.42222617, -0.0433963 ,\n",
       "        -0.0433963 , -0.0433963 , -0.0433963 , -0.0433963 , -0.0433963 ,\n",
       "        -0.0433963 , -0.0433963 , -0.0433963 ],\n",
       "       [ 0.52494561,  4.48942416, -0.0433963 , -0.0433963 , -0.0433963 ,\n",
       "        -0.06142951, -0.07530656, -0.0433963 , -0.06142951, -0.06142951,\n",
       "        -0.0433963 , -0.0433963 , -0.19245009, -0.06142951, -0.09740465,\n",
       "        -0.0433963 , -0.11547005, -0.07530656, -0.0433963 , -0.0433963 ,\n",
       "        -0.15191091, -0.0433963 , -0.13118084, -0.0433963 , -0.0433963 ,\n",
       "        -0.08703883, -0.0433963 , -0.0433963 , -0.0433963 , -0.0433963 ,\n",
       "        -0.06142951, -0.0433963 , -0.08703883, -0.08703883, -0.08703883,\n",
       "        -0.0433963 , -0.13118084, -0.13840913, -0.13840913, -0.0433963 ,\n",
       "        -0.06142951, -0.0433963 , -0.07530656, -0.18168574, -0.0433963 ,\n",
       "        -0.0433963 , -0.0433963 , -0.07530656, -0.15826614, -0.31491833,\n",
       "        -0.0433963 , -0.08703883, -0.07530656, -0.06142951, -0.72111026,\n",
       "        -0.0433963 , -0.0433963 , -0.06142951, -0.0433963 , -0.0433963 ,\n",
       "        -0.0433963 , -0.0433963 , -0.0433963 , -0.0433963 , -0.0433963 ,\n",
       "        -0.0433963 , -0.39879994, -0.0433963 ,  5.50400923, -0.0433963 ,\n",
       "        -0.08703883, -0.08703883, -0.10680283, -0.0433963 , -0.13118084,\n",
       "        -0.0433963 , -0.0433963 , -0.0433963 , -0.0433963 , -0.07530656,\n",
       "        -0.43911856, -0.0433963 , -0.06142951, -0.0433963 , -0.0433963 ,\n",
       "        -0.89632016, -0.0433963 , -0.0433963 ,  1.42222617, -0.0433963 ,\n",
       "        -0.0433963 , -0.0433963 , -0.0433963 , -0.0433963 , -0.0433963 ,\n",
       "        -0.0433963 , -0.0433963 , -0.0433963 ],\n",
       "       [-0.11671506, -0.15255998, -0.0433963 , -0.0433963 , -0.0433963 ,\n",
       "        -0.06142951, -0.07530656, -0.0433963 , -0.06142951, -0.06142951,\n",
       "        -0.0433963 , -0.0433963 , -0.19245009, -0.06142951, -0.09740465,\n",
       "        -0.0433963 , -0.11547005, -0.07530656, -0.0433963 , -0.0433963 ,\n",
       "        -0.15191091, -0.0433963 , -0.13118084, -0.0433963 , -0.0433963 ,\n",
       "        -0.08703883, -0.0433963 , -0.0433963 , -0.0433963 , -0.0433963 ,\n",
       "        -0.06142951, -0.0433963 , -0.08703883, -0.08703883, -0.08703883,\n",
       "        -0.0433963 , -0.13118084, -0.13840913, -0.13840913, -0.0433963 ,\n",
       "        -0.06142951, -0.0433963 , -0.07530656, -0.18168574, -0.0433963 ,\n",
       "        -0.0433963 , -0.0433963 , -0.07530656, -0.15826614,  3.17542648,\n",
       "        -0.0433963 , -0.08703883, -0.07530656, -0.06142951, -0.72111026,\n",
       "        -0.0433963 , -0.0433963 , -0.06142951, -0.0433963 , -0.0433963 ,\n",
       "        -0.0433963 , -0.0433963 , -0.0433963 , -0.0433963 , -0.0433963 ,\n",
       "        -0.0433963 , -0.39879994, -0.0433963 , -0.18168574, -0.0433963 ,\n",
       "        -0.08703883, -0.08703883, -0.10680283, -0.0433963 , -0.13118084,\n",
       "        -0.0433963 , -0.0433963 , -0.0433963 , -0.0433963 , -0.07530656,\n",
       "        -0.43911856, -0.0433963 , -0.06142951, -0.0433963 , -0.0433963 ,\n",
       "         1.11567277, -0.0433963 , -0.0433963 , -0.70312305, -0.0433963 ,\n",
       "        -0.0433963 , -0.0433963 , -0.0433963 , -0.0433963 , -0.0433963 ,\n",
       "        -0.0433963 , -0.0433963 , -0.0433963 ],\n",
       "       [-0.11474682, -0.1528703 , -0.0433963 , -0.0433963 , -0.0433963 ,\n",
       "        -0.06142951, -0.07530656, -0.0433963 , -0.06142951, -0.06142951,\n",
       "        -0.0433963 , -0.0433963 , -0.19245009, -0.06142951, -0.09740465,\n",
       "        -0.0433963 , -0.11547005, -0.07530656, -0.0433963 , -0.0433963 ,\n",
       "        -0.15191091, -0.0433963 ,  7.62306442, -0.0433963 , -0.0433963 ,\n",
       "        -0.08703883, -0.0433963 , -0.0433963 , -0.0433963 , -0.0433963 ,\n",
       "        -0.06142951, -0.0433963 , -0.08703883, -0.08703883, -0.08703883,\n",
       "        -0.0433963 , -0.13118084, -0.13840913, -0.13840913, -0.0433963 ,\n",
       "        -0.06142951, -0.0433963 , -0.07530656, -0.18168574, -0.0433963 ,\n",
       "        -0.0433963 , -0.0433963 , -0.07530656, -0.15826614, -0.31491833,\n",
       "        -0.0433963 , -0.08703883, -0.07530656, -0.06142951, -0.72111026,\n",
       "        -0.0433963 , -0.0433963 , -0.06142951, -0.0433963 , -0.0433963 ,\n",
       "        -0.0433963 , -0.0433963 , -0.0433963 , -0.0433963 , -0.0433963 ,\n",
       "        -0.0433963 , -0.39879994, -0.0433963 , -0.18168574, -0.0433963 ,\n",
       "        -0.08703883, -0.08703883, -0.10680283, -0.0433963 , -0.13118084,\n",
       "        -0.0433963 , -0.0433963 , -0.0433963 , -0.0433963 , -0.07530656,\n",
       "        -0.43911856, -0.0433963 , -0.06142951, -0.0433963 , -0.0433963 ,\n",
       "         1.11567277, -0.0433963 , -0.0433963 , -0.70312305, -0.0433963 ,\n",
       "        -0.0433963 , -0.0433963 , -0.0433963 , -0.0433963 , -0.0433963 ,\n",
       "        -0.0433963 , -0.0433963 , -0.0433963 ]])"
      ]
     },
     "execution_count": 22,
     "metadata": {},
     "output_type": "execute_result"
    }
   ],
   "source": [
    "# Standardize the data with StandardScaler().\n",
    "crypto_scaled = StandardScaler().fit_transform(X)\n",
    "crypto_scaled[0:5]"
   ]
  },
  {
   "cell_type": "markdown",
   "metadata": {},
   "source": [
    "### Deliverable 2: Reducing Data Dimensions Using PCA"
   ]
  },
  {
   "cell_type": "code",
   "execution_count": 25,
   "metadata": {},
   "outputs": [
    {
     "data": {
      "text/plain": [
       "array([[-0.33510106,  1.05391015, -0.59733206],\n",
       "       [-0.31846111,  1.05399301, -0.59765777],\n",
       "       [ 2.31197409,  1.66753355, -0.69504544],\n",
       "       ...,\n",
       "       [ 0.3256785 , -2.30475616,  0.44732768],\n",
       "       [-0.13059004, -1.97766272,  0.37856471],\n",
       "       [-0.30394803,  0.78309132, -0.23717775]])"
      ]
     },
     "execution_count": 25,
     "metadata": {},
     "output_type": "execute_result"
    }
   ],
   "source": [
    "# Using PCA to reduce dimension to three principal components.\n",
    "pca = PCA(n_components = 3)\n",
    "pca_reduced = pca.fit_transform(crypto_scaled)\n",
    "pca_reduced"
   ]
  },
  {
   "cell_type": "code",
   "execution_count": 45,
   "metadata": {},
   "outputs": [
    {
     "name": "stdout",
     "output_type": "stream",
     "text": [
      "(532, 3)\n"
     ]
    },
    {
     "data": {
      "text/html": [
       "<div>\n",
       "<style scoped>\n",
       "    .dataframe tbody tr th:only-of-type {\n",
       "        vertical-align: middle;\n",
       "    }\n",
       "\n",
       "    .dataframe tbody tr th {\n",
       "        vertical-align: top;\n",
       "    }\n",
       "\n",
       "    .dataframe thead th {\n",
       "        text-align: right;\n",
       "    }\n",
       "</style>\n",
       "<table border=\"1\" class=\"dataframe\">\n",
       "  <thead>\n",
       "    <tr style=\"text-align: right;\">\n",
       "      <th></th>\n",
       "      <th>PC 1</th>\n",
       "      <th>PC 2</th>\n",
       "      <th>PC 3</th>\n",
       "    </tr>\n",
       "  </thead>\n",
       "  <tbody>\n",
       "    <tr>\n",
       "      <th>42</th>\n",
       "      <td>-0.335101</td>\n",
       "      <td>1.053910</td>\n",
       "      <td>-0.597332</td>\n",
       "    </tr>\n",
       "    <tr>\n",
       "      <th>404</th>\n",
       "      <td>-0.318461</td>\n",
       "      <td>1.053993</td>\n",
       "      <td>-0.597658</td>\n",
       "    </tr>\n",
       "    <tr>\n",
       "      <th>1337</th>\n",
       "      <td>2.311974</td>\n",
       "      <td>1.667534</td>\n",
       "      <td>-0.695045</td>\n",
       "    </tr>\n",
       "    <tr>\n",
       "      <th>BTC</th>\n",
       "      <td>-0.147584</td>\n",
       "      <td>-1.345400</td>\n",
       "      <td>0.174060</td>\n",
       "    </tr>\n",
       "    <tr>\n",
       "      <th>ETH</th>\n",
       "      <td>-0.150206</td>\n",
       "      <td>-2.070310</td>\n",
       "      <td>0.420087</td>\n",
       "    </tr>\n",
       "  </tbody>\n",
       "</table>\n",
       "</div>"
      ],
      "text/plain": [
       "          PC 1      PC 2      PC 3\n",
       "42   -0.335101  1.053910 -0.597332\n",
       "404  -0.318461  1.053993 -0.597658\n",
       "1337  2.311974  1.667534 -0.695045\n",
       "BTC  -0.147584 -1.345400  0.174060\n",
       "ETH  -0.150206 -2.070310  0.420087"
      ]
     },
     "execution_count": 45,
     "metadata": {},
     "output_type": "execute_result"
    }
   ],
   "source": [
    "# Create a DataFrame with the three principal components.\n",
    "pcs_df = pd.DataFrame(data=pca_reduced, columns=[\"PC 1\", \"PC 2\", \"PC 3\"], index=X.index)\n",
    "print(pcs_df.shape)\n",
    "pcs_df.head()"
   ]
  },
  {
   "cell_type": "markdown",
   "metadata": {},
   "source": [
    "### Deliverable 3: Clustering Crytocurrencies Using K-Means\n",
    "\n",
    "#### Finding the Best Value for `k` Using the Elbow Curve"
   ]
  },
  {
   "cell_type": "code",
   "execution_count": 42,
   "metadata": {},
   "outputs": [
    {
     "data": {},
     "metadata": {},
     "output_type": "display_data"
    },
    {
     "data": {
      "application/vnd.holoviews_exec.v0+json": "",
      "text/html": [
       "<div id='1180'>\n",
       "  <div class=\"bk-root\" id=\"615520ae-df47-490c-a921-32c55b1ac037\" data-root-id=\"1180\"></div>\n",
       "</div>\n",
       "<script type=\"application/javascript\">(function(root) {\n",
       "  function embed_document(root) {\n",
       "    var docs_json = {\"8ac38115-8a8a-4ea3-9415-e1d1a0c202a2\":{\"defs\":[{\"extends\":null,\"module\":null,\"name\":\"ReactiveHTML1\",\"overrides\":[],\"properties\":[]},{\"extends\":null,\"module\":null,\"name\":\"FlexBox1\",\"overrides\":[],\"properties\":[{\"default\":\"flex-start\",\"kind\":null,\"name\":\"align_content\"},{\"default\":\"flex-start\",\"kind\":null,\"name\":\"align_items\"},{\"default\":\"row\",\"kind\":null,\"name\":\"flex_direction\"},{\"default\":\"wrap\",\"kind\":null,\"name\":\"flex_wrap\"},{\"default\":\"flex-start\",\"kind\":null,\"name\":\"justify_content\"}]},{\"extends\":null,\"module\":null,\"name\":\"GridStack1\",\"overrides\":[],\"properties\":[{\"default\":\"warn\",\"kind\":null,\"name\":\"mode\"},{\"default\":null,\"kind\":null,\"name\":\"ncols\"},{\"default\":null,\"kind\":null,\"name\":\"nrows\"},{\"default\":true,\"kind\":null,\"name\":\"allow_resize\"},{\"default\":true,\"kind\":null,\"name\":\"allow_drag\"},{\"default\":[],\"kind\":null,\"name\":\"state\"}]},{\"extends\":null,\"module\":null,\"name\":\"click1\",\"overrides\":[],\"properties\":[{\"default\":\"\",\"kind\":null,\"name\":\"terminal_output\"},{\"default\":\"\",\"kind\":null,\"name\":\"debug_name\"},{\"default\":0,\"kind\":null,\"name\":\"clears\"}]},{\"extends\":null,\"module\":null,\"name\":\"NotificationAreaBase1\",\"overrides\":[],\"properties\":[{\"default\":\"bottom-right\",\"kind\":null,\"name\":\"position\"},{\"default\":0,\"kind\":null,\"name\":\"_clear\"}]},{\"extends\":null,\"module\":null,\"name\":\"NotificationArea1\",\"overrides\":[],\"properties\":[{\"default\":[],\"kind\":null,\"name\":\"notifications\"},{\"default\":\"bottom-right\",\"kind\":null,\"name\":\"position\"},{\"default\":0,\"kind\":null,\"name\":\"_clear\"},{\"default\":[{\"background\":\"#ffc107\",\"icon\":{\"className\":\"fas fa-exclamation-triangle\",\"color\":\"white\",\"tagName\":\"i\"},\"type\":\"warning\"},{\"background\":\"#007bff\",\"icon\":{\"className\":\"fas fa-info-circle\",\"color\":\"white\",\"tagName\":\"i\"},\"type\":\"info\"}],\"kind\":null,\"name\":\"types\"}]},{\"extends\":null,\"module\":null,\"name\":\"Notification\",\"overrides\":[],\"properties\":[{\"default\":null,\"kind\":null,\"name\":\"background\"},{\"default\":3000,\"kind\":null,\"name\":\"duration\"},{\"default\":null,\"kind\":null,\"name\":\"icon\"},{\"default\":\"\",\"kind\":null,\"name\":\"message\"},{\"default\":null,\"kind\":null,\"name\":\"notification_type\"},{\"default\":false,\"kind\":null,\"name\":\"_destroyed\"}]},{\"extends\":null,\"module\":null,\"name\":\"TemplateActions1\",\"overrides\":[],\"properties\":[{\"default\":0,\"kind\":null,\"name\":\"open_modal\"},{\"default\":0,\"kind\":null,\"name\":\"close_modal\"}]},{\"extends\":null,\"module\":null,\"name\":\"MaterialTemplateActions1\",\"overrides\":[],\"properties\":[{\"default\":0,\"kind\":null,\"name\":\"open_modal\"},{\"default\":0,\"kind\":null,\"name\":\"close_modal\"}]}],\"roots\":{\"references\":[{\"attributes\":{\"line_color\":\"#30a2da\",\"line_width\":2,\"x\":{\"field\":\"k\"},\"y\":{\"field\":\"inertia\"}},\"id\":\"1218\",\"type\":\"Line\"},{\"attributes\":{\"end\":3993.3169878760905,\"reset_end\":3993.3169878760905,\"reset_start\":-238.6266843328022,\"start\":-238.6266843328022,\"tags\":[[[\"inertia\",\"inertia\",null]]]},\"id\":\"1183\",\"type\":\"Range1d\"},{\"attributes\":{\"line_alpha\":0.1,\"line_color\":\"#30a2da\",\"line_width\":2,\"x\":{\"field\":\"k\"},\"y\":{\"field\":\"inertia\"}},\"id\":\"1219\",\"type\":\"Line\"},{\"attributes\":{},\"id\":\"1190\",\"type\":\"LinearScale\"},{\"attributes\":{\"end\":10.0,\"reset_end\":10.0,\"reset_start\":1.0,\"start\":1.0,\"tags\":[[[\"k\",\"k\",null]]]},\"id\":\"1182\",\"type\":\"Range1d\"},{\"attributes\":{},\"id\":\"1237\",\"type\":\"UnionRenderers\"},{\"attributes\":{},\"id\":\"1216\",\"type\":\"Selection\"},{\"attributes\":{\"callback\":null,\"renderers\":[{\"id\":\"1221\"}],\"tags\":[\"hv_created\"],\"tooltips\":[[\"k\",\"@{k}\"],[\"inertia\",\"@{inertia}\"]]},\"id\":\"1184\",\"type\":\"HoverTool\"},{\"attributes\":{},\"id\":\"1225\",\"type\":\"BasicTickFormatter\"},{\"attributes\":{},\"id\":\"1192\",\"type\":\"LinearScale\"},{\"attributes\":{},\"id\":\"1195\",\"type\":\"BasicTicker\"},{\"attributes\":{\"line_alpha\":0.2,\"line_color\":\"#30a2da\",\"line_width\":2,\"x\":{\"field\":\"k\"},\"y\":{\"field\":\"inertia\"}},\"id\":\"1220\",\"type\":\"Line\"},{\"attributes\":{\"coordinates\":null,\"group\":null,\"text_color\":\"black\",\"text_font_size\":\"12pt\"},\"id\":\"1186\",\"type\":\"Title\"},{\"attributes\":{\"axis\":{\"id\":\"1194\"},\"coordinates\":null,\"grid_line_color\":null,\"group\":null,\"ticker\":null},\"id\":\"1197\",\"type\":\"Grid\"},{\"attributes\":{\"axis_label\":\"k\",\"coordinates\":null,\"formatter\":{\"id\":\"1225\"},\"group\":null,\"major_label_policy\":{\"id\":\"1226\"},\"ticker\":{\"id\":\"1195\"}},\"id\":\"1194\",\"type\":\"LinearAxis\"},{\"attributes\":{\"line_color\":\"#30a2da\",\"line_width\":2,\"x\":{\"field\":\"k\"},\"y\":{\"field\":\"inertia\"}},\"id\":\"1223\",\"type\":\"Line\"},{\"attributes\":{\"coordinates\":null,\"data_source\":{\"id\":\"1215\"},\"glyph\":{\"id\":\"1218\"},\"group\":null,\"hover_glyph\":null,\"muted_glyph\":{\"id\":\"1220\"},\"nonselection_glyph\":{\"id\":\"1219\"},\"selection_glyph\":{\"id\":\"1223\"},\"view\":{\"id\":\"1222\"}},\"id\":\"1221\",\"type\":\"GlyphRenderer\"},{\"attributes\":{\"margin\":[5,5,5,5],\"name\":\"HSpacer01050\",\"sizing_mode\":\"stretch_width\"},\"id\":\"1240\",\"type\":\"Spacer\"},{\"attributes\":{\"children\":[{\"id\":\"1181\"},{\"id\":\"1185\"},{\"id\":\"1240\"}],\"margin\":[0,0,0,0],\"name\":\"Row01045\",\"tags\":[\"embedded\"]},\"id\":\"1180\",\"type\":\"Row\"},{\"attributes\":{},\"id\":\"1203\",\"type\":\"PanTool\"},{\"attributes\":{\"axis_label\":\"inertia\",\"coordinates\":null,\"formatter\":{\"id\":\"1228\"},\"group\":null,\"major_label_policy\":{\"id\":\"1229\"},\"ticker\":{\"id\":\"1199\"}},\"id\":\"1198\",\"type\":\"LinearAxis\"},{\"attributes\":{\"axis\":{\"id\":\"1198\"},\"coordinates\":null,\"dimension\":1,\"grid_line_color\":null,\"group\":null,\"ticker\":null},\"id\":\"1201\",\"type\":\"Grid\"},{\"attributes\":{},\"id\":\"1228\",\"type\":\"BasicTickFormatter\"},{\"attributes\":{\"data\":{\"inertia\":{\"__ndarray__\":\"L7gmXk9xrEBopmufvbWkQFQvm3z4QZdA6FW+Wi3LgkCsITYYIIt5QLrEcAOmgnFARLS2wqgOa0Ai/+pX3yhlQGSlCIaX62FANKkSKkKCXEA=\",\"dtype\":\"float64\",\"order\":\"little\",\"shape\":[10]},\"k\":[1,2,3,4,5,6,7,8,9,10]},\"selected\":{\"id\":\"1216\"},\"selection_policy\":{\"id\":\"1237\"}},\"id\":\"1215\",\"type\":\"ColumnDataSource\"},{\"attributes\":{},\"id\":\"1199\",\"type\":\"BasicTicker\"},{\"attributes\":{\"margin\":[5,5,5,5],\"name\":\"HSpacer01049\",\"sizing_mode\":\"stretch_width\"},\"id\":\"1181\",\"type\":\"Spacer\"},{\"attributes\":{},\"id\":\"1204\",\"type\":\"WheelZoomTool\"},{\"attributes\":{},\"id\":\"1226\",\"type\":\"AllLabels\"},{\"attributes\":{\"source\":{\"id\":\"1215\"}},\"id\":\"1222\",\"type\":\"CDSView\"},{\"attributes\":{\"tools\":[{\"id\":\"1184\"},{\"id\":\"1202\"},{\"id\":\"1203\"},{\"id\":\"1204\"},{\"id\":\"1205\"},{\"id\":\"1206\"}]},\"id\":\"1208\",\"type\":\"Toolbar\"},{\"attributes\":{},\"id\":\"1202\",\"type\":\"SaveTool\"},{\"attributes\":{\"overlay\":{\"id\":\"1207\"}},\"id\":\"1205\",\"type\":\"BoxZoomTool\"},{\"attributes\":{},\"id\":\"1206\",\"type\":\"ResetTool\"},{\"attributes\":{},\"id\":\"1229\",\"type\":\"AllLabels\"},{\"attributes\":{\"bottom_units\":\"screen\",\"coordinates\":null,\"fill_alpha\":0.5,\"fill_color\":\"lightgrey\",\"group\":null,\"left_units\":\"screen\",\"level\":\"overlay\",\"line_alpha\":1.0,\"line_color\":\"black\",\"line_dash\":[4,4],\"line_width\":2,\"right_units\":\"screen\",\"syncable\":false,\"top_units\":\"screen\"},\"id\":\"1207\",\"type\":\"BoxAnnotation\"},{\"attributes\":{\"below\":[{\"id\":\"1194\"}],\"center\":[{\"id\":\"1197\"},{\"id\":\"1201\"}],\"height\":300,\"left\":[{\"id\":\"1198\"}],\"margin\":[5,5,5,5],\"min_border_bottom\":10,\"min_border_left\":10,\"min_border_right\":10,\"min_border_top\":10,\"renderers\":[{\"id\":\"1221\"}],\"sizing_mode\":\"fixed\",\"title\":{\"id\":\"1186\"},\"toolbar\":{\"id\":\"1208\"},\"width\":700,\"x_range\":{\"id\":\"1182\"},\"x_scale\":{\"id\":\"1190\"},\"y_range\":{\"id\":\"1183\"},\"y_scale\":{\"id\":\"1192\"}},\"id\":\"1185\",\"subtype\":\"Figure\",\"type\":\"Plot\"}],\"root_ids\":[\"1180\"]},\"title\":\"Bokeh Application\",\"version\":\"2.4.3\"}};\n",
       "    var render_items = [{\"docid\":\"8ac38115-8a8a-4ea3-9415-e1d1a0c202a2\",\"root_ids\":[\"1180\"],\"roots\":{\"1180\":\"615520ae-df47-490c-a921-32c55b1ac037\"}}];\n",
       "    root.Bokeh.embed.embed_items_notebook(docs_json, render_items);\n",
       "  }\n",
       "  if (root.Bokeh !== undefined && root.Bokeh.Panel !== undefined) {\n",
       "    embed_document(root);\n",
       "  } else {\n",
       "    var attempts = 0;\n",
       "    var timer = setInterval(function(root) {\n",
       "      if (root.Bokeh !== undefined && root.Bokeh.Panel !== undefined) {\n",
       "        clearInterval(timer);\n",
       "        embed_document(root);\n",
       "      } else if (document.readyState == \"complete\") {\n",
       "        attempts++;\n",
       "        if (attempts > 200) {\n",
       "          clearInterval(timer);\n",
       "          console.log(\"Bokeh: ERROR: Unable to run BokehJS code because BokehJS library is missing\");\n",
       "        }\n",
       "      }\n",
       "    }, 25, root)\n",
       "  }\n",
       "})(window);</script>"
      ],
      "text/plain": [
       ":Curve   [k]   (inertia)"
      ]
     },
     "execution_count": 42,
     "metadata": {
      "application/vnd.holoviews_exec.v0+json": {
       "id": "1180"
      }
     },
     "output_type": "execute_result"
    }
   ],
   "source": [
    "# Create an elbow curve to find the best value for K.\n",
    "inertia = []\n",
    "K = list(range(1, 11))\n",
    "for i in K:\n",
    "    km = KMeans(n_clusters = i, random_state = 0)\n",
    "    km.fit(pcs_df)\n",
    "    inertia.append(km.inertia_)\n",
    "    \n",
    "elbow = {'k': K, 'inertia': inertia}\n",
    "elbow_df = pd.DataFrame(elbow)\n",
    "elbow_df.hvplot.line(x = 'k', y = 'inertia', xticks = 'Elbow Curve')"
   ]
  },
  {
   "cell_type": "markdown",
   "metadata": {},
   "source": [
    "Running K-Means with `k=4`"
   ]
  },
  {
   "cell_type": "code",
   "execution_count": 43,
   "metadata": {},
   "outputs": [
    {
     "data": {
      "text/plain": [
       "array([0, 0, 0, 1, 1, 1, 0, 1, 1, 1, 0, 1, 0, 0, 1, 0, 1, 1, 0, 0, 1, 1,\n",
       "       1, 1, 1, 0, 1, 1, 1, 0, 1, 0, 1, 1, 0, 0, 1, 1, 1, 1, 1, 1, 0, 0,\n",
       "       1, 1, 1, 1, 1, 0, 0, 1, 0, 1, 1, 1, 1, 0, 1, 1, 0, 1, 0, 0, 0, 1,\n",
       "       1, 1, 0, 0, 0, 0, 0, 1, 1, 1, 0, 0, 1, 0, 1, 0, 0, 1, 1, 1, 1, 0,\n",
       "       0, 1, 0, 1, 1, 0, 0, 1, 0, 0, 1, 1, 0, 0, 1, 0, 0, 1, 0, 1, 0, 1,\n",
       "       0, 1, 0, 0, 1, 1, 0, 1, 1, 1, 0, 1, 1, 1, 1, 1, 0, 0, 1, 1, 1, 0,\n",
       "       1, 0, 1, 1, 0, 1, 0, 1, 0, 0, 1, 1, 0, 1, 1, 0, 0, 1, 0, 1, 0, 0,\n",
       "       0, 1, 1, 1, 1, 0, 0, 0, 0, 0, 1, 1, 0, 0, 0, 0, 0, 1, 0, 0, 0, 0,\n",
       "       0, 1, 0, 1, 0, 0, 1, 0, 1, 0, 0, 1, 0, 1, 0, 1, 0, 1, 0, 0, 0, 0,\n",
       "       1, 0, 0, 0, 0, 0, 1, 1, 0, 0, 1, 1, 0, 0, 0, 0, 0, 1, 0, 0, 0, 0,\n",
       "       0, 0, 0, 0, 1, 0, 0, 0, 0, 0, 0, 1, 1, 1, 0, 0, 0, 0, 1, 0, 1, 0,\n",
       "       0, 1, 0, 1, 1, 0, 1, 1, 0, 1, 0, 0, 0, 1, 0, 0, 1, 0, 0, 0, 0, 0,\n",
       "       0, 0, 1, 0, 1, 0, 0, 0, 0, 1, 0, 1, 0, 1, 1, 1, 1, 0, 1, 0, 0, 1,\n",
       "       0, 1, 1, 1, 0, 1, 0, 1, 1, 1, 0, 1, 0, 1, 0, 0, 0, 1, 0, 1, 1, 1,\n",
       "       1, 1, 0, 0, 1, 0, 0, 0, 1, 0, 1, 0, 1, 0, 1, 0, 0, 0, 0, 1, 0, 0,\n",
       "       1, 0, 0, 0, 1, 1, 1, 1, 0, 0, 0, 0, 1, 0, 1, 1, 1, 0, 0, 1, 1, 0,\n",
       "       0, 1, 0, 1, 1, 1, 0, 1, 1, 0, 0, 0, 1, 1, 1, 0, 1, 0, 1, 1, 0, 1,\n",
       "       1, 1, 1, 0, 2, 2, 1, 1, 1, 0, 2, 0, 0, 0, 0, 1, 1, 1, 1, 0, 0, 0,\n",
       "       1, 0, 1, 0, 0, 0, 0, 1, 0, 0, 1, 0, 0, 1, 1, 0, 1, 0, 1, 1, 1, 1,\n",
       "       0, 0, 1, 0, 1, 0, 0, 0, 0, 0, 0, 1, 1, 1, 0, 0, 0, 0, 0, 0, 1, 0,\n",
       "       1, 1, 1, 1, 0, 0, 0, 0, 1, 0, 0, 1, 0, 0, 1, 2, 1, 0, 1, 1, 0, 0,\n",
       "       1, 0, 1, 1, 0, 1, 1, 0, 1, 0, 1, 0, 0, 1, 0, 0, 0, 0, 0, 1, 1, 1,\n",
       "       0, 0, 0, 1, 0, 1, 0, 1, 0, 0, 0, 0, 1, 0, 0, 0, 1, 0, 1, 0, 1, 0,\n",
       "       0, 0, 1, 1, 0, 0, 0, 0, 0, 0, 1, 0, 1, 0, 1, 0, 0, 2, 0, 3, 0, 0,\n",
       "       0, 1, 1, 0], dtype=int32)"
      ]
     },
     "execution_count": 43,
     "metadata": {},
     "output_type": "execute_result"
    }
   ],
   "source": [
    "# Initialize the K-Means model.\n",
    "model = KMeans(n_clusters=4)\n",
    "\n",
    "# Fit the model\n",
    "model.fit(pcs_df)\n",
    "\n",
    "# Predict clusters\n",
    "predicted_clusters = model.predict(pcs_df)\n",
    "predicted_clusters"
   ]
  },
  {
   "cell_type": "code",
   "execution_count": 44,
   "metadata": {},
   "outputs": [
    {
     "name": "stdout",
     "output_type": "stream",
     "text": [
      "(532, 9)\n"
     ]
    },
    {
     "data": {
      "text/html": [
       "<div>\n",
       "<style scoped>\n",
       "    .dataframe tbody tr th:only-of-type {\n",
       "        vertical-align: middle;\n",
       "    }\n",
       "\n",
       "    .dataframe tbody tr th {\n",
       "        vertical-align: top;\n",
       "    }\n",
       "\n",
       "    .dataframe thead th {\n",
       "        text-align: right;\n",
       "    }\n",
       "</style>\n",
       "<table border=\"1\" class=\"dataframe\">\n",
       "  <thead>\n",
       "    <tr style=\"text-align: right;\">\n",
       "      <th></th>\n",
       "      <th>Algorithm</th>\n",
       "      <th>ProofType</th>\n",
       "      <th>TotalCoinsMined</th>\n",
       "      <th>TotalCoinSupply</th>\n",
       "      <th>PC 1</th>\n",
       "      <th>PC 2</th>\n",
       "      <th>PC 3</th>\n",
       "      <th>CoinName</th>\n",
       "      <th>Class</th>\n",
       "    </tr>\n",
       "  </thead>\n",
       "  <tbody>\n",
       "    <tr>\n",
       "      <th>42</th>\n",
       "      <td>Scrypt</td>\n",
       "      <td>PoW/PoS</td>\n",
       "      <td>4.199995e+01</td>\n",
       "      <td>42</td>\n",
       "      <td>-0.335101</td>\n",
       "      <td>1.053910</td>\n",
       "      <td>-0.597332</td>\n",
       "      <td>42 Coin</td>\n",
       "      <td>0</td>\n",
       "    </tr>\n",
       "    <tr>\n",
       "      <th>404</th>\n",
       "      <td>Scrypt</td>\n",
       "      <td>PoW/PoS</td>\n",
       "      <td>1.055185e+09</td>\n",
       "      <td>532000000</td>\n",
       "      <td>-0.318461</td>\n",
       "      <td>1.053993</td>\n",
       "      <td>-0.597658</td>\n",
       "      <td>404Coin</td>\n",
       "      <td>0</td>\n",
       "    </tr>\n",
       "    <tr>\n",
       "      <th>1337</th>\n",
       "      <td>X13</td>\n",
       "      <td>PoW/PoS</td>\n",
       "      <td>2.927942e+10</td>\n",
       "      <td>314159265359</td>\n",
       "      <td>2.311974</td>\n",
       "      <td>1.667534</td>\n",
       "      <td>-0.695045</td>\n",
       "      <td>EliteCoin</td>\n",
       "      <td>0</td>\n",
       "    </tr>\n",
       "    <tr>\n",
       "      <th>BTC</th>\n",
       "      <td>SHA-256</td>\n",
       "      <td>PoW</td>\n",
       "      <td>1.792718e+07</td>\n",
       "      <td>21000000</td>\n",
       "      <td>-0.147584</td>\n",
       "      <td>-1.345400</td>\n",
       "      <td>0.174060</td>\n",
       "      <td>Bitcoin</td>\n",
       "      <td>1</td>\n",
       "    </tr>\n",
       "    <tr>\n",
       "      <th>ETH</th>\n",
       "      <td>Ethash</td>\n",
       "      <td>PoW</td>\n",
       "      <td>1.076842e+08</td>\n",
       "      <td>0</td>\n",
       "      <td>-0.150206</td>\n",
       "      <td>-2.070310</td>\n",
       "      <td>0.420087</td>\n",
       "      <td>Ethereum</td>\n",
       "      <td>1</td>\n",
       "    </tr>\n",
       "    <tr>\n",
       "      <th>LTC</th>\n",
       "      <td>Scrypt</td>\n",
       "      <td>PoW</td>\n",
       "      <td>6.303924e+07</td>\n",
       "      <td>84000000</td>\n",
       "      <td>-0.166900</td>\n",
       "      <td>-1.103769</td>\n",
       "      <td>-0.028477</td>\n",
       "      <td>Litecoin</td>\n",
       "      <td>1</td>\n",
       "    </tr>\n",
       "    <tr>\n",
       "      <th>DASH</th>\n",
       "      <td>X11</td>\n",
       "      <td>PoW/PoS</td>\n",
       "      <td>9.031294e+06</td>\n",
       "      <td>22000000</td>\n",
       "      <td>-0.389806</td>\n",
       "      <td>1.211890</td>\n",
       "      <td>-0.467214</td>\n",
       "      <td>Dash</td>\n",
       "      <td>0</td>\n",
       "    </tr>\n",
       "    <tr>\n",
       "      <th>XMR</th>\n",
       "      <td>CryptoNight-V7</td>\n",
       "      <td>PoW</td>\n",
       "      <td>1.720114e+07</td>\n",
       "      <td>0</td>\n",
       "      <td>-0.151116</td>\n",
       "      <td>-2.216082</td>\n",
       "      <td>0.461291</td>\n",
       "      <td>Monero</td>\n",
       "      <td>1</td>\n",
       "    </tr>\n",
       "    <tr>\n",
       "      <th>ETC</th>\n",
       "      <td>Ethash</td>\n",
       "      <td>PoW</td>\n",
       "      <td>1.133597e+08</td>\n",
       "      <td>210000000</td>\n",
       "      <td>-0.148651</td>\n",
       "      <td>-2.070417</td>\n",
       "      <td>0.420075</td>\n",
       "      <td>Ethereum Classic</td>\n",
       "      <td>1</td>\n",
       "    </tr>\n",
       "    <tr>\n",
       "      <th>ZEC</th>\n",
       "      <td>Equihash</td>\n",
       "      <td>PoW</td>\n",
       "      <td>7.383056e+06</td>\n",
       "      <td>21000000</td>\n",
       "      <td>-0.130589</td>\n",
       "      <td>-1.977663</td>\n",
       "      <td>0.378565</td>\n",
       "      <td>ZCash</td>\n",
       "      <td>1</td>\n",
       "    </tr>\n",
       "  </tbody>\n",
       "</table>\n",
       "</div>"
      ],
      "text/plain": [
       "           Algorithm ProofType  TotalCoinsMined TotalCoinSupply      PC 1  \\\n",
       "42            Scrypt   PoW/PoS     4.199995e+01              42 -0.335101   \n",
       "404           Scrypt   PoW/PoS     1.055185e+09       532000000 -0.318461   \n",
       "1337             X13   PoW/PoS     2.927942e+10    314159265359  2.311974   \n",
       "BTC          SHA-256       PoW     1.792718e+07        21000000 -0.147584   \n",
       "ETH           Ethash       PoW     1.076842e+08               0 -0.150206   \n",
       "LTC           Scrypt       PoW     6.303924e+07        84000000 -0.166900   \n",
       "DASH             X11   PoW/PoS     9.031294e+06        22000000 -0.389806   \n",
       "XMR   CryptoNight-V7       PoW     1.720114e+07               0 -0.151116   \n",
       "ETC           Ethash       PoW     1.133597e+08       210000000 -0.148651   \n",
       "ZEC         Equihash       PoW     7.383056e+06        21000000 -0.130589   \n",
       "\n",
       "          PC 2      PC 3          CoinName  Class  \n",
       "42    1.053910 -0.597332           42 Coin      0  \n",
       "404   1.053993 -0.597658           404Coin      0  \n",
       "1337  1.667534 -0.695045         EliteCoin      0  \n",
       "BTC  -1.345400  0.174060           Bitcoin      1  \n",
       "ETH  -2.070310  0.420087          Ethereum      1  \n",
       "LTC  -1.103769 -0.028477          Litecoin      1  \n",
       "DASH  1.211890 -0.467214              Dash      0  \n",
       "XMR  -2.216082  0.461291            Monero      1  \n",
       "ETC  -2.070417  0.420075  Ethereum Classic      1  \n",
       "ZEC  -1.977663  0.378565             ZCash      1  "
      ]
     },
     "execution_count": 44,
     "metadata": {},
     "output_type": "execute_result"
    }
   ],
   "source": [
    "# Create a new DataFrame including predicted clusters and cryptocurrencies features.\n",
    "# Concatentate the crypto_df and pcs_df DataFrames on the same columns.\n",
    "clustered_df = crypto_df.join(pcs_df)\n",
    "\n",
    "#  Add a new column, \"CoinName\" to the clustered_df DataFrame that holds the names of the cryptocurrencies. \n",
    "clustered_df = clustered_df.join(crypto_names_df)\n",
    "\n",
    "#  Add a new column, \"Class\" to the clustered_df DataFrame that holds the predictions.\n",
    "clustered_df['Class']=model.labels_\n",
    "\n",
    "# Print the shape of the clustered_df\n",
    "print(clustered_df.shape)\n",
    "clustered_df.head(10)"
   ]
  },
  {
   "cell_type": "markdown",
   "metadata": {},
   "source": [
    "### Deliverable 4: Visualizing Cryptocurrencies Results\n",
    "\n",
    "#### 3D-Scatter with Clusters"
   ]
  },
  {
   "cell_type": "code",
   "execution_count": 46,
   "metadata": {},
   "outputs": [
    {
     "data": {
      "application/vnd.plotly.v1+json": {
       "config": {
        "plotlyServerURL": "https://plot.ly"
       },
       "data": [
        {
         "customdata": [
          [
           "Scrypt"
          ],
          [
           "Scrypt"
          ],
          [
           "X13"
          ],
          [
           "X11"
          ],
          [
           "SHA-512"
          ],
          [
           "SHA-256"
          ],
          [
           "SHA-256"
          ],
          [
           "X15"
          ],
          [
           "Scrypt"
          ],
          [
           "Scrypt"
          ],
          [
           "Scrypt"
          ],
          [
           "Scrypt"
          ],
          [
           "Scrypt"
          ],
          [
           "Scrypt"
          ],
          [
           "Groestl"
          ],
          [
           "PoS"
          ],
          [
           "Scrypt"
          ],
          [
           "Scrypt"
          ],
          [
           "X11"
          ],
          [
           "X11"
          ],
          [
           "SHA3"
          ],
          [
           "Scrypt"
          ],
          [
           "SHA-256"
          ],
          [
           "Scrypt"
          ],
          [
           "X13"
          ],
          [
           "X13"
          ],
          [
           "NeoScrypt"
          ],
          [
           "Scrypt"
          ],
          [
           "Scrypt"
          ],
          [
           "Scrypt"
          ],
          [
           "X11"
          ],
          [
           "X11"
          ],
          [
           "Multiple"
          ],
          [
           "PHI1612"
          ],
          [
           "X11"
          ],
          [
           "Scrypt"
          ],
          [
           "Scrypt"
          ],
          [
           "Scrypt"
          ],
          [
           "X11"
          ],
          [
           "Multiple"
          ],
          [
           "X13"
          ],
          [
           "Scrypt"
          ],
          [
           "Shabal256"
          ],
          [
           "Counterparty"
          ],
          [
           "SHA-256"
          ],
          [
           "Groestl"
          ],
          [
           "Scrypt"
          ],
          [
           "X13"
          ],
          [
           "Scrypt"
          ],
          [
           "Scrypt"
          ],
          [
           "X13"
          ],
          [
           "X11"
          ],
          [
           "Scrypt"
          ],
          [
           "X11"
          ],
          [
           "SHA3"
          ],
          [
           "QUAIT"
          ],
          [
           "X11"
          ],
          [
           "Scrypt"
          ],
          [
           "X13"
          ],
          [
           "SHA-256"
          ],
          [
           "X15"
          ],
          [
           "BLAKE256"
          ],
          [
           "SHA-256"
          ],
          [
           "X11"
          ],
          [
           "SHA-256"
          ],
          [
           "NIST5"
          ],
          [
           "Scrypt"
          ],
          [
           "Scrypt"
          ],
          [
           "X11"
          ],
          [
           "Scrypt"
          ],
          [
           "SHA-256"
          ],
          [
           "Scrypt"
          ],
          [
           "PoS"
          ],
          [
           "X11"
          ],
          [
           "SHA-256"
          ],
          [
           "SHA-256"
          ],
          [
           "NIST5"
          ],
          [
           "X11"
          ],
          [
           "POS 3.0"
          ],
          [
           "Scrypt"
          ],
          [
           "Scrypt"
          ],
          [
           "Scrypt"
          ],
          [
           "X13"
          ],
          [
           "X11"
          ],
          [
           "X11"
          ],
          [
           "Scrypt"
          ],
          [
           "SHA-256"
          ],
          [
           "X11"
          ],
          [
           "Scrypt"
          ],
          [
           "Scrypt"
          ],
          [
           "Scrypt"
          ],
          [
           "Scrypt"
          ],
          [
           "SHA-256D"
          ],
          [
           "PoS"
          ],
          [
           "Scrypt"
          ],
          [
           "X11"
          ],
          [
           "PoS"
          ],
          [
           "X13"
          ],
          [
           "X14"
          ],
          [
           "PoS"
          ],
          [
           "SHA-256D"
          ],
          [
           "DPoS"
          ],
          [
           "X11"
          ],
          [
           "X13"
          ],
          [
           "X11"
          ],
          [
           "PoS"
          ],
          [
           "Scrypt"
          ],
          [
           "Scrypt"
          ],
          [
           "PoS"
          ],
          [
           "X11"
          ],
          [
           "SHA-256"
          ],
          [
           "Scrypt"
          ],
          [
           "X11"
          ],
          [
           "Scrypt"
          ],
          [
           "Scrypt"
          ],
          [
           "X11"
          ],
          [
           "Scrypt"
          ],
          [
           "Scrypt"
          ],
          [
           "Scrypt"
          ],
          [
           "Scrypt"
          ],
          [
           "Quark"
          ],
          [
           "QuBit"
          ],
          [
           "Scrypt"
          ],
          [
           "SHA-256"
          ],
          [
           "X11"
          ],
          [
           "Scrypt"
          ],
          [
           "Scrypt"
          ],
          [
           "Scrypt"
          ],
          [
           "Scrypt"
          ],
          [
           "X13"
          ],
          [
           "Scrypt"
          ],
          [
           "Scrypt"
          ],
          [
           "X11"
          ],
          [
           "Blake2S"
          ],
          [
           "X11"
          ],
          [
           "PoS"
          ],
          [
           "X11"
          ],
          [
           "PoS"
          ],
          [
           "X11"
          ],
          [
           "Scrypt"
          ],
          [
           "Scrypt"
          ],
          [
           "Scrypt"
          ],
          [
           "SHA-256"
          ],
          [
           "X11"
          ],
          [
           "Scrypt"
          ],
          [
           "PoS"
          ],
          [
           "Scrypt"
          ],
          [
           "X15"
          ],
          [
           "SHA-256"
          ],
          [
           "POS 3.0"
          ],
          [
           "536"
          ],
          [
           "NIST5"
          ],
          [
           "NIST5"
          ],
          [
           "Skein"
          ],
          [
           "X13"
          ],
          [
           "Scrypt"
          ],
          [
           "X13"
          ],
          [
           "SkunkHash v2 Raptor"
          ],
          [
           "Skein"
          ],
          [
           "X11"
          ],
          [
           "Scrypt"
          ],
          [
           "VeChainThor Authority"
          ],
          [
           "PoS"
          ],
          [
           "Scrypt"
          ],
          [
           "Scrypt"
          ],
          [
           "SHA-512"
          ],
          [
           "Ouroboros"
          ],
          [
           "X11"
          ],
          [
           "NeoScrypt"
          ],
          [
           "Scrypt"
          ],
          [
           "Lyra2REv2"
          ],
          [
           "Scrypt"
          ],
          [
           "SHA-256"
          ],
          [
           "NIST5"
          ],
          [
           "PHI1612"
          ],
          [
           "Scrypt"
          ],
          [
           "Quark"
          ],
          [
           "POS 2.0"
          ],
          [
           "Scrypt"
          ],
          [
           "SHA-256"
          ],
          [
           "X11"
          ],
          [
           "DPoS"
          ],
          [
           "NIST5"
          ],
          [
           "X13"
          ],
          [
           "Scrypt"
          ],
          [
           "NIST5"
          ],
          [
           "Quark"
          ],
          [
           "Scrypt"
          ],
          [
           "Scrypt"
          ],
          [
           "X11"
          ],
          [
           "Quark"
          ],
          [
           "Scrypt"
          ],
          [
           "Scrypt"
          ],
          [
           "X11"
          ],
          [
           "POS 3.0"
          ],
          [
           "Scrypt"
          ],
          [
           "Scrypt"
          ],
          [
           "X13"
          ],
          [
           "C11"
          ],
          [
           "X11"
          ],
          [
           "XEVAN"
          ],
          [
           "Scrypt"
          ],
          [
           "VBFT"
          ],
          [
           "NIST5"
          ],
          [
           "Scrypt"
          ],
          [
           "Scrypt"
          ],
          [
           "Scrypt"
          ],
          [
           "Green Protocol"
          ],
          [
           "PoS"
          ],
          [
           "Scrypt"
          ],
          [
           "Semux BFT consensus"
          ],
          [
           "Quark"
          ],
          [
           "PoS"
          ],
          [
           "X16R"
          ],
          [
           "Scrypt"
          ],
          [
           "XEVAN"
          ],
          [
           "Scrypt"
          ],
          [
           "Scrypt"
          ],
          [
           "Scrypt"
          ],
          [
           "SHA-256D"
          ],
          [
           "Scrypt"
          ],
          [
           "X15"
          ],
          [
           "Scrypt"
          ],
          [
           "Quark"
          ],
          [
           "SHA-256"
          ],
          [
           "DPoS"
          ],
          [
           "X16R"
          ],
          [
           "Quark"
          ],
          [
           "Quark"
          ],
          [
           "Scrypt"
          ],
          [
           "Lyra2REv2"
          ],
          [
           "Quark"
          ],
          [
           "Scrypt"
          ],
          [
           "X11"
          ],
          [
           "X11"
          ],
          [
           "Scrypt"
          ],
          [
           "PoS"
          ],
          [
           "Keccak"
          ],
          [
           "X11"
          ],
          [
           "Scrypt"
          ],
          [
           "SHA-512"
          ],
          [
           "XEVAN"
          ],
          [
           "XEVAN"
          ],
          [
           "X11"
          ],
          [
           "Quark"
          ],
          [
           "Equihash"
          ],
          [
           "Scrypt"
          ],
          [
           "Quark"
          ],
          [
           "Quark"
          ],
          [
           "Scrypt"
          ],
          [
           "X11"
          ],
          [
           "Scrypt"
          ],
          [
           "XEVAN"
          ],
          [
           "SHA-256D"
          ],
          [
           "X11"
          ],
          [
           "X11"
          ],
          [
           "DPoS"
          ],
          [
           "Scrypt"
          ],
          [
           "X11"
          ],
          [
           "Scrypt"
          ],
          [
           "Scrypt"
          ],
          [
           "SHA-256"
          ],
          [
           "Scrypt"
          ],
          [
           "X11"
          ],
          [
           "Scrypt"
          ],
          [
           "SHA-256"
          ],
          [
           "X11"
          ],
          [
           "Scrypt"
          ],
          [
           "Scrypt"
          ],
          [
           "X11"
          ],
          [
           "Scrypt"
          ],
          [
           "PoS"
          ],
          [
           "X11"
          ],
          [
           "SHA-256"
          ],
          [
           "DPoS"
          ],
          [
           "Scrypt"
          ],
          [
           "Scrypt"
          ],
          [
           "NeoScrypt"
          ],
          [
           "X13"
          ],
          [
           "DPoS"
          ],
          [
           "DPoS"
          ],
          [
           "SHA-256"
          ],
          [
           "PoS"
          ],
          [
           "PoS"
          ],
          [
           "SHA-256"
          ],
          [
           "Scrypt"
          ],
          [
           "Scrypt"
          ]
         ],
         "hovertemplate": "<b>%{hovertext}</b><br><br>Class=%{marker.color}<br>PC 1=%{x}<br>PC 2=%{y}<br>PC 3=%{z}<br>Algorithm=%{customdata[0]}<extra></extra>",
         "hovertext": [
          "42 Coin",
          "404Coin",
          "EliteCoin",
          "Dash",
          "Bitshares",
          "BitcoinDark",
          "PayCoin",
          "KoboCoin",
          "Aurora Coin",
          "BlueCoin",
          "EnergyCoin",
          "BitBar",
          "CryptoBullion",
          "CasinoCoin",
          "Diamond",
          "Exclusive Coin",
          "FlutterCoin",
          "HoboNickels",
          "HyperStake",
          "IOCoin",
          "MaxCoin",
          "MintCoin",
          "MazaCoin",
          "Nautilus Coin",
          "NavCoin",
          "OpalCoin",
          "Orbitcoin",
          "PotCoin",
          "PhoenixCoin",
          "Reddcoin",
          "SuperCoin",
          "SyncCoin",
          "TeslaCoin",
          "TittieCoin",
          "TorCoin",
          "UnitaryStatus Dollar",
          "UltraCoin",
          "VeriCoin",
          "X11 Coin",
          "Crypti",
          "StealthCoin",
          "ZCC Coin",
          "BurstCoin",
          "StorjCoin",
          "Neutron",
          "FairCoin",
          "RubyCoin",
          "Kore",
          "Dnotes",
          "8BIT Coin",
          "Sativa Coin",
          "Ucoin",
          "Vtorrent",
          "IslaCoin",
          "Nexus",
          "Droidz",
          "Squall Coin",
          "Diggits",
          "Paycon",
          "Emercoin",
          "EverGreenCoin",
          "Decred",
          "EDRCoin",
          "Hitcoin",
          "DubaiCoin",
          "PWR Coin",
          "BillaryCoin",
          "GPU Coin",
          "EuropeCoin",
          "ZeitCoin",
          "SwingCoin",
          "SafeExchangeCoin",
          "Nebuchadnezzar",
          "Ratecoin",
          "Revenu",
          "Clockcoin",
          "VIP Tokens",
          "BitSend",
          "Let it Ride",
          "PutinCoin",
          "iBankCoin",
          "Frankywillcoin",
          "MudraCoin",
          "Lutetium Coin",
          "GoldBlocks",
          "CarterCoin",
          "BitTokens",
          "MustangCoin",
          "ZoneCoin",
          "RootCoin",
          "BitCurrency",
          "Swiscoin",
          "BuzzCoin",
          "Opair",
          "PesoBit",
          "Halloween Coin",
          "CoffeeCoin",
          "RoyalCoin",
          "GanjaCoin V2",
          "TeamUP",
          "LanaCoin",
          "ARK",
          "InsaneCoin",
          "EmberCoin",
          "XenixCoin",
          "FreeCoin",
          "PLNCoin",
          "AquariusCoin",
          "Creatio",
          "Eternity",
          "Eurocoin",
          "BitcoinFast",
          "Stakenet",
          "BitConnect Coin",
          "MoneyCoin",
          "Enigma",
          "Russiacoin",
          "PandaCoin",
          "GameUnits",
          "GAKHcoin",
          "Allsafe",
          "LiteCreed",
          "Klingon Empire Darsek",
          "Internet of People",
          "KushCoin",
          "Printerium",
          "Impeach",
          "Zilbercoin",
          "FirstCoin",
          "FindCoin",
          "OpenChat",
          "RenosCoin",
          "VirtacoinPlus",
          "TajCoin",
          "Impact",
          "Atmos",
          "HappyCoin",
          "MacronCoin",
          "Condensate",
          "Independent Money System",
          "ArgusCoin",
          "LomoCoin",
          "ProCurrency",
          "GoldReserve",
          "GrowthCoin",
          "Phreak",
          "Degas Coin",
          "HTML5 Coin",
          "Ultimate Secure Cash",
          "QTUM",
          "Espers",
          "Denarius",
          "Virta Unique Coin",
          "Bitcoin Planet",
          "BritCoin",
          "Linda",
          "DeepOnion",
          "Signatum",
          "Cream",
          "Monoeci",
          "Draftcoin",
          "Vechain",
          "Stakecoin",
          "CoinonatX",
          "Ethereum Dark",
          "Obsidian",
          "Cardano",
          "Regalcoin",
          "TrezarCoin",
          "TerraNovaCoin",
          "Rupee",
          "WomenCoin",
          "Theresa May Coin",
          "NamoCoin",
          "LUXCoin",
          "Xios",
          "Bitcloud 2.0",
          "KekCoin",
          "BlackholeCoin",
          "Infinity Economics",
          "Magnet",
          "Lamden Tau",
          "Electra",
          "Bitcoin Diamond",
          "Cash & Back Coin",
          "Bulwark",
          "Kalkulus",
          "GermanCoin",
          "LiteCoin Ultra",
          "PhantomX",
          "Digiwage",
          "Trollcoin",
          "Litecoin Plus",
          "Monkey Project",
          "TokenPay",
          "My Big Coin",
          "Unified Society USDEX",
          "Tokyo Coin",
          "Stipend",
          "Pushi",
          "Ellerium",
          "Velox",
          "Ontology",
          "Bitspace",
          "Briacoin",
          "Ignition",
          "MedicCoin",
          "Bitcoin Green",
          "Deviant Coin",
          "Abjcoin",
          "Semux",
          "Carebit",
          "Zealium",
          "Proton",
          "iDealCash",
          "Bitcoin Incognito",
          "HollyWoodCoin",
          "Swisscoin",
          "Xt3ch",
          "TheVig",
          "EmaratCoin",
          "Dekado",
          "Lynx",
          "Poseidon Quark",
          "BitcoinWSpectrum",
          "Muse",
          "Trivechain",
          "Dystem",
          "Giant",
          "Peony Coin",
          "Absolute Coin",
          "Vitae",
          "TPCash",
          "ARENON",
          "EUNO",
          "MMOCoin",
          "Ketan",
          "XDNA",
          "PAXEX",
          "ThunderStake",
          "Kcash",
          "Bettex coin",
          "BitMoney",
          "Junson Ming Chan Coin",
          "HerbCoin",
          "PirateCash",
          "Oduwa",
          "Galilel",
          "Crypto Sports",
          "Credit",
          "Dash Platinum",
          "Nasdacoin",
          "Beetle Coin",
          "Titan Coin",
          "Award",
          "Insane Coin",
          "ALAX",
          "LiteDoge",
          "TruckCoin",
          "OrangeCoin",
          "BitstarCoin",
          "NeosCoin",
          "HyperCoin",
          "PinkCoin",
          "AudioCoin",
          "IncaKoin",
          "Piggy Coin",
          "Genstake",
          "XiaoMiCoin",
          "CapriCoin",
          " ClubCoin",
          "Radium",
          "Creditbit ",
          "OKCash",
          "Lisk",
          "HiCoin",
          "WhiteCoin",
          "FriendshipCoin",
          "Triangles Coin",
          "EOS",
          "Oxycoin",
          "TigerCash",
          "Particl",
          "Nxt",
          "ZEPHYR",
          "Gapcoin",
          "BitcoinPlus"
         ],
         "legendgroup": "0",
         "marker": {
          "color": [
           0,
           0,
           0,
           0,
           0,
           0,
           0,
           0,
           0,
           0,
           0,
           0,
           0,
           0,
           0,
           0,
           0,
           0,
           0,
           0,
           0,
           0,
           0,
           0,
           0,
           0,
           0,
           0,
           0,
           0,
           0,
           0,
           0,
           0,
           0,
           0,
           0,
           0,
           0,
           0,
           0,
           0,
           0,
           0,
           0,
           0,
           0,
           0,
           0,
           0,
           0,
           0,
           0,
           0,
           0,
           0,
           0,
           0,
           0,
           0,
           0,
           0,
           0,
           0,
           0,
           0,
           0,
           0,
           0,
           0,
           0,
           0,
           0,
           0,
           0,
           0,
           0,
           0,
           0,
           0,
           0,
           0,
           0,
           0,
           0,
           0,
           0,
           0,
           0,
           0,
           0,
           0,
           0,
           0,
           0,
           0,
           0,
           0,
           0,
           0,
           0,
           0,
           0,
           0,
           0,
           0,
           0,
           0,
           0,
           0,
           0,
           0,
           0,
           0,
           0,
           0,
           0,
           0,
           0,
           0,
           0,
           0,
           0,
           0,
           0,
           0,
           0,
           0,
           0,
           0,
           0,
           0,
           0,
           0,
           0,
           0,
           0,
           0,
           0,
           0,
           0,
           0,
           0,
           0,
           0,
           0,
           0,
           0,
           0,
           0,
           0,
           0,
           0,
           0,
           0,
           0,
           0,
           0,
           0,
           0,
           0,
           0,
           0,
           0,
           0,
           0,
           0,
           0,
           0,
           0,
           0,
           0,
           0,
           0,
           0,
           0,
           0,
           0,
           0,
           0,
           0,
           0,
           0,
           0,
           0,
           0,
           0,
           0,
           0,
           0,
           0,
           0,
           0,
           0,
           0,
           0,
           0,
           0,
           0,
           0,
           0,
           0,
           0,
           0,
           0,
           0,
           0,
           0,
           0,
           0,
           0,
           0,
           0,
           0,
           0,
           0,
           0,
           0,
           0,
           0,
           0,
           0,
           0,
           0,
           0,
           0,
           0,
           0,
           0,
           0,
           0,
           0,
           0,
           0,
           0,
           0,
           0,
           0,
           0,
           0,
           0,
           0,
           0,
           0,
           0,
           0,
           0,
           0,
           0,
           0,
           0,
           0,
           0,
           0,
           0,
           0,
           0,
           0,
           0,
           0,
           0,
           0,
           0,
           0,
           0,
           0,
           0,
           0,
           0,
           0,
           0,
           0,
           0,
           0,
           0,
           0,
           0,
           0,
           0,
           0,
           0,
           0,
           0,
           0,
           0,
           0,
           0
          ],
          "coloraxis": "coloraxis",
          "symbol": "circle"
         },
         "mode": "markers",
         "name": "0",
         "scene": "scene",
         "showlegend": true,
         "type": "scatter3d",
         "x": [
          -0.33510106330476974,
          -0.3184611078109079,
          2.311974090577358,
          -0.3898062189495112,
          -0.2577137680255147,
          -0.31461791627980035,
          -0.2834100992495883,
          -0.23604625784698383,
          -0.3347611249440313,
          -0.327347419840723,
          -0.333599412723489,
          -0.3350970067125464,
          -0.3350813088157935,
          0.6925588135878088,
          -0.3659832071446454,
          -0.38793312125049784,
          -0.2920086135626311,
          -0.3331627205710385,
          -0.33844585892626794,
          -0.3897010396130975,
          -0.3899450699327014,
          -0.044121429609797376,
          -0.2779793132663407,
          -0.30364475423431003,
          -0.26738273910923244,
          -0.26800421207802505,
          -0.3410859491824028,
          -0.3294121056493977,
          -0.3335051741675635,
          0.022616798734997428,
          -0.3583089432688242,
          -0.39007206491264335,
          -0.2614191860904491,
          -0.3347150850941637,
          -0.38998385777783007,
          -0.310370227991862,
          -0.33378051139188963,
          -0.30130493507962675,
          -0.38994835393189325,
          -0.26188588471725394,
          -0.2677853347002041,
          -0.3262195730336503,
          0.0948807356112022,
          -0.3472652470058833,
          -0.3138307873553232,
          -0.3654054329529296,
          -0.30362495824199803,
          -0.26807956808484834,
          -0.29828775107599637,
          -0.3350831530522928,
          -0.26803180035540414,
          -0.35875335898086036,
          -0.33481794626655315,
          -0.390053615653394,
          -0.36230808235088435,
          -0.4141354310617195,
          -0.36843636335002516,
          -0.30202887354480334,
          -0.267554198317119,
          -0.3071882115800012,
          -0.23848323945227579,
          -0.06273184246091423,
          -0.3145888646377488,
          -0.06803255604860597,
          -0.3146524276979024,
          -0.2269637953642049,
          -0.3346940805690567,
          -0.30189866344996663,
          -0.3872280373387242,
          0.8476691458510894,
          -0.3144528708337677,
          -0.03716138997155204,
          -0.38761686711824594,
          -0.3878995291773601,
          -0.31319879191140054,
          -0.310871257765569,
          -0.3481793126952669,
          -0.3887909818501789,
          -0.36771109196264773,
          -0.31102811874173436,
          -0.33473214456158173,
          -0.33317326563018274,
          -0.23556861773902082,
          -0.3462620582234716,
          -0.389528387668789,
          -0.33393753492484723,
          -0.3146334534367263,
          -0.3900428346612879,
          -0.33492096908539737,
          -0.33507739297264794,
          -0.301887175842692,
          -0.2650379280828598,
          0.05060770576025051,
          -0.3865754434154945,
          -0.33469200634437557,
          -0.3762288949452295,
          -0.3859047110197815,
          -0.23699656541213437,
          -0.42283306122164444,
          -0.38565522177180694,
          -0.26348516696797025,
          3.752708792775984,
          -0.3896359915039047,
          0.8627912706855269,
          -0.3899978019752366,
          -0.3870385275729679,
          -0.33461983517324695,
          -0.3347739955708421,
          -0.38761686711824594,
          -0.3895734845709042,
          -0.31449628398161783,
          -0.3346205430901791,
          -0.36853058025907115,
          -0.3347677349389085,
          -0.3303640304886836,
          -0.39002676714017637,
          -0.33397993857188185,
          0.33870678040253716,
          -0.33496670199923256,
          -0.3350371423843596,
          -0.36443349631596783,
          -0.33275168178509534,
          -0.33127079743903454,
          -0.3146098950385478,
          -0.3899368464608542,
          -0.3348152982904081,
          -0.3349421106517791,
          -0.3035318476697986,
          -0.29346089177578294,
          -0.23676475289798662,
          -0.31582307927184367,
          -0.3032731841121461,
          -0.38920390358616724,
          -0.4106126931507527,
          -0.3879438158249551,
          -0.3858659364841334,
          -0.3891019096242007,
          -0.3802738884915405,
          -0.3850496522682445,
          -0.3348854607677757,
          -0.3348846878186731,
          -0.3280192957685525,
          0.2482570141730143,
          -0.3895795290052076,
          -0.2862040009429759,
          -0.3876511696439792,
          -0.33409749263674376,
          0.8941099049430073,
          -0.2821029768171119,
          -0.3664912134327611,
          0.5636075775238865,
          -0.3497127538678938,
          -0.3482172918124951,
          -0.4102233221614382,
          -0.2677173648199682,
          0.12905141578051754,
          -0.2677879991477419,
          -0.3792867993693125,
          -0.40972879345896696,
          -0.38985144193082594,
          -0.30360577825310653,
          4.429765385231026,
          -0.38751775669340127,
          -0.3345212207616984,
          -0.33502009657810344,
          -0.3156920188882499,
          0.64743497585202,
          -0.38979242519972157,
          -0.3360930447828598,
          -0.3349758206765758,
          -0.3215711737268853,
          0.43310849186555095,
          -0.31295850824070154,
          -0.3345034399670654,
          -0.401403765147387,
          -0.33492624392767795,
          -0.3940224790804787,
          -0.3620005576851047,
          -0.3347967662236144,
          -0.11014305251470652,
          -0.38858707888733945,
          3.757557224389298,
          0.20897105652919626,
          -0.2644637242685033,
          -0.33226099767577444,
          -0.3183322626499568,
          -0.36431955955459683,
          0.07861398169127566,
          -0.33393697781479265,
          -0.38916707288070207,
          -0.36348577309806385,
          -0.32152111633334207,
          -0.33504220090917985,
          -0.358725326565239,
          -0.36799263334016036,
          -0.29418670018042625,
          -0.3305938405917537,
          -0.22857404837648201,
          -0.3495770964125651,
          -0.3898687421558656,
          -0.3352682687538146,
          -0.3027672758751404,
          -0.3585393654615093,
          -0.34931238392668174,
          -0.3350695183716603,
          -0.3350512607659826,
          -0.2971571872805803,
          -0.3566923813396387,
          -0.38711282304063666,
          -0.3347682290702938,
          3.9705535236595733,
          -0.39269208423010127,
          -0.38730122967157415,
          -0.34171803331420225,
          -0.28172586572046643,
          -0.3137845640845652,
          -0.3033003918976566,
          -0.13846561871993235,
          -0.3035522389889329,
          -0.3286868675130521,
          -0.3342431460668921,
          -0.20668367997917647,
          2.212418049721916,
          -0.36003564412838196,
          -0.28223006578385623,
          1.0228815806308726,
          -0.3721999473285452,
          -0.36443296191687324,
          -0.3957036863569551,
          -0.184506694944505,
          -0.3526440760818662,
          -0.36315439541189204,
          -0.3279594580127774,
          -0.35830339988841636,
          -0.38934282393730674,
          -0.3008020296123061,
          -0.386402724083252,
          -0.35790167473514173,
          -0.3581651605103516,
          -0.1948051583575754,
          -0.2398739711152622,
          -0.30411692739761265,
          0.4408466143621332,
          -0.14892673810446203,
          -0.3949993880774878,
          -0.2656138443563571,
          -0.3347721547516373,
          -0.39545479675041045,
          -0.36454976301306463,
          0.5703039468556421,
          -0.35877957091762513,
          -0.3342559928068414,
          -0.32973258489155355,
          -0.28348399746649794,
          -0.3869121435317056,
          -0.3895696945144276,
          3.7697820030202407,
          0.09947321372457961,
          -0.3871121200634896,
          -0.3336427692491348,
          -0.33446608449382365,
          -0.2834427312347975,
          -0.3349835411527228,
          -0.3812097272207319,
          -0.2488393487965582,
          -0.09453870763976215,
          -0.37696553755821177,
          -0.3342627900473047,
          -0.32733719917164494,
          -0.38614323608776563,
          -0.33270453031545955,
          -0.38789211775603666,
          -0.37562071991631674,
          -0.31313514194104103,
          3.7530999738079305,
          -0.11111131995540549,
          -0.3299033120130833,
          -0.3407125223675732,
          -0.26818658795516354,
          3.7629570266297883,
          3.764199683330268,
          -0.2643669311334757,
          -0.3878280587207147,
          -0.4286960637648889,
          2.482883452428804,
          -0.3331499539495682,
          -0.303948030475103
         ],
         "y": [
          1.0539101470393515,
          1.0539930075923163,
          1.6675335454787583,
          1.2118895830677456,
          1.5895412275021494,
          0.8122504815340201,
          0.5414407507991431,
          1.911929898915578,
          1.0539075882029592,
          1.054127382926669,
          1.053952219206747,
          1.0539099004371428,
          1.053909979962133,
          0.6577270000269914,
          0.9120673239565169,
          1.4190476129183056,
          0.4264431144658381,
          1.0538779852236069,
          0.941653478578408,
          1.2118925299047263,
          2.0756195970805593,
          0.7903716658157169,
          0.8115496344378542,
          0.7830888740563391,
          1.821642085004928,
          1.8216246730342036,
          0.5611491329902576,
          1.0537668949294094,
          1.0538842432435414,
          1.063932421978175,
          0.9410969693488221,
          1.21189798670321,
          0.06438285336794944,
          1.481278422218105,
          1.2118932530043685,
          1.0534501186660639,
          1.0538750879001515,
          0.3575521841670217,
          1.2118974903087094,
          0.06444183516828235,
          1.8216308053789496,
          1.0534384079273371,
          1.348981375200673,
          1.4158483870121468,
          0.8122393883187822,
          0.9120866677220746,
          0.7831010875760397,
          1.8216139148751098,
          0.7828903344160876,
          1.0539106488658554,
          1.8216166943444363,
          0.9410701065540061,
          1.0539036677501743,
          1.2118985043215063,
          2.3405700604913076,
          1.9146439320486859,
          0.7849223487305643,
          0.783073748080653,
          1.8216012524785352,
          0.8117539199675611,
          1.91209487266718,
          0.9694305941639006,
          0.812251295481475,
          1.2017894081442742,
          0.8122578012216434,
          1.574597874052053,
          1.0538912854958968,
          0.7829901688101002,
          1.2117009688037503,
          0.7440203519776998,
          0.8122421353202427,
          0.6645577840809114,
          1.4190420620094835,
          1.211904812862372,
          0.8121456042607023,
          0.8119930038339197,
          1.5711368955207585,
          1.211833720052248,
          1.4152752461080795,
          1.0531434566975066,
          1.0538885377075526,
          1.0538921012634934,
          1.550698380966974,
          0.9409610728430594,
          1.2118771910624175,
          1.0538778942725398,
          0.8122507667996094,
          1.2118966446528467,
          1.0539000607587325,
          1.0539108102475134,
          0.7831497754800703,
          0.39359039267530516,
          1.9583060651387016,
          1.4190323288441378,
          1.0539216077254825,
          1.2112049738701975,
          1.419075620524673,
          1.5508006870943798,
          1.8677773793625656,
          1.418894540596148,
          1.9585088967507418,
          1.9391708194698136,
          1.2118885877811898,
          1.85269397780386,
          1.2118972914601494,
          1.4190366482744496,
          1.053895858835229,
          1.0538890464963886,
          1.4190420620094835,
          1.2118687218289315,
          0.8122553304862904,
          1.0538998309822827,
          0.7141611508762431,
          1.0538993099406482,
          1.0535740170825552,
          1.2118956536724315,
          1.053837795232839,
          0.7776680543840849,
          1.0539045440411505,
          1.0539095486868395,
          1.4191398629086718,
          0.6783335167692478,
          1.0536571735410964,
          0.8122514268414132,
          1.2118950356236524,
          1.0539037419392145,
          1.0538987958942778,
          0.783064064699487,
          0.43584992515968213,
          1.5507985171380978,
          1.0537296892124586,
          0.7830861365323821,
          1.2118502535089177,
          1.9143269101946323,
          1.2118783519755398,
          1.4190260576268694,
          1.2118531111004291,
          1.4189739739745948,
          1.2116784145833805,
          1.05390090275564,
          1.0538956008967173,
          1.0533879846247223,
          0.5023025511854592,
          1.2118829639640014,
          0.7821480267367923,
          1.4190338952048656,
          1.05386260408281,
          1.8789943046541595,
          0.5413422044594526,
          1.415261505581074,
          1.696289692416447,
          1.5711515786325911,
          1.5711142142245471,
          1.9995954821565225,
          1.8216110924835125,
          1.030885719567148,
          1.8216171131824084,
          1.2973014686046278,
          1.999609337496533,
          1.2118973179815848,
          0.7830890827110575,
          2.9734742494626203,
          1.4190148629515822,
          1.0538916235245719,
          1.0539093891240374,
          1.5904454612987777,
          1.467021021250738,
          1.2118863666599509,
          0.561003507392125,
          1.0539023189916017,
          0.5940639825459091,
          1.057418920657999,
          0.8122407688171911,
          1.5707202186862126,
          1.752715007947149,
          1.0538999129720974,
          1.68986848817831,
          1.4682473417156316,
          1.0539080165907226,
          0.5398190585409568,
          1.2118358299840002,
          1.9390364439296437,
          1.5651943494743932,
          1.8215725472297934,
          1.0538383973537755,
          1.3003270745215714,
          1.4191394522338263,
          1.0294726007834178,
          1.0538346754305377,
          1.2118873141133437,
          1.419090755229238,
          1.0536421032355123,
          1.0539089139360471,
          0.9410701713713487,
          1.4152734829701792,
          0.4898528896875744,
          1.0538692538979522,
          1.5504620051393634,
          0.9917158435512188,
          1.2118856696161855,
          1.387764715742283,
          0.7830357662891407,
          1.3793061450989599,
          1.5711339729348255,
          1.0539088691497336,
          1.0539079395294906,
          0.7829220097176639,
          1.325112818476389,
          1.419007184900122,
          1.053897854948083,
          2.078005124027306,
          1.6899057621988223,
          1.4190076708556885,
          0.6015981673884988,
          1.0517148281498012,
          0.9608129209052997,
          0.7830914461075683,
          1.0520694771352121,
          0.7830714197065267,
          1.9620186960165984,
          1.0538736553303043,
          1.6412489734641054,
          0.23889435546680543,
          1.4188055140805098,
          0.5414105729266557,
          1.6581064225724573,
          0.8724080263082352,
          1.4191355544360014,
          1.6899617885123674,
          0.7742751629861543,
          0.8648638023111432,
          1.419114451008116,
          1.0533896611147773,
          0.9410574930793525,
          1.2118823900500202,
          0.78299282901948,
          1.4189391698785938,
          0.8377457537502877,
          0.9410289403301421,
          1.044870518925513,
          1.9999808853331493,
          1.116953763000764,
          0.7983851137618275,
          0.946963285358734,
          1.689946321693449,
          -0.09086585992519329,
          1.0539042301288466,
          1.689958756545831,
          1.419137779970119,
          1.0253781675254026,
          0.9410695883395711,
          1.0538732953998307,
          1.3876027578065455,
          1.9597543431765052,
          1.2116838786127488,
          1.211890445241285,
          1.9390186616609983,
          1.0408656320184417,
          1.2119809169728517,
          1.0538068896399604,
          1.0538888418786956,
          0.5414337116597626,
          1.0539134397185008,
          1.211785998767841,
          1.048760935215846,
          0.8182954418263512,
          1.2115446222505946,
          1.053922824578072,
          1.053839439610494,
          1.2118581830195356,
          1.0538619994927125,
          1.41904227655633,
          0.5775059421594764,
          0.8122322171537153,
          1.939156617993718,
          0.7812826840216682,
          1.053839601573634,
          0.5611189563400124,
          1.821619476892648,
          1.9395480186906038,
          1.93958283452842,
          0.5412627212202424,
          1.4190443349443473,
          1.5284917564113987,
          0.8221717359800034,
          1.0537846682661964,
          0.7830913154026006
         ],
         "z": [
          -0.5973320573893082,
          -0.5976577667490933,
          -0.69504543935428,
          -0.46721395894530876,
          -0.09776648708367806,
          -0.3948122849115452,
          -0.03466047447655243,
          -0.6656450843491792,
          -0.5973380242960764,
          -0.5975126911445253,
          -0.5973670407897351,
          -0.5973320936796572,
          -0.597332401168265,
          -0.5379487590338445,
          -0.4635895837816805,
          0.027623068781432444,
          -0.3391522107356886,
          -0.5973632415743578,
          -0.10753309030170248,
          -0.46721640926922325,
          -0.7401843028501732,
          -0.24323094826449315,
          -0.39538671345574034,
          -0.2371830458345015,
          -0.6715354868043604,
          -0.6715210085795619,
          -0.33915900015417677,
          -0.5974156865809455,
          -0.5973578252163814,
          -0.6056656774890634,
          -0.10707034740740236,
          -0.4672103271704604,
          0.1662389899074781,
          -0.08959770492292095,
          -0.4672112178265582,
          -0.5977219002049768,
          -0.5973511779095523,
          -0.4173397825406948,
          -0.46721256892159413,
          0.16623821852014367,
          -0.6715261076844927,
          -0.5974225272543942,
          -0.7080997505503485,
          0.0036735937121007956,
          -0.3948252661713506,
          -0.4636035539747706,
          -0.2371853909960718,
          -0.6715178557716581,
          -0.23725151046894682,
          -0.597332474642691,
          -0.6715192014765357,
          -0.1070576652413542,
          -0.5973363242882594,
          -0.4672107570924359,
          -0.708004830468836,
          -0.6576400894306862,
          -0.061092601353489456,
          -0.23721093049631076,
          -0.6715256704370102,
          -0.3948714947190071,
          -0.665626002405019,
          -0.4158033865813852,
          -0.3948129617168536,
          -0.4716213087723543,
          -0.3948128199594203,
          -0.5817404063637832,
          -0.597336648285185,
          -0.23719986871500243,
          -0.46723187099584096,
          -0.25247920900107457,
          -0.3948140340134411,
          -0.5253562446840941,
          0.027618029904802797,
          -0.4672522071257,
          -0.3948219735227455,
          -0.39484100064681366,
          -0.5789060140006711,
          -0.46722398719331204,
          0.024959459449091784,
          -0.5976599980014424,
          -0.5973354898317267,
          -0.597365324688395,
          -0.311373407262925,
          -0.10727449884221009,
          -0.4672171711877021,
          -0.5973486841798397,
          -0.39481203938709214,
          -0.467210658936448,
          -0.5973338077650164,
          -0.5973326088331254,
          -0.23722587546682433,
          -0.5003188857840053,
          -0.7095893290373706,
          0.02760005594539425,
          -0.597341587042185,
          -0.467358168096067,
          0.02758047120694225,
          -0.31136313756852413,
          -0.6625942674268389,
          0.027605049518137692,
          -0.7037268119485628,
          -0.03446091567564416,
          -0.46721699315950477,
          -0.6977657576287416,
          -0.4672116086857533,
          0.027608049710883282,
          -0.5973387808312364,
          -0.5973347865350871,
          0.027618029904802797,
          -0.46721495619275205,
          -0.3948153514118302,
          -0.5973394094107645,
          0.024811255999324877,
          -0.5973365625315553,
          -0.5973666521603302,
          -0.46721080037768037,
          -0.597341408616258,
          -0.2483635530600559,
          -0.5973336738536633,
          -0.597333160449239,
          -0.0980656051897444,
          -0.38154693466514505,
          -0.5973630702156149,
          -0.3948125882183394,
          -0.4672123882512803,
          -0.5973363859771755,
          -0.5973332065615163,
          -0.237181156017977,
          -0.5783498880808473,
          -0.311367137872261,
          -0.597664730505961,
          -0.2371895775718001,
          -0.46721890862688525,
          -0.7132461047977601,
          -0.46724710003399716,
          0.027587752397914472,
          -0.4672212847423135,
          0.027491210049436315,
          -0.46726911310878994,
          -0.5973346102899566,
          -0.5973337680604273,
          -0.5973805997826619,
          -0.03831506226897062,
          -0.4672171441561734,
          -0.23735836272807798,
          0.027619993427177286,
          -0.5973432111206991,
          -0.6815351634748922,
          -0.034669083920808745,
          0.024938783580369706,
          -0.6955543734145057,
          -0.5788796051049828,
          -0.5789016360477491,
          -0.7126163625274936,
          -0.6715241979859912,
          -0.602323299305612,
          -0.6715238451273284,
          0.011600397277910885,
          -0.7126278833788954,
          -0.46721436004216843,
          -0.23718381110200684,
          3.4803597116589935,
          0.027620564820982813,
          -0.5973399473597623,
          -0.5973334546024808,
          -0.09682439462317688,
          0.13255776608117376,
          -0.46721369809858226,
          -0.33922918139998015,
          -0.5973331431528884,
          0.015725672606632008,
          -0.6123177769632812,
          -0.39484186128834486,
          -0.5790953685262717,
          -0.44918486022383425,
          -0.5973336848789759,
          -0.4582346939749068,
          -0.16238395623388543,
          -0.5973374245593536,
          -0.037650517697831135,
          -0.46722815525027134,
          -0.03453020319086795,
          -0.5884030510620788,
          -0.6715790378355323,
          -0.5973737691749204,
          -0.21872864838068817,
          -0.09806767733754218,
          -0.6011482771474707,
          -0.5973417108235419,
          -0.4672255886040463,
          -0.09807545785895797,
          -0.5975436293458808,
          -0.5973329629338777,
          -0.10705820186320508,
          0.02496502868313257,
          -0.3216105307687424,
          -0.5974100466577513,
          -0.3114664937951687,
          -0.3539663558312387,
          -0.4672121530486522,
          -0.45284259579589686,
          -0.2371909336775969,
          -0.040394908529856825,
          -0.5788842748179933,
          -0.5973324429680245,
          -0.5973326354308428,
          -0.23727784879354252,
          0.0022567964275484213,
          0.02761420522366957,
          -0.5973363181421238,
          -0.04116770391493559,
          -0.45826568768932757,
          0.027617662951589343,
          0.009422620124801835,
          -0.5979791250783258,
          -0.046725869965153044,
          -0.23718992488570978,
          -0.6007253233077459,
          -0.2371819617970915,
          -0.7030701787887219,
          -0.5973422631041448,
          -0.30547945401213034,
          -0.4533926248371668,
          -0.09809412160483708,
          -0.03467774634147598,
          -0.021462358578530915,
          -0.35074283569142084,
          -0.09806491900593331,
          -0.45821821552051123,
          -0.23799495597189788,
          -0.3444270685459687,
          -0.0980855066201254,
          -0.5973819938006208,
          -0.10706407240898255,
          -0.467221494196994,
          -0.23722088159659024,
          0.027611867860154425,
          -0.4503199309812225,
          -0.10706205316908737,
          -0.5985045784291562,
          -0.20780254765053371,
          -0.09268952788757355,
          -0.13895034273571455,
          -0.11194824682935442,
          -0.4582289353710843,
          0.16983616632190635,
          -0.5973372746372468,
          -0.4582223970549203,
          -0.09806308636314615,
          -0.6097153103735254,
          -0.10705708952328026,
          -0.5973419638184184,
          -0.45292032544168875,
          -0.7035527025551696,
          -0.4672350384554188,
          -0.46721853765583093,
          -0.03475677985656356,
          -0.6033808106952122,
          -0.4672792840220592,
          -0.5973427429452579,
          -0.5973405327357845,
          -0.03465872453051602,
          -0.5973347952640968,
          -0.46735857041560747,
          -0.5981190558604231,
          -0.3999198267099569,
          -0.4673992262658967,
          -0.5973498397509795,
          -0.5974663536844307,
          -0.4672776364570232,
          -0.5973692583057446,
          0.02762316148852247,
          -0.22347877502946004,
          -0.39483716412407943,
          -0.0344659630140562,
          -0.2405048916918932,
          -0.5974182157990027,
          -0.3391611328009229,
          -0.6715167458638577,
          -0.034714219835988984,
          -0.03474316954733738,
          -0.034989132655643844,
          0.02762162652863964,
          0.13875729184621585,
          -0.048289601423137804,
          -0.5973484019342461,
          -0.23717774806340136
         ]
        },
        {
         "customdata": [
          [
           "SHA-256"
          ],
          [
           "Ethash"
          ],
          [
           "Scrypt"
          ],
          [
           "CryptoNight-V7"
          ],
          [
           "Ethash"
          ],
          [
           "Equihash"
          ],
          [
           "Multiple"
          ],
          [
           "Scrypt"
          ],
          [
           "X11"
          ],
          [
           "Scrypt"
          ],
          [
           "Multiple"
          ],
          [
           "Scrypt"
          ],
          [
           "SHA-256"
          ],
          [
           "Scrypt"
          ],
          [
           "Scrypt"
          ],
          [
           "Quark"
          ],
          [
           "Groestl"
          ],
          [
           "Scrypt"
          ],
          [
           "Scrypt"
          ],
          [
           "Scrypt"
          ],
          [
           "X11"
          ],
          [
           "Multiple"
          ],
          [
           "SHA-256"
          ],
          [
           "Scrypt"
          ],
          [
           "Scrypt"
          ],
          [
           "Scrypt"
          ],
          [
           "Scrypt"
          ],
          [
           "Scrypt"
          ],
          [
           "NeoScrypt"
          ],
          [
           "Scrypt"
          ],
          [
           "Scrypt"
          ],
          [
           "Scrypt"
          ],
          [
           "Scrypt"
          ],
          [
           "SHA-256"
          ],
          [
           "Scrypt"
          ],
          [
           "Scrypt"
          ],
          [
           "Scrypt"
          ],
          [
           "Scrypt"
          ],
          [
           "HybridScryptHash256"
          ],
          [
           "Scrypt"
          ],
          [
           "Scrypt"
          ],
          [
           "SHA-256"
          ],
          [
           "Scrypt"
          ],
          [
           "Scrypt"
          ],
          [
           "Scrypt"
          ],
          [
           "Scrypt"
          ],
          [
           "SHA-256"
          ],
          [
           "SHA-256"
          ],
          [
           "SHA-256"
          ],
          [
           "SHA-256"
          ],
          [
           "SHA-256"
          ],
          [
           "X11"
          ],
          [
           "Scrypt"
          ],
          [
           "Lyra2REv2"
          ],
          [
           "Scrypt"
          ],
          [
           "SHA-256"
          ],
          [
           "CryptoNight"
          ],
          [
           "CryptoNight"
          ],
          [
           "Scrypt"
          ],
          [
           "Scrypt"
          ],
          [
           "Scrypt"
          ],
          [
           "Scrypt"
          ],
          [
           "Scrypt"
          ],
          [
           "Scrypt"
          ],
          [
           "Stanford Folding"
          ],
          [
           "Multiple"
          ],
          [
           "QuBit"
          ],
          [
           "Scrypt"
          ],
          [
           "Scrypt"
          ],
          [
           "M7 POW"
          ],
          [
           "Scrypt"
          ],
          [
           "SHA-256"
          ],
          [
           "Scrypt"
          ],
          [
           "X11"
          ],
          [
           "Lyra2RE"
          ],
          [
           "SHA-256"
          ],
          [
           "X11"
          ],
          [
           "Scrypt"
          ],
          [
           "Scrypt"
          ],
          [
           "Ethash"
          ],
          [
           "Blake2b"
          ],
          [
           "X11"
          ],
          [
           "SHA-256"
          ],
          [
           "Scrypt"
          ],
          [
           "1GB AES Pattern Search"
          ],
          [
           "Scrypt"
          ],
          [
           "SHA-256"
          ],
          [
           "X11"
          ],
          [
           "Dagger"
          ],
          [
           "Scrypt"
          ],
          [
           "X11GOST"
          ],
          [
           "Scrypt"
          ],
          [
           "X11"
          ],
          [
           "Scrypt"
          ],
          [
           "X11"
          ],
          [
           "Equihash"
          ],
          [
           "CryptoNight"
          ],
          [
           "SHA-256"
          ],
          [
           "Multiple"
          ],
          [
           "Scrypt"
          ],
          [
           "SHA-256"
          ],
          [
           "Scrypt"
          ],
          [
           "Lyra2Z"
          ],
          [
           "Ethash"
          ],
          [
           "Equihash"
          ],
          [
           "Scrypt"
          ],
          [
           "X11"
          ],
          [
           "X11"
          ],
          [
           "CryptoNight"
          ],
          [
           "Scrypt"
          ],
          [
           "CryptoNight"
          ],
          [
           "Lyra2RE"
          ],
          [
           "X11"
          ],
          [
           "CryptoNight-V7"
          ],
          [
           "Scrypt"
          ],
          [
           "X11"
          ],
          [
           "Equihash"
          ],
          [
           "Scrypt"
          ],
          [
           "Lyra2RE"
          ],
          [
           "Dagger-Hashimoto"
          ],
          [
           "Scrypt"
          ],
          [
           "NIST5"
          ],
          [
           "Scrypt"
          ],
          [
           "SHA-256"
          ],
          [
           "Scrypt"
          ],
          [
           "CryptoNight-V7"
          ],
          [
           "Argon2d"
          ],
          [
           "Blake2b"
          ],
          [
           "Cloverhash"
          ],
          [
           "CryptoNight"
          ],
          [
           "X11"
          ],
          [
           "Scrypt"
          ],
          [
           "Scrypt"
          ],
          [
           "X11"
          ],
          [
           "X11"
          ],
          [
           "CryptoNight"
          ],
          [
           "Time Travel"
          ],
          [
           "Scrypt"
          ],
          [
           "Keccak"
          ],
          [
           "X11"
          ],
          [
           "SHA-256"
          ],
          [
           "Scrypt"
          ],
          [
           "Scrypt"
          ],
          [
           "Scrypt"
          ],
          [
           "Scrypt"
          ],
          [
           "Scrypt"
          ],
          [
           "Scrypt"
          ],
          [
           "CryptoNight"
          ],
          [
           "Equihash"
          ],
          [
           "X11"
          ],
          [
           "NeoScrypt"
          ],
          [
           "Equihash"
          ],
          [
           "Dagger"
          ],
          [
           "Scrypt"
          ],
          [
           "X11"
          ],
          [
           "NeoScrypt"
          ],
          [
           "Ethash"
          ],
          [
           "NeoScrypt"
          ],
          [
           "Multiple"
          ],
          [
           "CryptoNight"
          ],
          [
           "CryptoNight"
          ],
          [
           "Ethash"
          ],
          [
           "X11"
          ],
          [
           "CryptoNight-V7"
          ],
          [
           "Scrypt"
          ],
          [
           "BLAKE256"
          ],
          [
           "X11"
          ],
          [
           "NeoScrypt"
          ],
          [
           "NeoScrypt"
          ],
          [
           "Scrypt"
          ],
          [
           "X11"
          ],
          [
           "SHA-256"
          ],
          [
           "C11"
          ],
          [
           "Ethash"
          ],
          [
           "CryptoNight"
          ],
          [
           "SkunkHash"
          ],
          [
           "CryptoNight"
          ],
          [
           "Scrypt"
          ],
          [
           "Dagger"
          ],
          [
           "Lyra2REv2"
          ],
          [
           "Scrypt"
          ],
          [
           "Scrypt"
          ],
          [
           "X11"
          ],
          [
           "Ethash"
          ],
          [
           "CryptoNight"
          ],
          [
           "Scrypt"
          ],
          [
           "IMesh"
          ],
          [
           "Equihash"
          ],
          [
           "Lyra2Z"
          ],
          [
           "X11"
          ],
          [
           "CryptoNight"
          ],
          [
           "NIST5"
          ],
          [
           "Lyra2RE"
          ],
          [
           "Tribus"
          ],
          [
           "Lyra2Z"
          ],
          [
           "CryptoNight"
          ],
          [
           "CryptoNight Heavy"
          ],
          [
           "CryptoNight"
          ],
          [
           "Jump Consistent Hash"
          ],
          [
           "CryptoNight"
          ],
          [
           "X16R"
          ],
          [
           "HMQ1725"
          ],
          [
           "X11"
          ],
          [
           "Scrypt"
          ],
          [
           "CryptoNight-V7"
          ],
          [
           "Cryptonight-GPU"
          ],
          [
           "XEVAN"
          ],
          [
           "CryptoNight Heavy"
          ],
          [
           "SHA-256"
          ],
          [
           "X11"
          ],
          [
           "X16R"
          ],
          [
           "Equihash"
          ],
          [
           "Lyra2Z"
          ],
          [
           "SHA-256"
          ],
          [
           "CryptoNight"
          ],
          [
           "Blake"
          ],
          [
           "Blake"
          ],
          [
           "Exosis"
          ],
          [
           "Scrypt"
          ],
          [
           "Equihash"
          ],
          [
           "Equihash"
          ],
          [
           "QuBit"
          ],
          [
           "SHA-256"
          ],
          [
           "X13"
          ],
          [
           "SHA-256"
          ],
          [
           "Scrypt"
          ],
          [
           "NeoScrypt"
          ],
          [
           "Blake"
          ],
          [
           "Scrypt"
          ],
          [
           "SHA-256"
          ],
          [
           "Scrypt"
          ],
          [
           "Groestl"
          ],
          [
           "Scrypt"
          ],
          [
           "Scrypt"
          ],
          [
           "Multiple"
          ],
          [
           "Equihash+Scrypt"
          ],
          [
           "Ethash"
          ],
          [
           "CryptoNight"
          ],
          [
           "Equihash"
          ]
         ],
         "hovertemplate": "<b>%{hovertext}</b><br><br>Class=%{marker.color}<br>PC 1=%{x}<br>PC 2=%{y}<br>PC 3=%{z}<br>Algorithm=%{customdata[0]}<extra></extra>",
         "hovertext": [
          "Bitcoin",
          "Ethereum",
          "Litecoin",
          "Monero",
          "Ethereum Classic",
          "ZCash",
          "DigiByte",
          "ProsperCoin",
          "Spreadcoin",
          "Argentum",
          "MyriadCoin",
          "MoonCoin",
          "ZetaCoin",
          "SexCoin",
          "Quatloo",
          "QuarkCoin",
          "Riecoin",
          "Digitalcoin ",
          "Catcoin",
          "CannaCoin",
          "CryptCoin",
          "Verge",
          "DevCoin",
          "EarthCoin",
          "E-Gulden",
          "Einsteinium",
          "Emerald",
          "Franko",
          "FeatherCoin",
          "GrandCoin",
          "GlobalCoin",
          "GoldCoin",
          "Infinite Coin",
          "IXcoin",
          "KrugerCoin",
          "LuckyCoin",
          "Litebar ",
          "MegaCoin",
          "MediterraneanCoin",
          "MinCoin",
          "NobleCoin",
          "Namecoin",
          "NyanCoin",
          "RonPaulCoin",
          "StableCoin",
          "SmartCoin",
          "SysCoin",
          "TigerCoin",
          "TerraCoin",
          "UnbreakableCoin",
          "Unobtanium",
          "UroCoin",
          "ViaCoin",
          "Vertcoin",
          "WorldCoin",
          "JouleCoin",
          "ByteCoin",
          "DigitalNote ",
          "MonaCoin",
          "Gulden",
          "PesetaCoin",
          "Wild Beast Coin",
          "Flo",
          "ArtByte",
          "Folding Coin",
          "Unitus",
          "CypherPunkCoin",
          "OmniCron",
          "GreenCoin",
          "Cryptonite",
          "MasterCoin",
          "SoonCoin",
          "1Credit",
          "MarsCoin ",
          "Crypto",
          "Anarchists Prime",
          "BowsCoin",
          "Song Coin",
          "BitZeny",
          "Expanse",
          "Siacoin",
          "MindCoin",
          "I0coin",
          "Revolution VR",
          "HOdlcoin",
          "Gamecredits",
          "CarpeDiemCoin",
          "Adzcoin",
          "SoilCoin",
          "YoCoin",
          "SibCoin",
          "Francs",
          "BolivarCoin",
          "Omni",
          "PizzaCoin",
          "Komodo",
          "Karbo",
          "ZayedCoin",
          "Circuits of Value",
          "DopeCoin",
          "DollarCoin",
          "Shilling",
          "ZCoin",
          "Elementrem",
          "ZClassic",
          "KiloCoin",
          "ArtexCoin",
          "Kurrent",
          "Cannabis Industry Coin",
          "OsmiumCoin",
          "Bikercoins",
          "HexxCoin",
          "PacCoin",
          "Citadel",
          "BeaverCoin",
          "VaultCoin",
          "Zero",
          "Canada eCoin",
          "Zoin",
          "DubaiCoin",
          "EB3coin",
          "Coinonat",
          "BenjiRolls",
          "ILCoin",
          "EquiTrader",
          "Quantum Resistant Ledger",
          "Dynamic",
          "Nano",
          "ChanCoin",
          "Dinastycoin",
          "DigitalPrice",
          "Unify",
          "SocialCoin",
          "ArcticCoin",
          "DAS",
          "LeviarCoin",
          "Bitcore",
          "gCn Coin",
          "SmartCash",
          "Onix",
          "Bitcoin Cash",
          "Sojourn Coin",
          "NewYorkCoin",
          "FrazCoin",
          "Kronecoin",
          "AdCoin",
          "Linx",
          "Sumokoin",
          "BitcoinZ",
          "Elements",
          "VIVO Coin",
          "Bitcoin Gold",
          "Pirl",
          "eBoost",
          "Pura",
          "Innova",
          "Ellaism",
          "GoByte",
          "SHIELD",
          "UltraNote",
          "BitCoal",
          "DaxxCoin",
          "AC3",
          "Lethean",
          "PopularCoin",
          "Photon",
          "Sucre",
          "SparksPay",
          "GunCoin",
          "IrishCoin",
          "Pioneer Coin",
          "UnitedBitcoin",
          "Interzone",
          "1717 Masonic Commemorative Token",
          "TurtleCoin",
          "MUNcoin",
          "Niobio Cash",
          "ShareChain",
          "Travelflex",
          "KREDS",
          "BitFlip",
          "LottoCoin",
          "Crypto Improvement Fund",
          "Callisto Network",
          "BitTube",
          "Poseidon",
          "Aidos Kuneen",
          "Bitrolium",
          "Alpenschillling",
          "FuturoCoin",
          "Monero Classic",
          "Jumpcoin",
          "Infinex",
          "KEYCO",
          "GINcoin",
          "PlatinCoin",
          "Loki",
          "Newton Coin",
          "MassGrid",
          "PluraCoin",
          "Motion",
          "PlusOneCoin",
          "Axe",
          "HexCoin",
          "Webchain",
          "Ryo",
          "Urals Coin",
          "Qwertycoin",
          "Project Pai",
          "Azart",
          "Xchange",
          "CrypticCoin",
          "Actinium",
          "Bitcoin SV",
          "FREDEnergy",
          "Universal Molecule",
          "Lithium",
          "Exosis",
          "Block-Logic",
          "Beam",
          "Bithereum",
          "SLICE",
          "BLAST",
          "Bitcoin Rhodium",
          "GlobalToken",
          "SolarCoin",
          "UFO Coin",
          "BlakeCoin",
          "Crypto Escudo",
          "Crown Coin",
          "SmileyCoin",
          "Groestlcoin",
          "Bata",
          "Pakcoin",
          "JoinCoin",
          "Vollar",
          "Reality Clash",
          "Beldex",
          "Horizen"
         ],
         "legendgroup": "1",
         "marker": {
          "color": [
           1,
           1,
           1,
           1,
           1,
           1,
           1,
           1,
           1,
           1,
           1,
           1,
           1,
           1,
           1,
           1,
           1,
           1,
           1,
           1,
           1,
           1,
           1,
           1,
           1,
           1,
           1,
           1,
           1,
           1,
           1,
           1,
           1,
           1,
           1,
           1,
           1,
           1,
           1,
           1,
           1,
           1,
           1,
           1,
           1,
           1,
           1,
           1,
           1,
           1,
           1,
           1,
           1,
           1,
           1,
           1,
           1,
           1,
           1,
           1,
           1,
           1,
           1,
           1,
           1,
           1,
           1,
           1,
           1,
           1,
           1,
           1,
           1,
           1,
           1,
           1,
           1,
           1,
           1,
           1,
           1,
           1,
           1,
           1,
           1,
           1,
           1,
           1,
           1,
           1,
           1,
           1,
           1,
           1,
           1,
           1,
           1,
           1,
           1,
           1,
           1,
           1,
           1,
           1,
           1,
           1,
           1,
           1,
           1,
           1,
           1,
           1,
           1,
           1,
           1,
           1,
           1,
           1,
           1,
           1,
           1,
           1,
           1,
           1,
           1,
           1,
           1,
           1,
           1,
           1,
           1,
           1,
           1,
           1,
           1,
           1,
           1,
           1,
           1,
           1,
           1,
           1,
           1,
           1,
           1,
           1,
           1,
           1,
           1,
           1,
           1,
           1,
           1,
           1,
           1,
           1,
           1,
           1,
           1,
           1,
           1,
           1,
           1,
           1,
           1,
           1,
           1,
           1,
           1,
           1,
           1,
           1,
           1,
           1,
           1,
           1,
           1,
           1,
           1,
           1,
           1,
           1,
           1,
           1,
           1,
           1,
           1,
           1,
           1,
           1,
           1,
           1,
           1,
           1,
           1,
           1,
           1,
           1,
           1,
           1,
           1,
           1,
           1,
           1,
           1,
           1,
           1,
           1,
           1,
           1,
           1,
           1,
           1,
           1,
           1,
           1,
           1,
           1,
           1,
           1,
           1,
           1,
           1,
           1,
           1,
           1,
           1,
           1,
           1,
           1,
           1,
           1,
           1,
           1,
           1,
           1,
           1,
           1,
           1
          ],
          "coloraxis": "coloraxis",
          "symbol": "diamond"
         },
         "mode": "markers",
         "name": "1",
         "scene": "scene",
         "showlegend": true,
         "type": "scatter3d",
         "x": [
          -0.14758401103955274,
          -0.15020608496141571,
          -0.16689952827225754,
          -0.1511157394298651,
          -0.14865094083849908,
          -0.13058898461740098,
          0.16035876649422678,
          -0.16804413342560093,
          -0.22295656548372592,
          -0.16766132749425505,
          -0.09266060462529416,
          2.5487930917183137,
          -0.14467304803382128,
          -0.16492081394557676,
          -0.16746576031947635,
          -0.22405952091492237,
          -0.1980176024301591,
          -0.1675142206346283,
          -0.16802641997209958,
          -0.1681127366885518,
          -0.2230457946011106,
          0.18410230996881294,
          0.2297222306285938,
          0.08026344423505759,
          -0.16785936387183337,
          -0.1634711331225227,
          -0.16779878185767913,
          -0.16816966433344196,
          -0.16939029777099965,
          -0.14742296447261977,
          -0.1669664530879015,
          -0.16724359060259267,
          1.5782704945362518,
          -0.1475454251879336,
          -0.164537067611117,
          -0.16788576995843943,
          -0.16824008147769437,
          -0.1675003883425184,
          -0.14868348534968462,
          -0.16812152776383363,
          -0.03325660872454357,
          -0.14762294588966896,
          -0.16179438107826563,
          -0.16810104689695515,
          -0.16619871105122425,
          -0.16758853211698765,
          -0.13479414924847127,
          -0.14708746223181401,
          -0.14737431012509222,
          -0.1473575010495644,
          -0.14794713262819856,
          -0.22321939944335203,
          -0.16781787430193992,
          -0.18512148844418885,
          -0.164925598054272,
          -0.14715466924863843,
          3.8550821327573304,
          0.45884304803991083,
          -0.1666871819675869,
          -0.151311630887034,
          -0.1654077831244948,
          -0.16824229449771913,
          -0.16527294741530552,
          -0.15151665072207707,
          -0.11935864398140333,
          -0.12661802044662396,
          -0.1667627158739373,
          -0.16811552268556226,
          -0.041249596316490396,
          -0.10707349356650568,
          -0.16825116689999045,
          -0.1476506912755076,
          0.482699348425311,
          -0.22260745651498023,
          -0.144385479173059,
          -0.1473910152475875,
          -0.22289196682814155,
          -0.16637814878292895,
          -0.16557152024235466,
          -0.1512723912985822,
          0.379042930673844,
          -0.2229272980936365,
          -0.14754654624089608,
          -0.16421473237053902,
          -0.14822012866304857,
          -0.16681659086774772,
          0.27034704993983577,
          -0.22208932487677532,
          -0.16028519163850743,
          -0.16706414509984477,
          -0.1430911222557488,
          -0.16804141676146223,
          -0.22289062829185902,
          -0.16825122531228448,
          -0.22304042596286727,
          -0.1851084743496217,
          0.3039762087124141,
          -0.14780627511969252,
          -0.10671943536121756,
          -0.16542219316148288,
          -0.14776495706138537,
          -0.1679151591613977,
          -0.12321194827769495,
          -0.1510148920694914,
          -0.1306105766947569,
          -0.09511114711958078,
          -0.2096415880817875,
          -0.22087208636373193,
          0.30397052487853266,
          -0.16823299461385388,
          0.30410107007138454,
          -0.1449250242040603,
          0.49088501312504523,
          -0.14988278370386882,
          -0.16820132157804127,
          -0.21578769022520325,
          -0.13062291746419324,
          -0.16633722148469718,
          -0.14464378396862296,
          -0.10295605132943784,
          -0.13917832005226516,
          -0.1825315145458326,
          -0.16776436325613245,
          -0.11418261158205104,
          -0.16758681390129349,
          -0.14974028878083417,
          -0.15182254751227398,
          -0.020799334616788685,
          -0.13940559396643362,
          0.3400410274718681,
          -0.22209778776973454,
          -0.16790544596075357,
          -0.16766937531633286,
          -0.22249181418966973,
          -0.223068396025499,
          0.3043648930784837,
          -0.16099812451906725,
          3.2365204232744977,
          -0.1309865880537372,
          -0.21395641087301584,
          -0.14758317622229758,
          -0.09396268298796988,
          1.5767497018609886,
          -0.16800318404071699,
          -0.16745577694926064,
          -0.1671571766859327,
          -0.16714412270828555,
          0.30454811832157713,
          0.08135437523539878,
          -0.17751682703835792,
          -0.17407209102988253,
          -0.13046916634059919,
          -0.15904634550923716,
          -0.16633543270817777,
          -0.21861960833820318,
          -0.17391777054426552,
          -0.14938323799848338,
          -0.1740177946259239,
          -0.11686438390014572,
          1.1405246209966722,
          0.30395335650088967,
          -0.07440732321878295,
          -0.21836247059989447,
          -0.13886935916247514,
          -0.0845123303700464,
          1.1078048228618016,
          -0.22304242911756972,
          -0.1740696228136177,
          -0.1671179050551087,
          -0.167255267871526,
          -0.2229679385559085,
          -0.14756259329216032,
          -0.18270513120477463,
          -0.2871824524790555,
          8.027906336735374,
          -0.15599737146900214,
          0.30782171092262356,
          0.024516739238505343,
          -0.1585498561478603,
          -0.17070124639781273,
          -0.16782821123419592,
          0.1388025151953269,
          -0.21711797692510204,
          -0.10250679953024658,
          0.3118624517563141,
          -0.1680648541549854,
          -0.1490508148067278,
          -0.12946166512604995,
          -0.12099940048527982,
          -0.2221385131734632,
          0.304135635370217,
          -0.18259077227434037,
          -0.14477052204089205,
          -0.14899304991830004,
          -0.12329617335348747,
          0.3080564328644126,
          0.574957894790494,
          2.109621613331443,
          -0.15876604686129864,
          0.3177200141243089,
          -0.20614125737019962,
          -0.1370274482067204,
          -0.2230246158659194,
          -0.16808941313067222,
          -0.13875310112409636,
          -0.14077329097750912,
          -0.16719414263589097,
          3.093689830277114,
          -0.10746758496503848,
          -0.2229960343659666,
          -0.20557002694388066,
          -0.025374417525860185,
          -0.12269498531281284,
          -0.1475832137444243,
          0.38376378774719444,
          -0.12925271770822364,
          -0.1296438932242534,
          -0.1635111671801392,
          -0.16698347379769513,
          -0.12853270823382212,
          -0.13030222707085903,
          -0.16597509578408243,
          -0.1468604044285653,
          -0.10132206074120537,
          -0.14573016512304998,
          0.5265378645759663,
          -0.09934127830658208,
          -0.08020109326079791,
          -0.15166706320077394,
          -0.14737368130201398,
          0.5465134854019276,
          -0.19757921302709333,
          -0.16816607795924357,
          -0.16612502589852327,
          -0.12735207239403873,
          -0.1251774358838545,
          -0.1510480038386982,
          0.32567849688508527,
          -0.13059004034667157
         ],
         "y": [
          -1.3454002853085967,
          -2.0703095040834776,
          -1.1037691547888389,
          -2.2160817778488915,
          -2.070417253781259,
          -1.9776626911490878,
          -1.8295004700062474,
          -1.103755827317581,
          -0.9457656254308505,
          -1.1037760868333417,
          -1.822898470520473,
          -1.3043228405641663,
          -1.3454259463552098,
          -1.103833331945586,
          -1.1037965482470713,
          -0.4677348021829093,
          -1.2456154319084836,
          -1.1037605557304366,
          -1.1037553310351211,
          -1.1037520856801022,
          -0.9457666842380149,
          -1.8256322887154524,
          -1.3499461233315826,
          -1.1065115483145609,
          -1.1037506505806636,
          -1.103828595018286,
          -1.1037568795544885,
          -1.1037523085288368,
          -1.596611141423961,
          -1.1041866011807722,
          -1.1037609418004113,
          -1.103770324628083,
          -1.1200977621042114,
          -1.345399204238698,
          -1.1038336922544467,
          -1.1037506698327204,
          -1.1037471579628066,
          -1.103755725127107,
          -2.134738094930191,
          -1.103750069379038,
          -1.110772930599121,
          -1.345401376156475,
          -1.1038084278116809,
          -1.103757421877195,
          -1.1038691351230525,
          -1.1037648239567326,
          -1.3456666862179838,
          -1.345405116923236,
          -1.3454095421209686,
          -1.34543645299548,
          -1.3453955070669248,
          -0.9457585778350799,
          -1.1037509293048886,
          -1.2927966916497158,
          -1.1038445778134995,
          -1.3454055501076163,
          -2.337785444653179,
          -2.3072220306855638,
          -1.1037784239535273,
          -1.104482460979118,
          -1.1037867253991003,
          -1.1037481408593672,
          -1.1037783460850643,
          -1.1039982146321952,
          -2.1743660321342286,
          -1.8224087159650653,
          -1.4792904403765892,
          -1.1037451246897945,
          -1.1073940013315244,
          -2.197408529101447,
          -1.1037469421506927,
          -1.3454021535062073,
          -1.1518014693215435,
          -0.9457652118178757,
          -2.2068022399811906,
          -1.3454184841050925,
          -0.9457645361275983,
          -1.1038455124475863,
          -1.103851562954107,
          -2.070351561380164,
          -2.1740379111054677,
          -0.9457619231420136,
          -1.3453992356475313,
          -1.103784726506276,
          -2.247462650235434,
          -1.1037668311098865,
          -1.3492592083391681,
          -0.9457874444713361,
          -2.2821115929770976,
          -1.103834548270249,
          -2.1786143343825084,
          -1.1037550306299135,
          -0.9457673809221907,
          -1.103746941603905,
          -0.9457715778427216,
          -1.1373005914080407,
          -2.3043624393897457,
          -1.345398395991921,
          -1.8227159011158827,
          -1.1038113505093061,
          -1.3453978885457136,
          -1.1037586989794907,
          -2.1650268757299957,
          -2.0703510476785154,
          -1.9776632960999658,
          -1.1089030544888678,
          -0.9457384518318005,
          -0.945857103463205,
          -2.304370524951169,
          -1.103747942477552,
          -2.304369749729068,
          -2.206777156369839,
          -0.9978087455543219,
          -2.216180540028806,
          -1.103747520370658,
          -0.9462709358723477,
          -1.9776607595578184,
          -1.103764929679347,
          -2.206777203105282,
          -2.045382818277066,
          -1.1058142509295037,
          -0.5865233442901638,
          -1.1037584519488632,
          -1.346250772951328,
          -1.1037797637599436,
          -2.2161189017770093,
          -2.3418813499450493,
          -2.1854855951253223,
          -2.2074921070260953,
          -2.304785944544023,
          -0.945799210765275,
          -1.1037506999811788,
          -1.1037842386272394,
          -0.9457814273394141,
          -0.9457679659847947,
          -2.304383254782041,
          -2.2763480580793227,
          -1.1524689552143983,
          -1.321567167685434,
          -0.946291685857566,
          -1.3454002619193017,
          -1.1092311647580577,
          -1.0548563499932333,
          -1.1037539594537757,
          -1.1037847393535232,
          -1.1037879025786943,
          -1.1037875368419883,
          -2.3044032613442837,
          -1.9868415442856409,
          -0.9457751504306519,
          -1.5965196550292,
          -1.977659334169085,
          -2.282167897271191,
          -1.1037648795627273,
          -0.9458819052469426,
          -1.5965283017269996,
          -2.0704882109348195,
          -1.596521592548704,
          -1.822611024736398,
          -2.3421662431246286,
          -2.30436488108158,
          -2.0753915721325034,
          -0.9460188157873365,
          -2.2164588683818245,
          -1.1050032337752818,
          -1.2249420379312017,
          -0.9457678869799038,
          -1.5965152624314691,
          -1.5966656493681,
          -1.1037647101546788,
          -0.9457681057957239,
          -1.3453990842830998,
          -1.1659428178552949,
          -0.18350798644529123,
          -2.808526041248144,
          -2.1705356954126196,
          -2.3044896061305975,
          -1.1055514087058678,
          -2.282113413821231,
          -1.2931247793216074,
          -1.1037634686784548,
          -1.1084072868177957,
          -0.9459479197736129,
          -2.073656832886091,
          -2.3048548568921428,
          -1.1037564078556763,
          -2.158237158922702,
          -1.9776664148787644,
          -2.165165638165847,
          -0.9458003517795639,
          -2.304364025514472,
          -0.5865053674419354,
          -2.206784558590665,
          -2.3065470635735155,
          -2.1650213812274317,
          -2.3046732618208967,
          -2.2623912500907872,
          -2.386351642860154,
          -2.2069856038223716,
          -2.304690744035124,
          -1.2852272102270579,
          -2.0849117154882912,
          -0.9457682525903867,
          -1.1037578923549,
          -2.2169964153898882,
          -2.0487576076416594,
          -0.7699657136608428,
          -2.3246395111836424,
          -1.3457744066228248,
          -0.94577033411174,
          -1.2852673561532326,
          -1.9801760987996515,
          -2.165057499786952,
          -1.3454002629705688,
          -2.3079420435371625,
          -2.1301450652071705,
          -2.130098457337088,
          -2.2359127836641917,
          -1.1037974473830063,
          -1.9777793147521114,
          -1.9776617805842258,
          -1.4793404308363487,
          -1.3454109965225711,
          -0.33603818276948505,
          -1.3454542700268597,
          -1.1549687366356123,
          -1.5972887435124183,
          -2.133739045504341,
          -1.1040024287779544,
          -1.3454095245030682,
          -1.1197494564640207,
          -1.245618281495654,
          -1.103747714682624,
          -1.1038180716227288,
          -1.8224312996981804,
          -2.339757229106887,
          -2.070350737725008,
          -2.3047561592202777,
          -1.9776627207277298
         ],
         "z": [
          0.17406015293696642,
          0.42008703781284895,
          -0.02847692407501587,
          0.46129111638802817,
          0.4200752603709451,
          0.3785646890574334,
          0.3707304866602817,
          -0.028457594285946002,
          0.1016626549093969,
          -0.028461505499991692,
          0.3744126454776901,
          -0.04704064215684922,
          0.1740096629108851,
          -0.02850369258693133,
          -0.028461869754734383,
          0.11057509588417792,
          0.10527053591599313,
          -0.028466776287660495,
          -0.02845800694968925,
          -0.02845691127111969,
          0.10166450076914872,
          0.3696597711608894,
          0.1677129617033904,
          -0.03267284346876807,
          -0.028461898793574764,
          -0.028531667482390926,
          -0.028462029322146455,
          -0.028455806770406548,
          0.22964363566686982,
          -0.028775028966533094,
          -0.028476995097295236,
          -0.028470277240728252,
          -0.05859391643970646,
          0.17405925401671718,
          -0.028510837001408097,
          -0.028461400059706803,
          -0.028455317381735606,
          -0.028467816495797695,
          0.44084813791346117,
          -0.028457072086908373,
          -0.029853550604823732,
          0.17406105998769686,
          -0.028566397745708086,
          -0.02845626839395416,
          -0.028473921892960594,
          -0.028464691804994394,
          0.1738631448218116,
          0.1740516138293299,
          0.1740577128299681,
          0.17406174591406837,
          0.1740661963381185,
          0.10166644927611754,
          -0.02846263248283035,
          0.2244377689151699,
          -0.028501785552061527,
          0.17405294525484782,
          0.38642062248492054,
          0.44522674227691783,
          -0.028479411837998618,
          -0.028654233014303043,
          -0.028502083770634765,
          -0.028455117016893083,
          -0.028505968566974182,
          -0.028728635207676764,
          0.40733256854766503,
          0.374970860938521,
          0.18734078370011184,
          -0.028457983819333118,
          -0.030249535533586846,
          0.42650391202721005,
          -0.02845514418996307,
          0.17406170636163978,
          -0.032907788105629054,
          0.10165603555342453,
          0.3198945329594629,
          0.17405947132467522,
          0.10166126641744223,
          -0.028474371210190638,
          -0.02848853332415432,
          0.4201138477178962,
          0.3120493639109554,
          0.10166150732221427,
          0.1740592801334713,
          -0.028524799463709668,
          0.43620346195576937,
          -0.02847885623689266,
          0.16683946375071623,
          0.10164990321802127,
          0.3676886210955812,
          -0.028463267283835778,
          0.3949699797346447,
          -0.02845777401397891,
          0.10166170098973223,
          -0.028455143181963443,
          0.10166519077040521,
          0.3397658689800314,
          0.4476713926888588,
          0.17406401937266602,
          0.3746470176982783,
          -0.028497834087566738,
          0.17406316186381923,
          -0.028459551001186384,
          0.4181405232524394,
          0.42010893163608287,
          0.378565192080037,
          -0.028994743000851822,
          0.10140835150971722,
          0.10163831286894043,
          0.447672805931123,
          -0.028455323625782864,
          0.4476702304239513,
          0.3199006065169811,
          0.09667411596179597,
          0.4612839338765174,
          -0.028455986314488334,
          0.10160975442633355,
          0.3785650138226838,
          -0.028488160904574726,
          0.31989533539594744,
          0.2586385610320959,
          -0.028666759957876615,
          -0.01000602918341413,
          -0.028462421247948573,
          0.1735706650244806,
          -0.028462309904131303,
          0.4612712991118057,
          0.4949178481364458,
          0.3214039626845058,
          0.2805819216539304,
          0.4470629174557624,
          0.10165196339758241,
          -0.028461025883818235,
          -0.028460037184772705,
          0.10165648532793521,
          0.1016651321011598,
          0.4476674609660217,
          0.3982450013077218,
          -0.08448713114595356,
          0.11769717162182625,
          0.10157873568362191,
          0.17406013348853552,
          -0.028963278883897905,
          -0.06910785307405307,
          -0.02845866470746569,
          -0.02846396535628933,
          -0.028469058712967576,
          -0.028469362826633492,
          0.44766725485999537,
          0.37606989542845465,
          0.10081132348354457,
          0.2297167260388683,
          0.37856189769556803,
          0.36767446717699437,
          -0.02848820257703633,
          0.10160004327346113,
          0.2297152267923893,
          0.4201004711500028,
          0.22971602002252975,
          0.3748204837785164,
          0.43807877885640284,
          0.447672216165633,
          0.41948557140987297,
          0.1016173406147421,
          0.4611221955643483,
          -0.029823854286285954,
          0.14016799423961518,
          0.10166463195478195,
          0.229715969904243,
          0.22960979256080843,
          -0.028470965320119997,
          0.10166326918038718,
          0.17405955686560348,
          0.2149103972102179,
          0.2113943861617076,
          0.38416761657526355,
          0.5035449308131655,
          0.44761976454024094,
          -0.03178166941256544,
          0.36765634435381433,
          0.2242201278358925,
          -0.028460412205553686,
          -0.03346524302681269,
          0.10158252616218351,
          0.4197326582538136,
          0.4476029443442717,
          -0.028457111562813824,
          0.3404510763843261,
          0.3785441318211706,
          0.41812141823132987,
          0.10165291216217845,
          0.44766865667217054,
          -0.010007821871529663,
          0.3198989027632053,
          0.5556658622593222,
          0.4181412162285234,
          0.44764503624507485,
          0.4544663357971791,
          0.42702953925494486,
          0.39067302878122906,
          0.44746648289060414,
          0.2181453966620345,
          0.4123686980761882,
          0.10166435669277958,
          -0.028456410725855922,
          0.46120687670429283,
          0.417699077863729,
          0.11602319069002316,
          0.4172503952977257,
          0.17336765197763543,
          0.10166415659586905,
          0.2181411623402586,
          0.37699603494828576,
          0.4181357688346335,
          0.17406013436267456,
          0.44675227317991756,
          0.407878914743826,
          0.4078787253693938,
          0.48525257714607994,
          -0.02847077662624153,
          0.3785449396810778,
          0.37855915968858334,
          0.18733407869938382,
          0.174048302216134,
          -0.10264001509044045,
          0.17403408109853707,
          -0.03321880032472176,
          0.22843836188817565,
          0.4075390096450859,
          -0.028725131104057444,
          0.1740576981805106,
          -0.0392848768982875,
          0.10526276813826575,
          -0.028456616412152292,
          -0.02848355635500761,
          0.3749882879029181,
          0.5161006956805753,
          0.42010950303376143,
          0.4473276785629925,
          0.3785647136523673
         ]
        },
        {
         "customdata": [
          [
           "Proof-of-BibleHash"
          ],
          [
           "SHA-256 + Hive"
          ],
          [
           "Proof-of-Authority"
          ],
          [
           "ECC 256K1"
          ],
          [
           "Leased POS"
          ]
         ],
         "hovertemplate": "<b>%{hovertext}</b><br><br>Class=%{marker.color}<br>PC 1=%{x}<br>PC 2=%{y}<br>PC 3=%{z}<br>Algorithm=%{customdata[0]}<extra></extra>",
         "hovertext": [
          "BiblePay",
          "LitecoinCash",
          "Poa Network",
          "Acute Angle Cloud",
          "Waves"
         ],
         "legendgroup": "2",
         "marker": {
          "color": [
           2,
           2,
           2,
           2,
           2
          ],
          "coloraxis": "coloraxis",
          "symbol": "square"
         },
         "mode": "markers",
         "name": "2",
         "scene": "scene",
         "showlegend": true,
         "type": "scatter3d",
         "x": [
          -0.11699947596715495,
          -0.36469609861036334,
          -0.41811540748779447,
          -0.40380200711650105,
          -0.28815609484297217
         ],
         "y": [
          4.011444907895415,
          3.5416682465846914,
          3.416597520837299,
          2.435216701956041,
          4.290575651413409
         ],
         "z": [
          8.501133021869233,
          12.030510186430769,
          13.322249181199698,
          22.970098756416384,
          7.628590252387027
         ]
        },
        {
         "customdata": [
          [
           "TRC10"
          ]
         ],
         "hovertemplate": "<b>%{hovertext}</b><br><br>Class=%{marker.color}<br>PC 1=%{x}<br>PC 2=%{y}<br>PC 3=%{z}<br>Algorithm=%{customdata[0]}<extra></extra>",
         "hovertext": [
          "BitTorrent"
         ],
         "legendgroup": "3",
         "marker": {
          "color": [
           3
          ],
          "coloraxis": "coloraxis",
          "symbol": "x"
         },
         "mode": "markers",
         "name": "3",
         "scene": "scene",
         "showlegend": true,
         "type": "scatter3d",
         "x": [
          34.03465600633945
         ],
         "y": [
          1.5874111998002007
         ],
         "z": [
          -0.6915531472718655
         ]
        }
       ],
       "layout": {
        "coloraxis": {
         "colorbar": {
          "title": {
           "text": "Class"
          }
         },
         "colorscale": [
          [
           0,
           "#0d0887"
          ],
          [
           0.1111111111111111,
           "#46039f"
          ],
          [
           0.2222222222222222,
           "#7201a8"
          ],
          [
           0.3333333333333333,
           "#9c179e"
          ],
          [
           0.4444444444444444,
           "#bd3786"
          ],
          [
           0.5555555555555556,
           "#d8576b"
          ],
          [
           0.6666666666666666,
           "#ed7953"
          ],
          [
           0.7777777777777778,
           "#fb9f3a"
          ],
          [
           0.8888888888888888,
           "#fdca26"
          ],
          [
           1,
           "#f0f921"
          ]
         ]
        },
        "legend": {
         "title": {
          "text": "Class"
         },
         "tracegroupgap": 0,
         "x": 0,
         "y": 1
        },
        "margin": {
         "t": 60
        },
        "scene": {
         "domain": {
          "x": [
           0,
           1
          ],
          "y": [
           0,
           1
          ]
         },
         "xaxis": {
          "title": {
           "text": "PC 1"
          }
         },
         "yaxis": {
          "title": {
           "text": "PC 2"
          }
         },
         "zaxis": {
          "title": {
           "text": "PC 3"
          }
         }
        },
        "template": {
         "data": {
          "bar": [
           {
            "error_x": {
             "color": "#2a3f5f"
            },
            "error_y": {
             "color": "#2a3f5f"
            },
            "marker": {
             "line": {
              "color": "#E5ECF6",
              "width": 0.5
             },
             "pattern": {
              "fillmode": "overlay",
              "size": 10,
              "solidity": 0.2
             }
            },
            "type": "bar"
           }
          ],
          "barpolar": [
           {
            "marker": {
             "line": {
              "color": "#E5ECF6",
              "width": 0.5
             },
             "pattern": {
              "fillmode": "overlay",
              "size": 10,
              "solidity": 0.2
             }
            },
            "type": "barpolar"
           }
          ],
          "carpet": [
           {
            "aaxis": {
             "endlinecolor": "#2a3f5f",
             "gridcolor": "white",
             "linecolor": "white",
             "minorgridcolor": "white",
             "startlinecolor": "#2a3f5f"
            },
            "baxis": {
             "endlinecolor": "#2a3f5f",
             "gridcolor": "white",
             "linecolor": "white",
             "minorgridcolor": "white",
             "startlinecolor": "#2a3f5f"
            },
            "type": "carpet"
           }
          ],
          "choropleth": [
           {
            "colorbar": {
             "outlinewidth": 0,
             "ticks": ""
            },
            "type": "choropleth"
           }
          ],
          "contour": [
           {
            "colorbar": {
             "outlinewidth": 0,
             "ticks": ""
            },
            "colorscale": [
             [
              0,
              "#0d0887"
             ],
             [
              0.1111111111111111,
              "#46039f"
             ],
             [
              0.2222222222222222,
              "#7201a8"
             ],
             [
              0.3333333333333333,
              "#9c179e"
             ],
             [
              0.4444444444444444,
              "#bd3786"
             ],
             [
              0.5555555555555556,
              "#d8576b"
             ],
             [
              0.6666666666666666,
              "#ed7953"
             ],
             [
              0.7777777777777778,
              "#fb9f3a"
             ],
             [
              0.8888888888888888,
              "#fdca26"
             ],
             [
              1,
              "#f0f921"
             ]
            ],
            "type": "contour"
           }
          ],
          "contourcarpet": [
           {
            "colorbar": {
             "outlinewidth": 0,
             "ticks": ""
            },
            "type": "contourcarpet"
           }
          ],
          "heatmap": [
           {
            "colorbar": {
             "outlinewidth": 0,
             "ticks": ""
            },
            "colorscale": [
             [
              0,
              "#0d0887"
             ],
             [
              0.1111111111111111,
              "#46039f"
             ],
             [
              0.2222222222222222,
              "#7201a8"
             ],
             [
              0.3333333333333333,
              "#9c179e"
             ],
             [
              0.4444444444444444,
              "#bd3786"
             ],
             [
              0.5555555555555556,
              "#d8576b"
             ],
             [
              0.6666666666666666,
              "#ed7953"
             ],
             [
              0.7777777777777778,
              "#fb9f3a"
             ],
             [
              0.8888888888888888,
              "#fdca26"
             ],
             [
              1,
              "#f0f921"
             ]
            ],
            "type": "heatmap"
           }
          ],
          "heatmapgl": [
           {
            "colorbar": {
             "outlinewidth": 0,
             "ticks": ""
            },
            "colorscale": [
             [
              0,
              "#0d0887"
             ],
             [
              0.1111111111111111,
              "#46039f"
             ],
             [
              0.2222222222222222,
              "#7201a8"
             ],
             [
              0.3333333333333333,
              "#9c179e"
             ],
             [
              0.4444444444444444,
              "#bd3786"
             ],
             [
              0.5555555555555556,
              "#d8576b"
             ],
             [
              0.6666666666666666,
              "#ed7953"
             ],
             [
              0.7777777777777778,
              "#fb9f3a"
             ],
             [
              0.8888888888888888,
              "#fdca26"
             ],
             [
              1,
              "#f0f921"
             ]
            ],
            "type": "heatmapgl"
           }
          ],
          "histogram": [
           {
            "marker": {
             "pattern": {
              "fillmode": "overlay",
              "size": 10,
              "solidity": 0.2
             }
            },
            "type": "histogram"
           }
          ],
          "histogram2d": [
           {
            "colorbar": {
             "outlinewidth": 0,
             "ticks": ""
            },
            "colorscale": [
             [
              0,
              "#0d0887"
             ],
             [
              0.1111111111111111,
              "#46039f"
             ],
             [
              0.2222222222222222,
              "#7201a8"
             ],
             [
              0.3333333333333333,
              "#9c179e"
             ],
             [
              0.4444444444444444,
              "#bd3786"
             ],
             [
              0.5555555555555556,
              "#d8576b"
             ],
             [
              0.6666666666666666,
              "#ed7953"
             ],
             [
              0.7777777777777778,
              "#fb9f3a"
             ],
             [
              0.8888888888888888,
              "#fdca26"
             ],
             [
              1,
              "#f0f921"
             ]
            ],
            "type": "histogram2d"
           }
          ],
          "histogram2dcontour": [
           {
            "colorbar": {
             "outlinewidth": 0,
             "ticks": ""
            },
            "colorscale": [
             [
              0,
              "#0d0887"
             ],
             [
              0.1111111111111111,
              "#46039f"
             ],
             [
              0.2222222222222222,
              "#7201a8"
             ],
             [
              0.3333333333333333,
              "#9c179e"
             ],
             [
              0.4444444444444444,
              "#bd3786"
             ],
             [
              0.5555555555555556,
              "#d8576b"
             ],
             [
              0.6666666666666666,
              "#ed7953"
             ],
             [
              0.7777777777777778,
              "#fb9f3a"
             ],
             [
              0.8888888888888888,
              "#fdca26"
             ],
             [
              1,
              "#f0f921"
             ]
            ],
            "type": "histogram2dcontour"
           }
          ],
          "mesh3d": [
           {
            "colorbar": {
             "outlinewidth": 0,
             "ticks": ""
            },
            "type": "mesh3d"
           }
          ],
          "parcoords": [
           {
            "line": {
             "colorbar": {
              "outlinewidth": 0,
              "ticks": ""
             }
            },
            "type": "parcoords"
           }
          ],
          "pie": [
           {
            "automargin": true,
            "type": "pie"
           }
          ],
          "scatter": [
           {
            "fillpattern": {
             "fillmode": "overlay",
             "size": 10,
             "solidity": 0.2
            },
            "type": "scatter"
           }
          ],
          "scatter3d": [
           {
            "line": {
             "colorbar": {
              "outlinewidth": 0,
              "ticks": ""
             }
            },
            "marker": {
             "colorbar": {
              "outlinewidth": 0,
              "ticks": ""
             }
            },
            "type": "scatter3d"
           }
          ],
          "scattercarpet": [
           {
            "marker": {
             "colorbar": {
              "outlinewidth": 0,
              "ticks": ""
             }
            },
            "type": "scattercarpet"
           }
          ],
          "scattergeo": [
           {
            "marker": {
             "colorbar": {
              "outlinewidth": 0,
              "ticks": ""
             }
            },
            "type": "scattergeo"
           }
          ],
          "scattergl": [
           {
            "marker": {
             "colorbar": {
              "outlinewidth": 0,
              "ticks": ""
             }
            },
            "type": "scattergl"
           }
          ],
          "scattermapbox": [
           {
            "marker": {
             "colorbar": {
              "outlinewidth": 0,
              "ticks": ""
             }
            },
            "type": "scattermapbox"
           }
          ],
          "scatterpolar": [
           {
            "marker": {
             "colorbar": {
              "outlinewidth": 0,
              "ticks": ""
             }
            },
            "type": "scatterpolar"
           }
          ],
          "scatterpolargl": [
           {
            "marker": {
             "colorbar": {
              "outlinewidth": 0,
              "ticks": ""
             }
            },
            "type": "scatterpolargl"
           }
          ],
          "scatterternary": [
           {
            "marker": {
             "colorbar": {
              "outlinewidth": 0,
              "ticks": ""
             }
            },
            "type": "scatterternary"
           }
          ],
          "surface": [
           {
            "colorbar": {
             "outlinewidth": 0,
             "ticks": ""
            },
            "colorscale": [
             [
              0,
              "#0d0887"
             ],
             [
              0.1111111111111111,
              "#46039f"
             ],
             [
              0.2222222222222222,
              "#7201a8"
             ],
             [
              0.3333333333333333,
              "#9c179e"
             ],
             [
              0.4444444444444444,
              "#bd3786"
             ],
             [
              0.5555555555555556,
              "#d8576b"
             ],
             [
              0.6666666666666666,
              "#ed7953"
             ],
             [
              0.7777777777777778,
              "#fb9f3a"
             ],
             [
              0.8888888888888888,
              "#fdca26"
             ],
             [
              1,
              "#f0f921"
             ]
            ],
            "type": "surface"
           }
          ],
          "table": [
           {
            "cells": {
             "fill": {
              "color": "#EBF0F8"
             },
             "line": {
              "color": "white"
             }
            },
            "header": {
             "fill": {
              "color": "#C8D4E3"
             },
             "line": {
              "color": "white"
             }
            },
            "type": "table"
           }
          ]
         },
         "layout": {
          "annotationdefaults": {
           "arrowcolor": "#2a3f5f",
           "arrowhead": 0,
           "arrowwidth": 1
          },
          "autotypenumbers": "strict",
          "coloraxis": {
           "colorbar": {
            "outlinewidth": 0,
            "ticks": ""
           }
          },
          "colorscale": {
           "diverging": [
            [
             0,
             "#8e0152"
            ],
            [
             0.1,
             "#c51b7d"
            ],
            [
             0.2,
             "#de77ae"
            ],
            [
             0.3,
             "#f1b6da"
            ],
            [
             0.4,
             "#fde0ef"
            ],
            [
             0.5,
             "#f7f7f7"
            ],
            [
             0.6,
             "#e6f5d0"
            ],
            [
             0.7,
             "#b8e186"
            ],
            [
             0.8,
             "#7fbc41"
            ],
            [
             0.9,
             "#4d9221"
            ],
            [
             1,
             "#276419"
            ]
           ],
           "sequential": [
            [
             0,
             "#0d0887"
            ],
            [
             0.1111111111111111,
             "#46039f"
            ],
            [
             0.2222222222222222,
             "#7201a8"
            ],
            [
             0.3333333333333333,
             "#9c179e"
            ],
            [
             0.4444444444444444,
             "#bd3786"
            ],
            [
             0.5555555555555556,
             "#d8576b"
            ],
            [
             0.6666666666666666,
             "#ed7953"
            ],
            [
             0.7777777777777778,
             "#fb9f3a"
            ],
            [
             0.8888888888888888,
             "#fdca26"
            ],
            [
             1,
             "#f0f921"
            ]
           ],
           "sequentialminus": [
            [
             0,
             "#0d0887"
            ],
            [
             0.1111111111111111,
             "#46039f"
            ],
            [
             0.2222222222222222,
             "#7201a8"
            ],
            [
             0.3333333333333333,
             "#9c179e"
            ],
            [
             0.4444444444444444,
             "#bd3786"
            ],
            [
             0.5555555555555556,
             "#d8576b"
            ],
            [
             0.6666666666666666,
             "#ed7953"
            ],
            [
             0.7777777777777778,
             "#fb9f3a"
            ],
            [
             0.8888888888888888,
             "#fdca26"
            ],
            [
             1,
             "#f0f921"
            ]
           ]
          },
          "colorway": [
           "#636efa",
           "#EF553B",
           "#00cc96",
           "#ab63fa",
           "#FFA15A",
           "#19d3f3",
           "#FF6692",
           "#B6E880",
           "#FF97FF",
           "#FECB52"
          ],
          "font": {
           "color": "#2a3f5f"
          },
          "geo": {
           "bgcolor": "white",
           "lakecolor": "white",
           "landcolor": "#E5ECF6",
           "showlakes": true,
           "showland": true,
           "subunitcolor": "white"
          },
          "hoverlabel": {
           "align": "left"
          },
          "hovermode": "closest",
          "mapbox": {
           "style": "light"
          },
          "paper_bgcolor": "white",
          "plot_bgcolor": "#E5ECF6",
          "polar": {
           "angularaxis": {
            "gridcolor": "white",
            "linecolor": "white",
            "ticks": ""
           },
           "bgcolor": "#E5ECF6",
           "radialaxis": {
            "gridcolor": "white",
            "linecolor": "white",
            "ticks": ""
           }
          },
          "scene": {
           "xaxis": {
            "backgroundcolor": "#E5ECF6",
            "gridcolor": "white",
            "gridwidth": 2,
            "linecolor": "white",
            "showbackground": true,
            "ticks": "",
            "zerolinecolor": "white"
           },
           "yaxis": {
            "backgroundcolor": "#E5ECF6",
            "gridcolor": "white",
            "gridwidth": 2,
            "linecolor": "white",
            "showbackground": true,
            "ticks": "",
            "zerolinecolor": "white"
           },
           "zaxis": {
            "backgroundcolor": "#E5ECF6",
            "gridcolor": "white",
            "gridwidth": 2,
            "linecolor": "white",
            "showbackground": true,
            "ticks": "",
            "zerolinecolor": "white"
           }
          },
          "shapedefaults": {
           "line": {
            "color": "#2a3f5f"
           }
          },
          "ternary": {
           "aaxis": {
            "gridcolor": "white",
            "linecolor": "white",
            "ticks": ""
           },
           "baxis": {
            "gridcolor": "white",
            "linecolor": "white",
            "ticks": ""
           },
           "bgcolor": "#E5ECF6",
           "caxis": {
            "gridcolor": "white",
            "linecolor": "white",
            "ticks": ""
           }
          },
          "title": {
           "x": 0.05
          },
          "xaxis": {
           "automargin": true,
           "gridcolor": "white",
           "linecolor": "white",
           "ticks": "",
           "title": {
            "standoff": 15
           },
           "zerolinecolor": "white",
           "zerolinewidth": 2
          },
          "yaxis": {
           "automargin": true,
           "gridcolor": "white",
           "linecolor": "white",
           "ticks": "",
           "title": {
            "standoff": 15
           },
           "zerolinecolor": "white",
           "zerolinewidth": 2
          }
         }
        },
        "width": 800
       }
      },
      "text/html": [
       "<div>                            <div id=\"81114012-58b4-406d-b61b-46ffc89eb6d4\" class=\"plotly-graph-div\" style=\"height:525px; width:800px;\"></div>            <script type=\"text/javascript\">                require([\"plotly\"], function(Plotly) {                    window.PLOTLYENV=window.PLOTLYENV || {};                                    if (document.getElementById(\"81114012-58b4-406d-b61b-46ffc89eb6d4\")) {                    Plotly.newPlot(                        \"81114012-58b4-406d-b61b-46ffc89eb6d4\",                        [{\"customdata\":[[\"Scrypt\"],[\"Scrypt\"],[\"X13\"],[\"X11\"],[\"SHA-512\"],[\"SHA-256\"],[\"SHA-256\"],[\"X15\"],[\"Scrypt\"],[\"Scrypt\"],[\"Scrypt\"],[\"Scrypt\"],[\"Scrypt\"],[\"Scrypt\"],[\"Groestl\"],[\"PoS\"],[\"Scrypt\"],[\"Scrypt\"],[\"X11\"],[\"X11\"],[\"SHA3\"],[\"Scrypt\"],[\"SHA-256\"],[\"Scrypt\"],[\"X13\"],[\"X13\"],[\"NeoScrypt\"],[\"Scrypt\"],[\"Scrypt\"],[\"Scrypt\"],[\"X11\"],[\"X11\"],[\"Multiple\"],[\"PHI1612\"],[\"X11\"],[\"Scrypt\"],[\"Scrypt\"],[\"Scrypt\"],[\"X11\"],[\"Multiple\"],[\"X13\"],[\"Scrypt\"],[\"Shabal256\"],[\"Counterparty\"],[\"SHA-256\"],[\"Groestl\"],[\"Scrypt\"],[\"X13\"],[\"Scrypt\"],[\"Scrypt\"],[\"X13\"],[\"X11\"],[\"Scrypt\"],[\"X11\"],[\"SHA3\"],[\"QUAIT\"],[\"X11\"],[\"Scrypt\"],[\"X13\"],[\"SHA-256\"],[\"X15\"],[\"BLAKE256\"],[\"SHA-256\"],[\"X11\"],[\"SHA-256\"],[\"NIST5\"],[\"Scrypt\"],[\"Scrypt\"],[\"X11\"],[\"Scrypt\"],[\"SHA-256\"],[\"Scrypt\"],[\"PoS\"],[\"X11\"],[\"SHA-256\"],[\"SHA-256\"],[\"NIST5\"],[\"X11\"],[\"POS 3.0\"],[\"Scrypt\"],[\"Scrypt\"],[\"Scrypt\"],[\"X13\"],[\"X11\"],[\"X11\"],[\"Scrypt\"],[\"SHA-256\"],[\"X11\"],[\"Scrypt\"],[\"Scrypt\"],[\"Scrypt\"],[\"Scrypt\"],[\"SHA-256D\"],[\"PoS\"],[\"Scrypt\"],[\"X11\"],[\"PoS\"],[\"X13\"],[\"X14\"],[\"PoS\"],[\"SHA-256D\"],[\"DPoS\"],[\"X11\"],[\"X13\"],[\"X11\"],[\"PoS\"],[\"Scrypt\"],[\"Scrypt\"],[\"PoS\"],[\"X11\"],[\"SHA-256\"],[\"Scrypt\"],[\"X11\"],[\"Scrypt\"],[\"Scrypt\"],[\"X11\"],[\"Scrypt\"],[\"Scrypt\"],[\"Scrypt\"],[\"Scrypt\"],[\"Quark\"],[\"QuBit\"],[\"Scrypt\"],[\"SHA-256\"],[\"X11\"],[\"Scrypt\"],[\"Scrypt\"],[\"Scrypt\"],[\"Scrypt\"],[\"X13\"],[\"Scrypt\"],[\"Scrypt\"],[\"X11\"],[\"Blake2S\"],[\"X11\"],[\"PoS\"],[\"X11\"],[\"PoS\"],[\"X11\"],[\"Scrypt\"],[\"Scrypt\"],[\"Scrypt\"],[\"SHA-256\"],[\"X11\"],[\"Scrypt\"],[\"PoS\"],[\"Scrypt\"],[\"X15\"],[\"SHA-256\"],[\"POS 3.0\"],[\"536\"],[\"NIST5\"],[\"NIST5\"],[\"Skein\"],[\"X13\"],[\"Scrypt\"],[\"X13\"],[\"SkunkHash v2 Raptor\"],[\"Skein\"],[\"X11\"],[\"Scrypt\"],[\"VeChainThor Authority\"],[\"PoS\"],[\"Scrypt\"],[\"Scrypt\"],[\"SHA-512\"],[\"Ouroboros\"],[\"X11\"],[\"NeoScrypt\"],[\"Scrypt\"],[\"Lyra2REv2\"],[\"Scrypt\"],[\"SHA-256\"],[\"NIST5\"],[\"PHI1612\"],[\"Scrypt\"],[\"Quark\"],[\"POS 2.0\"],[\"Scrypt\"],[\"SHA-256\"],[\"X11\"],[\"DPoS\"],[\"NIST5\"],[\"X13\"],[\"Scrypt\"],[\"NIST5\"],[\"Quark\"],[\"Scrypt\"],[\"Scrypt\"],[\"X11\"],[\"Quark\"],[\"Scrypt\"],[\"Scrypt\"],[\"X11\"],[\"POS 3.0\"],[\"Scrypt\"],[\"Scrypt\"],[\"X13\"],[\"C11\"],[\"X11\"],[\"XEVAN\"],[\"Scrypt\"],[\"VBFT\"],[\"NIST5\"],[\"Scrypt\"],[\"Scrypt\"],[\"Scrypt\"],[\"Green Protocol\"],[\"PoS\"],[\"Scrypt\"],[\"Semux BFT consensus\"],[\"Quark\"],[\"PoS\"],[\"X16R\"],[\"Scrypt\"],[\"XEVAN\"],[\"Scrypt\"],[\"Scrypt\"],[\"Scrypt\"],[\"SHA-256D\"],[\"Scrypt\"],[\"X15\"],[\"Scrypt\"],[\"Quark\"],[\"SHA-256\"],[\"DPoS\"],[\"X16R\"],[\"Quark\"],[\"Quark\"],[\"Scrypt\"],[\"Lyra2REv2\"],[\"Quark\"],[\"Scrypt\"],[\"X11\"],[\"X11\"],[\"Scrypt\"],[\"PoS\"],[\"Keccak\"],[\"X11\"],[\"Scrypt\"],[\"SHA-512\"],[\"XEVAN\"],[\"XEVAN\"],[\"X11\"],[\"Quark\"],[\"Equihash\"],[\"Scrypt\"],[\"Quark\"],[\"Quark\"],[\"Scrypt\"],[\"X11\"],[\"Scrypt\"],[\"XEVAN\"],[\"SHA-256D\"],[\"X11\"],[\"X11\"],[\"DPoS\"],[\"Scrypt\"],[\"X11\"],[\"Scrypt\"],[\"Scrypt\"],[\"SHA-256\"],[\"Scrypt\"],[\"X11\"],[\"Scrypt\"],[\"SHA-256\"],[\"X11\"],[\"Scrypt\"],[\"Scrypt\"],[\"X11\"],[\"Scrypt\"],[\"PoS\"],[\"X11\"],[\"SHA-256\"],[\"DPoS\"],[\"Scrypt\"],[\"Scrypt\"],[\"NeoScrypt\"],[\"X13\"],[\"DPoS\"],[\"DPoS\"],[\"SHA-256\"],[\"PoS\"],[\"PoS\"],[\"SHA-256\"],[\"Scrypt\"],[\"Scrypt\"]],\"hovertemplate\":\"<b>%{hovertext}</b><br><br>Class=%{marker.color}<br>PC 1=%{x}<br>PC 2=%{y}<br>PC 3=%{z}<br>Algorithm=%{customdata[0]}<extra></extra>\",\"hovertext\":[\"42 Coin\",\"404Coin\",\"EliteCoin\",\"Dash\",\"Bitshares\",\"BitcoinDark\",\"PayCoin\",\"KoboCoin\",\"Aurora Coin\",\"BlueCoin\",\"EnergyCoin\",\"BitBar\",\"CryptoBullion\",\"CasinoCoin\",\"Diamond\",\"Exclusive Coin\",\"FlutterCoin\",\"HoboNickels\",\"HyperStake\",\"IOCoin\",\"MaxCoin\",\"MintCoin\",\"MazaCoin\",\"Nautilus Coin\",\"NavCoin\",\"OpalCoin\",\"Orbitcoin\",\"PotCoin\",\"PhoenixCoin\",\"Reddcoin\",\"SuperCoin\",\"SyncCoin\",\"TeslaCoin\",\"TittieCoin\",\"TorCoin\",\"UnitaryStatus Dollar\",\"UltraCoin\",\"VeriCoin\",\"X11 Coin\",\"Crypti\",\"StealthCoin\",\"ZCC Coin\",\"BurstCoin\",\"StorjCoin\",\"Neutron\",\"FairCoin\",\"RubyCoin\",\"Kore\",\"Dnotes\",\"8BIT Coin\",\"Sativa Coin\",\"Ucoin\",\"Vtorrent\",\"IslaCoin\",\"Nexus\",\"Droidz\",\"Squall Coin\",\"Diggits\",\"Paycon\",\"Emercoin\",\"EverGreenCoin\",\"Decred\",\"EDRCoin\",\"Hitcoin\",\"DubaiCoin\",\"PWR Coin\",\"BillaryCoin\",\"GPU Coin\",\"EuropeCoin\",\"ZeitCoin\",\"SwingCoin\",\"SafeExchangeCoin\",\"Nebuchadnezzar\",\"Ratecoin\",\"Revenu\",\"Clockcoin\",\"VIP Tokens\",\"BitSend\",\"Let it Ride\",\"PutinCoin\",\"iBankCoin\",\"Frankywillcoin\",\"MudraCoin\",\"Lutetium Coin\",\"GoldBlocks\",\"CarterCoin\",\"BitTokens\",\"MustangCoin\",\"ZoneCoin\",\"RootCoin\",\"BitCurrency\",\"Swiscoin\",\"BuzzCoin\",\"Opair\",\"PesoBit\",\"Halloween Coin\",\"CoffeeCoin\",\"RoyalCoin\",\"GanjaCoin V2\",\"TeamUP\",\"LanaCoin\",\"ARK\",\"InsaneCoin\",\"EmberCoin\",\"XenixCoin\",\"FreeCoin\",\"PLNCoin\",\"AquariusCoin\",\"Creatio\",\"Eternity\",\"Eurocoin\",\"BitcoinFast\",\"Stakenet\",\"BitConnect Coin\",\"MoneyCoin\",\"Enigma\",\"Russiacoin\",\"PandaCoin\",\"GameUnits\",\"GAKHcoin\",\"Allsafe\",\"LiteCreed\",\"Klingon Empire Darsek\",\"Internet of People\",\"KushCoin\",\"Printerium\",\"Impeach\",\"Zilbercoin\",\"FirstCoin\",\"FindCoin\",\"OpenChat\",\"RenosCoin\",\"VirtacoinPlus\",\"TajCoin\",\"Impact\",\"Atmos\",\"HappyCoin\",\"MacronCoin\",\"Condensate\",\"Independent Money System\",\"ArgusCoin\",\"LomoCoin\",\"ProCurrency\",\"GoldReserve\",\"GrowthCoin\",\"Phreak\",\"Degas Coin\",\"HTML5 Coin\",\"Ultimate Secure Cash\",\"QTUM\",\"Espers\",\"Denarius\",\"Virta Unique Coin\",\"Bitcoin Planet\",\"BritCoin\",\"Linda\",\"DeepOnion\",\"Signatum\",\"Cream\",\"Monoeci\",\"Draftcoin\",\"Vechain\",\"Stakecoin\",\"CoinonatX\",\"Ethereum Dark\",\"Obsidian\",\"Cardano\",\"Regalcoin\",\"TrezarCoin\",\"TerraNovaCoin\",\"Rupee\",\"WomenCoin\",\"Theresa May Coin\",\"NamoCoin\",\"LUXCoin\",\"Xios\",\"Bitcloud 2.0\",\"KekCoin\",\"BlackholeCoin\",\"Infinity Economics\",\"Magnet\",\"Lamden Tau\",\"Electra\",\"Bitcoin Diamond\",\"Cash & Back Coin\",\"Bulwark\",\"Kalkulus\",\"GermanCoin\",\"LiteCoin Ultra\",\"PhantomX\",\"Digiwage\",\"Trollcoin\",\"Litecoin Plus\",\"Monkey Project\",\"TokenPay\",\"My Big Coin\",\"Unified Society USDEX\",\"Tokyo Coin\",\"Stipend\",\"Pushi\",\"Ellerium\",\"Velox\",\"Ontology\",\"Bitspace\",\"Briacoin\",\"Ignition\",\"MedicCoin\",\"Bitcoin Green\",\"Deviant Coin\",\"Abjcoin\",\"Semux\",\"Carebit\",\"Zealium\",\"Proton\",\"iDealCash\",\"Bitcoin Incognito\",\"HollyWoodCoin\",\"Swisscoin\",\"Xt3ch\",\"TheVig\",\"EmaratCoin\",\"Dekado\",\"Lynx\",\"Poseidon Quark\",\"BitcoinWSpectrum\",\"Muse\",\"Trivechain\",\"Dystem\",\"Giant\",\"Peony Coin\",\"Absolute Coin\",\"Vitae\",\"TPCash\",\"ARENON\",\"EUNO\",\"MMOCoin\",\"Ketan\",\"XDNA\",\"PAXEX\",\"ThunderStake\",\"Kcash\",\"Bettex coin\",\"BitMoney\",\"Junson Ming Chan Coin\",\"HerbCoin\",\"PirateCash\",\"Oduwa\",\"Galilel\",\"Crypto Sports\",\"Credit\",\"Dash Platinum\",\"Nasdacoin\",\"Beetle Coin\",\"Titan Coin\",\"Award\",\"Insane Coin\",\"ALAX\",\"LiteDoge\",\"TruckCoin\",\"OrangeCoin\",\"BitstarCoin\",\"NeosCoin\",\"HyperCoin\",\"PinkCoin\",\"AudioCoin\",\"IncaKoin\",\"Piggy Coin\",\"Genstake\",\"XiaoMiCoin\",\"CapriCoin\",\" ClubCoin\",\"Radium\",\"Creditbit \",\"OKCash\",\"Lisk\",\"HiCoin\",\"WhiteCoin\",\"FriendshipCoin\",\"Triangles Coin\",\"EOS\",\"Oxycoin\",\"TigerCash\",\"Particl\",\"Nxt\",\"ZEPHYR\",\"Gapcoin\",\"BitcoinPlus\"],\"legendgroup\":\"0\",\"marker\":{\"color\":[0,0,0,0,0,0,0,0,0,0,0,0,0,0,0,0,0,0,0,0,0,0,0,0,0,0,0,0,0,0,0,0,0,0,0,0,0,0,0,0,0,0,0,0,0,0,0,0,0,0,0,0,0,0,0,0,0,0,0,0,0,0,0,0,0,0,0,0,0,0,0,0,0,0,0,0,0,0,0,0,0,0,0,0,0,0,0,0,0,0,0,0,0,0,0,0,0,0,0,0,0,0,0,0,0,0,0,0,0,0,0,0,0,0,0,0,0,0,0,0,0,0,0,0,0,0,0,0,0,0,0,0,0,0,0,0,0,0,0,0,0,0,0,0,0,0,0,0,0,0,0,0,0,0,0,0,0,0,0,0,0,0,0,0,0,0,0,0,0,0,0,0,0,0,0,0,0,0,0,0,0,0,0,0,0,0,0,0,0,0,0,0,0,0,0,0,0,0,0,0,0,0,0,0,0,0,0,0,0,0,0,0,0,0,0,0,0,0,0,0,0,0,0,0,0,0,0,0,0,0,0,0,0,0,0,0,0,0,0,0,0,0,0,0,0,0,0,0,0,0,0,0,0,0,0,0,0,0,0,0,0,0,0,0,0,0,0,0,0,0,0,0,0,0,0,0,0,0,0,0,0,0,0,0,0,0,0],\"coloraxis\":\"coloraxis\",\"symbol\":\"circle\"},\"mode\":\"markers\",\"name\":\"0\",\"scene\":\"scene\",\"showlegend\":true,\"x\":[-0.33510106330476974,-0.3184611078109079,2.311974090577358,-0.3898062189495112,-0.2577137680255147,-0.31461791627980035,-0.2834100992495883,-0.23604625784698383,-0.3347611249440313,-0.327347419840723,-0.333599412723489,-0.3350970067125464,-0.3350813088157935,0.6925588135878088,-0.3659832071446454,-0.38793312125049784,-0.2920086135626311,-0.3331627205710385,-0.33844585892626794,-0.3897010396130975,-0.3899450699327014,-0.044121429609797376,-0.2779793132663407,-0.30364475423431003,-0.26738273910923244,-0.26800421207802505,-0.3410859491824028,-0.3294121056493977,-0.3335051741675635,0.022616798734997428,-0.3583089432688242,-0.39007206491264335,-0.2614191860904491,-0.3347150850941637,-0.38998385777783007,-0.310370227991862,-0.33378051139188963,-0.30130493507962675,-0.38994835393189325,-0.26188588471725394,-0.2677853347002041,-0.3262195730336503,0.0948807356112022,-0.3472652470058833,-0.3138307873553232,-0.3654054329529296,-0.30362495824199803,-0.26807956808484834,-0.29828775107599637,-0.3350831530522928,-0.26803180035540414,-0.35875335898086036,-0.33481794626655315,-0.390053615653394,-0.36230808235088435,-0.4141354310617195,-0.36843636335002516,-0.30202887354480334,-0.267554198317119,-0.3071882115800012,-0.23848323945227579,-0.06273184246091423,-0.3145888646377488,-0.06803255604860597,-0.3146524276979024,-0.2269637953642049,-0.3346940805690567,-0.30189866344996663,-0.3872280373387242,0.8476691458510894,-0.3144528708337677,-0.03716138997155204,-0.38761686711824594,-0.3878995291773601,-0.31319879191140054,-0.310871257765569,-0.3481793126952669,-0.3887909818501789,-0.36771109196264773,-0.31102811874173436,-0.33473214456158173,-0.33317326563018274,-0.23556861773902082,-0.3462620582234716,-0.389528387668789,-0.33393753492484723,-0.3146334534367263,-0.3900428346612879,-0.33492096908539737,-0.33507739297264794,-0.301887175842692,-0.2650379280828598,0.05060770576025051,-0.3865754434154945,-0.33469200634437557,-0.3762288949452295,-0.3859047110197815,-0.23699656541213437,-0.42283306122164444,-0.38565522177180694,-0.26348516696797025,3.752708792775984,-0.3896359915039047,0.8627912706855269,-0.3899978019752366,-0.3870385275729679,-0.33461983517324695,-0.3347739955708421,-0.38761686711824594,-0.3895734845709042,-0.31449628398161783,-0.3346205430901791,-0.36853058025907115,-0.3347677349389085,-0.3303640304886836,-0.39002676714017637,-0.33397993857188185,0.33870678040253716,-0.33496670199923256,-0.3350371423843596,-0.36443349631596783,-0.33275168178509534,-0.33127079743903454,-0.3146098950385478,-0.3899368464608542,-0.3348152982904081,-0.3349421106517791,-0.3035318476697986,-0.29346089177578294,-0.23676475289798662,-0.31582307927184367,-0.3032731841121461,-0.38920390358616724,-0.4106126931507527,-0.3879438158249551,-0.3858659364841334,-0.3891019096242007,-0.3802738884915405,-0.3850496522682445,-0.3348854607677757,-0.3348846878186731,-0.3280192957685525,0.2482570141730143,-0.3895795290052076,-0.2862040009429759,-0.3876511696439792,-0.33409749263674376,0.8941099049430073,-0.2821029768171119,-0.3664912134327611,0.5636075775238865,-0.3497127538678938,-0.3482172918124951,-0.4102233221614382,-0.2677173648199682,0.12905141578051754,-0.2677879991477419,-0.3792867993693125,-0.40972879345896696,-0.38985144193082594,-0.30360577825310653,4.429765385231026,-0.38751775669340127,-0.3345212207616984,-0.33502009657810344,-0.3156920188882499,0.64743497585202,-0.38979242519972157,-0.3360930447828598,-0.3349758206765758,-0.3215711737268853,0.43310849186555095,-0.31295850824070154,-0.3345034399670654,-0.401403765147387,-0.33492624392767795,-0.3940224790804787,-0.3620005576851047,-0.3347967662236144,-0.11014305251470652,-0.38858707888733945,3.757557224389298,0.20897105652919626,-0.2644637242685033,-0.33226099767577444,-0.3183322626499568,-0.36431955955459683,0.07861398169127566,-0.33393697781479265,-0.38916707288070207,-0.36348577309806385,-0.32152111633334207,-0.33504220090917985,-0.358725326565239,-0.36799263334016036,-0.29418670018042625,-0.3305938405917537,-0.22857404837648201,-0.3495770964125651,-0.3898687421558656,-0.3352682687538146,-0.3027672758751404,-0.3585393654615093,-0.34931238392668174,-0.3350695183716603,-0.3350512607659826,-0.2971571872805803,-0.3566923813396387,-0.38711282304063666,-0.3347682290702938,3.9705535236595733,-0.39269208423010127,-0.38730122967157415,-0.34171803331420225,-0.28172586572046643,-0.3137845640845652,-0.3033003918976566,-0.13846561871993235,-0.3035522389889329,-0.3286868675130521,-0.3342431460668921,-0.20668367997917647,2.212418049721916,-0.36003564412838196,-0.28223006578385623,1.0228815806308726,-0.3721999473285452,-0.36443296191687324,-0.3957036863569551,-0.184506694944505,-0.3526440760818662,-0.36315439541189204,-0.3279594580127774,-0.35830339988841636,-0.38934282393730674,-0.3008020296123061,-0.386402724083252,-0.35790167473514173,-0.3581651605103516,-0.1948051583575754,-0.2398739711152622,-0.30411692739761265,0.4408466143621332,-0.14892673810446203,-0.3949993880774878,-0.2656138443563571,-0.3347721547516373,-0.39545479675041045,-0.36454976301306463,0.5703039468556421,-0.35877957091762513,-0.3342559928068414,-0.32973258489155355,-0.28348399746649794,-0.3869121435317056,-0.3895696945144276,3.7697820030202407,0.09947321372457961,-0.3871121200634896,-0.3336427692491348,-0.33446608449382365,-0.2834427312347975,-0.3349835411527228,-0.3812097272207319,-0.2488393487965582,-0.09453870763976215,-0.37696553755821177,-0.3342627900473047,-0.32733719917164494,-0.38614323608776563,-0.33270453031545955,-0.38789211775603666,-0.37562071991631674,-0.31313514194104103,3.7530999738079305,-0.11111131995540549,-0.3299033120130833,-0.3407125223675732,-0.26818658795516354,3.7629570266297883,3.764199683330268,-0.2643669311334757,-0.3878280587207147,-0.4286960637648889,2.482883452428804,-0.3331499539495682,-0.303948030475103],\"y\":[1.0539101470393515,1.0539930075923163,1.6675335454787583,1.2118895830677456,1.5895412275021494,0.8122504815340201,0.5414407507991431,1.911929898915578,1.0539075882029592,1.054127382926669,1.053952219206747,1.0539099004371428,1.053909979962133,0.6577270000269914,0.9120673239565169,1.4190476129183056,0.4264431144658381,1.0538779852236069,0.941653478578408,1.2118925299047263,2.0756195970805593,0.7903716658157169,0.8115496344378542,0.7830888740563391,1.821642085004928,1.8216246730342036,0.5611491329902576,1.0537668949294094,1.0538842432435414,1.063932421978175,0.9410969693488221,1.21189798670321,0.06438285336794944,1.481278422218105,1.2118932530043685,1.0534501186660639,1.0538750879001515,0.3575521841670217,1.2118974903087094,0.06444183516828235,1.8216308053789496,1.0534384079273371,1.348981375200673,1.4158483870121468,0.8122393883187822,0.9120866677220746,0.7831010875760397,1.8216139148751098,0.7828903344160876,1.0539106488658554,1.8216166943444363,0.9410701065540061,1.0539036677501743,1.2118985043215063,2.3405700604913076,1.9146439320486859,0.7849223487305643,0.783073748080653,1.8216012524785352,0.8117539199675611,1.91209487266718,0.9694305941639006,0.812251295481475,1.2017894081442742,0.8122578012216434,1.574597874052053,1.0538912854958968,0.7829901688101002,1.2117009688037503,0.7440203519776998,0.8122421353202427,0.6645577840809114,1.4190420620094835,1.211904812862372,0.8121456042607023,0.8119930038339197,1.5711368955207585,1.211833720052248,1.4152752461080795,1.0531434566975066,1.0538885377075526,1.0538921012634934,1.550698380966974,0.9409610728430594,1.2118771910624175,1.0538778942725398,0.8122507667996094,1.2118966446528467,1.0539000607587325,1.0539108102475134,0.7831497754800703,0.39359039267530516,1.9583060651387016,1.4190323288441378,1.0539216077254825,1.2112049738701975,1.419075620524673,1.5508006870943798,1.8677773793625656,1.418894540596148,1.9585088967507418,1.9391708194698136,1.2118885877811898,1.85269397780386,1.2118972914601494,1.4190366482744496,1.053895858835229,1.0538890464963886,1.4190420620094835,1.2118687218289315,0.8122553304862904,1.0538998309822827,0.7141611508762431,1.0538993099406482,1.0535740170825552,1.2118956536724315,1.053837795232839,0.7776680543840849,1.0539045440411505,1.0539095486868395,1.4191398629086718,0.6783335167692478,1.0536571735410964,0.8122514268414132,1.2118950356236524,1.0539037419392145,1.0538987958942778,0.783064064699487,0.43584992515968213,1.5507985171380978,1.0537296892124586,0.7830861365323821,1.2118502535089177,1.9143269101946323,1.2118783519755398,1.4190260576268694,1.2118531111004291,1.4189739739745948,1.2116784145833805,1.05390090275564,1.0538956008967173,1.0533879846247223,0.5023025511854592,1.2118829639640014,0.7821480267367923,1.4190338952048656,1.05386260408281,1.8789943046541595,0.5413422044594526,1.415261505581074,1.696289692416447,1.5711515786325911,1.5711142142245471,1.9995954821565225,1.8216110924835125,1.030885719567148,1.8216171131824084,1.2973014686046278,1.999609337496533,1.2118973179815848,0.7830890827110575,2.9734742494626203,1.4190148629515822,1.0538916235245719,1.0539093891240374,1.5904454612987777,1.467021021250738,1.2118863666599509,0.561003507392125,1.0539023189916017,0.5940639825459091,1.057418920657999,0.8122407688171911,1.5707202186862126,1.752715007947149,1.0538999129720974,1.68986848817831,1.4682473417156316,1.0539080165907226,0.5398190585409568,1.2118358299840002,1.9390364439296437,1.5651943494743932,1.8215725472297934,1.0538383973537755,1.3003270745215714,1.4191394522338263,1.0294726007834178,1.0538346754305377,1.2118873141133437,1.419090755229238,1.0536421032355123,1.0539089139360471,0.9410701713713487,1.4152734829701792,0.4898528896875744,1.0538692538979522,1.5504620051393634,0.9917158435512188,1.2118856696161855,1.387764715742283,0.7830357662891407,1.3793061450989599,1.5711339729348255,1.0539088691497336,1.0539079395294906,0.7829220097176639,1.325112818476389,1.419007184900122,1.053897854948083,2.078005124027306,1.6899057621988223,1.4190076708556885,0.6015981673884988,1.0517148281498012,0.9608129209052997,0.7830914461075683,1.0520694771352121,0.7830714197065267,1.9620186960165984,1.0538736553303043,1.6412489734641054,0.23889435546680543,1.4188055140805098,0.5414105729266557,1.6581064225724573,0.8724080263082352,1.4191355544360014,1.6899617885123674,0.7742751629861543,0.8648638023111432,1.419114451008116,1.0533896611147773,0.9410574930793525,1.2118823900500202,0.78299282901948,1.4189391698785938,0.8377457537502877,0.9410289403301421,1.044870518925513,1.9999808853331493,1.116953763000764,0.7983851137618275,0.946963285358734,1.689946321693449,-0.09086585992519329,1.0539042301288466,1.689958756545831,1.419137779970119,1.0253781675254026,0.9410695883395711,1.0538732953998307,1.3876027578065455,1.9597543431765052,1.2116838786127488,1.211890445241285,1.9390186616609983,1.0408656320184417,1.2119809169728517,1.0538068896399604,1.0538888418786956,0.5414337116597626,1.0539134397185008,1.211785998767841,1.048760935215846,0.8182954418263512,1.2115446222505946,1.053922824578072,1.053839439610494,1.2118581830195356,1.0538619994927125,1.41904227655633,0.5775059421594764,0.8122322171537153,1.939156617993718,0.7812826840216682,1.053839601573634,0.5611189563400124,1.821619476892648,1.9395480186906038,1.93958283452842,0.5412627212202424,1.4190443349443473,1.5284917564113987,0.8221717359800034,1.0537846682661964,0.7830913154026006],\"z\":[-0.5973320573893082,-0.5976577667490933,-0.69504543935428,-0.46721395894530876,-0.09776648708367806,-0.3948122849115452,-0.03466047447655243,-0.6656450843491792,-0.5973380242960764,-0.5975126911445253,-0.5973670407897351,-0.5973320936796572,-0.597332401168265,-0.5379487590338445,-0.4635895837816805,0.027623068781432444,-0.3391522107356886,-0.5973632415743578,-0.10753309030170248,-0.46721640926922325,-0.7401843028501732,-0.24323094826449315,-0.39538671345574034,-0.2371830458345015,-0.6715354868043604,-0.6715210085795619,-0.33915900015417677,-0.5974156865809455,-0.5973578252163814,-0.6056656774890634,-0.10707034740740236,-0.4672103271704604,0.1662389899074781,-0.08959770492292095,-0.4672112178265582,-0.5977219002049768,-0.5973511779095523,-0.4173397825406948,-0.46721256892159413,0.16623821852014367,-0.6715261076844927,-0.5974225272543942,-0.7080997505503485,0.0036735937121007956,-0.3948252661713506,-0.4636035539747706,-0.2371853909960718,-0.6715178557716581,-0.23725151046894682,-0.597332474642691,-0.6715192014765357,-0.1070576652413542,-0.5973363242882594,-0.4672107570924359,-0.708004830468836,-0.6576400894306862,-0.061092601353489456,-0.23721093049631076,-0.6715256704370102,-0.3948714947190071,-0.665626002405019,-0.4158033865813852,-0.3948129617168536,-0.4716213087723543,-0.3948128199594203,-0.5817404063637832,-0.597336648285185,-0.23719986871500243,-0.46723187099584096,-0.25247920900107457,-0.3948140340134411,-0.5253562446840941,0.027618029904802797,-0.4672522071257,-0.3948219735227455,-0.39484100064681366,-0.5789060140006711,-0.46722398719331204,0.024959459449091784,-0.5976599980014424,-0.5973354898317267,-0.597365324688395,-0.311373407262925,-0.10727449884221009,-0.4672171711877021,-0.5973486841798397,-0.39481203938709214,-0.467210658936448,-0.5973338077650164,-0.5973326088331254,-0.23722587546682433,-0.5003188857840053,-0.7095893290373706,0.02760005594539425,-0.597341587042185,-0.467358168096067,0.02758047120694225,-0.31136313756852413,-0.6625942674268389,0.027605049518137692,-0.7037268119485628,-0.03446091567564416,-0.46721699315950477,-0.6977657576287416,-0.4672116086857533,0.027608049710883282,-0.5973387808312364,-0.5973347865350871,0.027618029904802797,-0.46721495619275205,-0.3948153514118302,-0.5973394094107645,0.024811255999324877,-0.5973365625315553,-0.5973666521603302,-0.46721080037768037,-0.597341408616258,-0.2483635530600559,-0.5973336738536633,-0.597333160449239,-0.0980656051897444,-0.38154693466514505,-0.5973630702156149,-0.3948125882183394,-0.4672123882512803,-0.5973363859771755,-0.5973332065615163,-0.237181156017977,-0.5783498880808473,-0.311367137872261,-0.597664730505961,-0.2371895775718001,-0.46721890862688525,-0.7132461047977601,-0.46724710003399716,0.027587752397914472,-0.4672212847423135,0.027491210049436315,-0.46726911310878994,-0.5973346102899566,-0.5973337680604273,-0.5973805997826619,-0.03831506226897062,-0.4672171441561734,-0.23735836272807798,0.027619993427177286,-0.5973432111206991,-0.6815351634748922,-0.034669083920808745,0.024938783580369706,-0.6955543734145057,-0.5788796051049828,-0.5789016360477491,-0.7126163625274936,-0.6715241979859912,-0.602323299305612,-0.6715238451273284,0.011600397277910885,-0.7126278833788954,-0.46721436004216843,-0.23718381110200684,3.4803597116589935,0.027620564820982813,-0.5973399473597623,-0.5973334546024808,-0.09682439462317688,0.13255776608117376,-0.46721369809858226,-0.33922918139998015,-0.5973331431528884,0.015725672606632008,-0.6123177769632812,-0.39484186128834486,-0.5790953685262717,-0.44918486022383425,-0.5973336848789759,-0.4582346939749068,-0.16238395623388543,-0.5973374245593536,-0.037650517697831135,-0.46722815525027134,-0.03453020319086795,-0.5884030510620788,-0.6715790378355323,-0.5973737691749204,-0.21872864838068817,-0.09806767733754218,-0.6011482771474707,-0.5973417108235419,-0.4672255886040463,-0.09807545785895797,-0.5975436293458808,-0.5973329629338777,-0.10705820186320508,0.02496502868313257,-0.3216105307687424,-0.5974100466577513,-0.3114664937951687,-0.3539663558312387,-0.4672121530486522,-0.45284259579589686,-0.2371909336775969,-0.040394908529856825,-0.5788842748179933,-0.5973324429680245,-0.5973326354308428,-0.23727784879354252,0.0022567964275484213,0.02761420522366957,-0.5973363181421238,-0.04116770391493559,-0.45826568768932757,0.027617662951589343,0.009422620124801835,-0.5979791250783258,-0.046725869965153044,-0.23718992488570978,-0.6007253233077459,-0.2371819617970915,-0.7030701787887219,-0.5973422631041448,-0.30547945401213034,-0.4533926248371668,-0.09809412160483708,-0.03467774634147598,-0.021462358578530915,-0.35074283569142084,-0.09806491900593331,-0.45821821552051123,-0.23799495597189788,-0.3444270685459687,-0.0980855066201254,-0.5973819938006208,-0.10706407240898255,-0.467221494196994,-0.23722088159659024,0.027611867860154425,-0.4503199309812225,-0.10706205316908737,-0.5985045784291562,-0.20780254765053371,-0.09268952788757355,-0.13895034273571455,-0.11194824682935442,-0.4582289353710843,0.16983616632190635,-0.5973372746372468,-0.4582223970549203,-0.09806308636314615,-0.6097153103735254,-0.10705708952328026,-0.5973419638184184,-0.45292032544168875,-0.7035527025551696,-0.4672350384554188,-0.46721853765583093,-0.03475677985656356,-0.6033808106952122,-0.4672792840220592,-0.5973427429452579,-0.5973405327357845,-0.03465872453051602,-0.5973347952640968,-0.46735857041560747,-0.5981190558604231,-0.3999198267099569,-0.4673992262658967,-0.5973498397509795,-0.5974663536844307,-0.4672776364570232,-0.5973692583057446,0.02762316148852247,-0.22347877502946004,-0.39483716412407943,-0.0344659630140562,-0.2405048916918932,-0.5974182157990027,-0.3391611328009229,-0.6715167458638577,-0.034714219835988984,-0.03474316954733738,-0.034989132655643844,0.02762162652863964,0.13875729184621585,-0.048289601423137804,-0.5973484019342461,-0.23717774806340136],\"type\":\"scatter3d\"},{\"customdata\":[[\"SHA-256\"],[\"Ethash\"],[\"Scrypt\"],[\"CryptoNight-V7\"],[\"Ethash\"],[\"Equihash\"],[\"Multiple\"],[\"Scrypt\"],[\"X11\"],[\"Scrypt\"],[\"Multiple\"],[\"Scrypt\"],[\"SHA-256\"],[\"Scrypt\"],[\"Scrypt\"],[\"Quark\"],[\"Groestl\"],[\"Scrypt\"],[\"Scrypt\"],[\"Scrypt\"],[\"X11\"],[\"Multiple\"],[\"SHA-256\"],[\"Scrypt\"],[\"Scrypt\"],[\"Scrypt\"],[\"Scrypt\"],[\"Scrypt\"],[\"NeoScrypt\"],[\"Scrypt\"],[\"Scrypt\"],[\"Scrypt\"],[\"Scrypt\"],[\"SHA-256\"],[\"Scrypt\"],[\"Scrypt\"],[\"Scrypt\"],[\"Scrypt\"],[\"HybridScryptHash256\"],[\"Scrypt\"],[\"Scrypt\"],[\"SHA-256\"],[\"Scrypt\"],[\"Scrypt\"],[\"Scrypt\"],[\"Scrypt\"],[\"SHA-256\"],[\"SHA-256\"],[\"SHA-256\"],[\"SHA-256\"],[\"SHA-256\"],[\"X11\"],[\"Scrypt\"],[\"Lyra2REv2\"],[\"Scrypt\"],[\"SHA-256\"],[\"CryptoNight\"],[\"CryptoNight\"],[\"Scrypt\"],[\"Scrypt\"],[\"Scrypt\"],[\"Scrypt\"],[\"Scrypt\"],[\"Scrypt\"],[\"Stanford Folding\"],[\"Multiple\"],[\"QuBit\"],[\"Scrypt\"],[\"Scrypt\"],[\"M7 POW\"],[\"Scrypt\"],[\"SHA-256\"],[\"Scrypt\"],[\"X11\"],[\"Lyra2RE\"],[\"SHA-256\"],[\"X11\"],[\"Scrypt\"],[\"Scrypt\"],[\"Ethash\"],[\"Blake2b\"],[\"X11\"],[\"SHA-256\"],[\"Scrypt\"],[\"1GB AES Pattern Search\"],[\"Scrypt\"],[\"SHA-256\"],[\"X11\"],[\"Dagger\"],[\"Scrypt\"],[\"X11GOST\"],[\"Scrypt\"],[\"X11\"],[\"Scrypt\"],[\"X11\"],[\"Equihash\"],[\"CryptoNight\"],[\"SHA-256\"],[\"Multiple\"],[\"Scrypt\"],[\"SHA-256\"],[\"Scrypt\"],[\"Lyra2Z\"],[\"Ethash\"],[\"Equihash\"],[\"Scrypt\"],[\"X11\"],[\"X11\"],[\"CryptoNight\"],[\"Scrypt\"],[\"CryptoNight\"],[\"Lyra2RE\"],[\"X11\"],[\"CryptoNight-V7\"],[\"Scrypt\"],[\"X11\"],[\"Equihash\"],[\"Scrypt\"],[\"Lyra2RE\"],[\"Dagger-Hashimoto\"],[\"Scrypt\"],[\"NIST5\"],[\"Scrypt\"],[\"SHA-256\"],[\"Scrypt\"],[\"CryptoNight-V7\"],[\"Argon2d\"],[\"Blake2b\"],[\"Cloverhash\"],[\"CryptoNight\"],[\"X11\"],[\"Scrypt\"],[\"Scrypt\"],[\"X11\"],[\"X11\"],[\"CryptoNight\"],[\"Time Travel\"],[\"Scrypt\"],[\"Keccak\"],[\"X11\"],[\"SHA-256\"],[\"Scrypt\"],[\"Scrypt\"],[\"Scrypt\"],[\"Scrypt\"],[\"Scrypt\"],[\"Scrypt\"],[\"CryptoNight\"],[\"Equihash\"],[\"X11\"],[\"NeoScrypt\"],[\"Equihash\"],[\"Dagger\"],[\"Scrypt\"],[\"X11\"],[\"NeoScrypt\"],[\"Ethash\"],[\"NeoScrypt\"],[\"Multiple\"],[\"CryptoNight\"],[\"CryptoNight\"],[\"Ethash\"],[\"X11\"],[\"CryptoNight-V7\"],[\"Scrypt\"],[\"BLAKE256\"],[\"X11\"],[\"NeoScrypt\"],[\"NeoScrypt\"],[\"Scrypt\"],[\"X11\"],[\"SHA-256\"],[\"C11\"],[\"Ethash\"],[\"CryptoNight\"],[\"SkunkHash\"],[\"CryptoNight\"],[\"Scrypt\"],[\"Dagger\"],[\"Lyra2REv2\"],[\"Scrypt\"],[\"Scrypt\"],[\"X11\"],[\"Ethash\"],[\"CryptoNight\"],[\"Scrypt\"],[\"IMesh\"],[\"Equihash\"],[\"Lyra2Z\"],[\"X11\"],[\"CryptoNight\"],[\"NIST5\"],[\"Lyra2RE\"],[\"Tribus\"],[\"Lyra2Z\"],[\"CryptoNight\"],[\"CryptoNight Heavy\"],[\"CryptoNight\"],[\"Jump Consistent Hash\"],[\"CryptoNight\"],[\"X16R\"],[\"HMQ1725\"],[\"X11\"],[\"Scrypt\"],[\"CryptoNight-V7\"],[\"Cryptonight-GPU\"],[\"XEVAN\"],[\"CryptoNight Heavy\"],[\"SHA-256\"],[\"X11\"],[\"X16R\"],[\"Equihash\"],[\"Lyra2Z\"],[\"SHA-256\"],[\"CryptoNight\"],[\"Blake\"],[\"Blake\"],[\"Exosis\"],[\"Scrypt\"],[\"Equihash\"],[\"Equihash\"],[\"QuBit\"],[\"SHA-256\"],[\"X13\"],[\"SHA-256\"],[\"Scrypt\"],[\"NeoScrypt\"],[\"Blake\"],[\"Scrypt\"],[\"SHA-256\"],[\"Scrypt\"],[\"Groestl\"],[\"Scrypt\"],[\"Scrypt\"],[\"Multiple\"],[\"Equihash+Scrypt\"],[\"Ethash\"],[\"CryptoNight\"],[\"Equihash\"]],\"hovertemplate\":\"<b>%{hovertext}</b><br><br>Class=%{marker.color}<br>PC 1=%{x}<br>PC 2=%{y}<br>PC 3=%{z}<br>Algorithm=%{customdata[0]}<extra></extra>\",\"hovertext\":[\"Bitcoin\",\"Ethereum\",\"Litecoin\",\"Monero\",\"Ethereum Classic\",\"ZCash\",\"DigiByte\",\"ProsperCoin\",\"Spreadcoin\",\"Argentum\",\"MyriadCoin\",\"MoonCoin\",\"ZetaCoin\",\"SexCoin\",\"Quatloo\",\"QuarkCoin\",\"Riecoin\",\"Digitalcoin \",\"Catcoin\",\"CannaCoin\",\"CryptCoin\",\"Verge\",\"DevCoin\",\"EarthCoin\",\"E-Gulden\",\"Einsteinium\",\"Emerald\",\"Franko\",\"FeatherCoin\",\"GrandCoin\",\"GlobalCoin\",\"GoldCoin\",\"Infinite Coin\",\"IXcoin\",\"KrugerCoin\",\"LuckyCoin\",\"Litebar \",\"MegaCoin\",\"MediterraneanCoin\",\"MinCoin\",\"NobleCoin\",\"Namecoin\",\"NyanCoin\",\"RonPaulCoin\",\"StableCoin\",\"SmartCoin\",\"SysCoin\",\"TigerCoin\",\"TerraCoin\",\"UnbreakableCoin\",\"Unobtanium\",\"UroCoin\",\"ViaCoin\",\"Vertcoin\",\"WorldCoin\",\"JouleCoin\",\"ByteCoin\",\"DigitalNote \",\"MonaCoin\",\"Gulden\",\"PesetaCoin\",\"Wild Beast Coin\",\"Flo\",\"ArtByte\",\"Folding Coin\",\"Unitus\",\"CypherPunkCoin\",\"OmniCron\",\"GreenCoin\",\"Cryptonite\",\"MasterCoin\",\"SoonCoin\",\"1Credit\",\"MarsCoin \",\"Crypto\",\"Anarchists Prime\",\"BowsCoin\",\"Song Coin\",\"BitZeny\",\"Expanse\",\"Siacoin\",\"MindCoin\",\"I0coin\",\"Revolution VR\",\"HOdlcoin\",\"Gamecredits\",\"CarpeDiemCoin\",\"Adzcoin\",\"SoilCoin\",\"YoCoin\",\"SibCoin\",\"Francs\",\"BolivarCoin\",\"Omni\",\"PizzaCoin\",\"Komodo\",\"Karbo\",\"ZayedCoin\",\"Circuits of Value\",\"DopeCoin\",\"DollarCoin\",\"Shilling\",\"ZCoin\",\"Elementrem\",\"ZClassic\",\"KiloCoin\",\"ArtexCoin\",\"Kurrent\",\"Cannabis Industry Coin\",\"OsmiumCoin\",\"Bikercoins\",\"HexxCoin\",\"PacCoin\",\"Citadel\",\"BeaverCoin\",\"VaultCoin\",\"Zero\",\"Canada eCoin\",\"Zoin\",\"DubaiCoin\",\"EB3coin\",\"Coinonat\",\"BenjiRolls\",\"ILCoin\",\"EquiTrader\",\"Quantum Resistant Ledger\",\"Dynamic\",\"Nano\",\"ChanCoin\",\"Dinastycoin\",\"DigitalPrice\",\"Unify\",\"SocialCoin\",\"ArcticCoin\",\"DAS\",\"LeviarCoin\",\"Bitcore\",\"gCn Coin\",\"SmartCash\",\"Onix\",\"Bitcoin Cash\",\"Sojourn Coin\",\"NewYorkCoin\",\"FrazCoin\",\"Kronecoin\",\"AdCoin\",\"Linx\",\"Sumokoin\",\"BitcoinZ\",\"Elements\",\"VIVO Coin\",\"Bitcoin Gold\",\"Pirl\",\"eBoost\",\"Pura\",\"Innova\",\"Ellaism\",\"GoByte\",\"SHIELD\",\"UltraNote\",\"BitCoal\",\"DaxxCoin\",\"AC3\",\"Lethean\",\"PopularCoin\",\"Photon\",\"Sucre\",\"SparksPay\",\"GunCoin\",\"IrishCoin\",\"Pioneer Coin\",\"UnitedBitcoin\",\"Interzone\",\"1717 Masonic Commemorative Token\",\"TurtleCoin\",\"MUNcoin\",\"Niobio Cash\",\"ShareChain\",\"Travelflex\",\"KREDS\",\"BitFlip\",\"LottoCoin\",\"Crypto Improvement Fund\",\"Callisto Network\",\"BitTube\",\"Poseidon\",\"Aidos Kuneen\",\"Bitrolium\",\"Alpenschillling\",\"FuturoCoin\",\"Monero Classic\",\"Jumpcoin\",\"Infinex\",\"KEYCO\",\"GINcoin\",\"PlatinCoin\",\"Loki\",\"Newton Coin\",\"MassGrid\",\"PluraCoin\",\"Motion\",\"PlusOneCoin\",\"Axe\",\"HexCoin\",\"Webchain\",\"Ryo\",\"Urals Coin\",\"Qwertycoin\",\"Project Pai\",\"Azart\",\"Xchange\",\"CrypticCoin\",\"Actinium\",\"Bitcoin SV\",\"FREDEnergy\",\"Universal Molecule\",\"Lithium\",\"Exosis\",\"Block-Logic\",\"Beam\",\"Bithereum\",\"SLICE\",\"BLAST\",\"Bitcoin Rhodium\",\"GlobalToken\",\"SolarCoin\",\"UFO Coin\",\"BlakeCoin\",\"Crypto Escudo\",\"Crown Coin\",\"SmileyCoin\",\"Groestlcoin\",\"Bata\",\"Pakcoin\",\"JoinCoin\",\"Vollar\",\"Reality Clash\",\"Beldex\",\"Horizen\"],\"legendgroup\":\"1\",\"marker\":{\"color\":[1,1,1,1,1,1,1,1,1,1,1,1,1,1,1,1,1,1,1,1,1,1,1,1,1,1,1,1,1,1,1,1,1,1,1,1,1,1,1,1,1,1,1,1,1,1,1,1,1,1,1,1,1,1,1,1,1,1,1,1,1,1,1,1,1,1,1,1,1,1,1,1,1,1,1,1,1,1,1,1,1,1,1,1,1,1,1,1,1,1,1,1,1,1,1,1,1,1,1,1,1,1,1,1,1,1,1,1,1,1,1,1,1,1,1,1,1,1,1,1,1,1,1,1,1,1,1,1,1,1,1,1,1,1,1,1,1,1,1,1,1,1,1,1,1,1,1,1,1,1,1,1,1,1,1,1,1,1,1,1,1,1,1,1,1,1,1,1,1,1,1,1,1,1,1,1,1,1,1,1,1,1,1,1,1,1,1,1,1,1,1,1,1,1,1,1,1,1,1,1,1,1,1,1,1,1,1,1,1,1,1,1,1,1,1,1,1,1,1,1,1,1,1,1,1,1,1,1,1,1,1,1,1,1,1,1,1,1,1],\"coloraxis\":\"coloraxis\",\"symbol\":\"diamond\"},\"mode\":\"markers\",\"name\":\"1\",\"scene\":\"scene\",\"showlegend\":true,\"x\":[-0.14758401103955274,-0.15020608496141571,-0.16689952827225754,-0.1511157394298651,-0.14865094083849908,-0.13058898461740098,0.16035876649422678,-0.16804413342560093,-0.22295656548372592,-0.16766132749425505,-0.09266060462529416,2.5487930917183137,-0.14467304803382128,-0.16492081394557676,-0.16746576031947635,-0.22405952091492237,-0.1980176024301591,-0.1675142206346283,-0.16802641997209958,-0.1681127366885518,-0.2230457946011106,0.18410230996881294,0.2297222306285938,0.08026344423505759,-0.16785936387183337,-0.1634711331225227,-0.16779878185767913,-0.16816966433344196,-0.16939029777099965,-0.14742296447261977,-0.1669664530879015,-0.16724359060259267,1.5782704945362518,-0.1475454251879336,-0.164537067611117,-0.16788576995843943,-0.16824008147769437,-0.1675003883425184,-0.14868348534968462,-0.16812152776383363,-0.03325660872454357,-0.14762294588966896,-0.16179438107826563,-0.16810104689695515,-0.16619871105122425,-0.16758853211698765,-0.13479414924847127,-0.14708746223181401,-0.14737431012509222,-0.1473575010495644,-0.14794713262819856,-0.22321939944335203,-0.16781787430193992,-0.18512148844418885,-0.164925598054272,-0.14715466924863843,3.8550821327573304,0.45884304803991083,-0.1666871819675869,-0.151311630887034,-0.1654077831244948,-0.16824229449771913,-0.16527294741530552,-0.15151665072207707,-0.11935864398140333,-0.12661802044662396,-0.1667627158739373,-0.16811552268556226,-0.041249596316490396,-0.10707349356650568,-0.16825116689999045,-0.1476506912755076,0.482699348425311,-0.22260745651498023,-0.144385479173059,-0.1473910152475875,-0.22289196682814155,-0.16637814878292895,-0.16557152024235466,-0.1512723912985822,0.379042930673844,-0.2229272980936365,-0.14754654624089608,-0.16421473237053902,-0.14822012866304857,-0.16681659086774772,0.27034704993983577,-0.22208932487677532,-0.16028519163850743,-0.16706414509984477,-0.1430911222557488,-0.16804141676146223,-0.22289062829185902,-0.16825122531228448,-0.22304042596286727,-0.1851084743496217,0.3039762087124141,-0.14780627511969252,-0.10671943536121756,-0.16542219316148288,-0.14776495706138537,-0.1679151591613977,-0.12321194827769495,-0.1510148920694914,-0.1306105766947569,-0.09511114711958078,-0.2096415880817875,-0.22087208636373193,0.30397052487853266,-0.16823299461385388,0.30410107007138454,-0.1449250242040603,0.49088501312504523,-0.14988278370386882,-0.16820132157804127,-0.21578769022520325,-0.13062291746419324,-0.16633722148469718,-0.14464378396862296,-0.10295605132943784,-0.13917832005226516,-0.1825315145458326,-0.16776436325613245,-0.11418261158205104,-0.16758681390129349,-0.14974028878083417,-0.15182254751227398,-0.020799334616788685,-0.13940559396643362,0.3400410274718681,-0.22209778776973454,-0.16790544596075357,-0.16766937531633286,-0.22249181418966973,-0.223068396025499,0.3043648930784837,-0.16099812451906725,3.2365204232744977,-0.1309865880537372,-0.21395641087301584,-0.14758317622229758,-0.09396268298796988,1.5767497018609886,-0.16800318404071699,-0.16745577694926064,-0.1671571766859327,-0.16714412270828555,0.30454811832157713,0.08135437523539878,-0.17751682703835792,-0.17407209102988253,-0.13046916634059919,-0.15904634550923716,-0.16633543270817777,-0.21861960833820318,-0.17391777054426552,-0.14938323799848338,-0.1740177946259239,-0.11686438390014572,1.1405246209966722,0.30395335650088967,-0.07440732321878295,-0.21836247059989447,-0.13886935916247514,-0.0845123303700464,1.1078048228618016,-0.22304242911756972,-0.1740696228136177,-0.1671179050551087,-0.167255267871526,-0.2229679385559085,-0.14756259329216032,-0.18270513120477463,-0.2871824524790555,8.027906336735374,-0.15599737146900214,0.30782171092262356,0.024516739238505343,-0.1585498561478603,-0.17070124639781273,-0.16782821123419592,0.1388025151953269,-0.21711797692510204,-0.10250679953024658,0.3118624517563141,-0.1680648541549854,-0.1490508148067278,-0.12946166512604995,-0.12099940048527982,-0.2221385131734632,0.304135635370217,-0.18259077227434037,-0.14477052204089205,-0.14899304991830004,-0.12329617335348747,0.3080564328644126,0.574957894790494,2.109621613331443,-0.15876604686129864,0.3177200141243089,-0.20614125737019962,-0.1370274482067204,-0.2230246158659194,-0.16808941313067222,-0.13875310112409636,-0.14077329097750912,-0.16719414263589097,3.093689830277114,-0.10746758496503848,-0.2229960343659666,-0.20557002694388066,-0.025374417525860185,-0.12269498531281284,-0.1475832137444243,0.38376378774719444,-0.12925271770822364,-0.1296438932242534,-0.1635111671801392,-0.16698347379769513,-0.12853270823382212,-0.13030222707085903,-0.16597509578408243,-0.1468604044285653,-0.10132206074120537,-0.14573016512304998,0.5265378645759663,-0.09934127830658208,-0.08020109326079791,-0.15166706320077394,-0.14737368130201398,0.5465134854019276,-0.19757921302709333,-0.16816607795924357,-0.16612502589852327,-0.12735207239403873,-0.1251774358838545,-0.1510480038386982,0.32567849688508527,-0.13059004034667157],\"y\":[-1.3454002853085967,-2.0703095040834776,-1.1037691547888389,-2.2160817778488915,-2.070417253781259,-1.9776626911490878,-1.8295004700062474,-1.103755827317581,-0.9457656254308505,-1.1037760868333417,-1.822898470520473,-1.3043228405641663,-1.3454259463552098,-1.103833331945586,-1.1037965482470713,-0.4677348021829093,-1.2456154319084836,-1.1037605557304366,-1.1037553310351211,-1.1037520856801022,-0.9457666842380149,-1.8256322887154524,-1.3499461233315826,-1.1065115483145609,-1.1037506505806636,-1.103828595018286,-1.1037568795544885,-1.1037523085288368,-1.596611141423961,-1.1041866011807722,-1.1037609418004113,-1.103770324628083,-1.1200977621042114,-1.345399204238698,-1.1038336922544467,-1.1037506698327204,-1.1037471579628066,-1.103755725127107,-2.134738094930191,-1.103750069379038,-1.110772930599121,-1.345401376156475,-1.1038084278116809,-1.103757421877195,-1.1038691351230525,-1.1037648239567326,-1.3456666862179838,-1.345405116923236,-1.3454095421209686,-1.34543645299548,-1.3453955070669248,-0.9457585778350799,-1.1037509293048886,-1.2927966916497158,-1.1038445778134995,-1.3454055501076163,-2.337785444653179,-2.3072220306855638,-1.1037784239535273,-1.104482460979118,-1.1037867253991003,-1.1037481408593672,-1.1037783460850643,-1.1039982146321952,-2.1743660321342286,-1.8224087159650653,-1.4792904403765892,-1.1037451246897945,-1.1073940013315244,-2.197408529101447,-1.1037469421506927,-1.3454021535062073,-1.1518014693215435,-0.9457652118178757,-2.2068022399811906,-1.3454184841050925,-0.9457645361275983,-1.1038455124475863,-1.103851562954107,-2.070351561380164,-2.1740379111054677,-0.9457619231420136,-1.3453992356475313,-1.103784726506276,-2.247462650235434,-1.1037668311098865,-1.3492592083391681,-0.9457874444713361,-2.2821115929770976,-1.103834548270249,-2.1786143343825084,-1.1037550306299135,-0.9457673809221907,-1.103746941603905,-0.9457715778427216,-1.1373005914080407,-2.3043624393897457,-1.345398395991921,-1.8227159011158827,-1.1038113505093061,-1.3453978885457136,-1.1037586989794907,-2.1650268757299957,-2.0703510476785154,-1.9776632960999658,-1.1089030544888678,-0.9457384518318005,-0.945857103463205,-2.304370524951169,-1.103747942477552,-2.304369749729068,-2.206777156369839,-0.9978087455543219,-2.216180540028806,-1.103747520370658,-0.9462709358723477,-1.9776607595578184,-1.103764929679347,-2.206777203105282,-2.045382818277066,-1.1058142509295037,-0.5865233442901638,-1.1037584519488632,-1.346250772951328,-1.1037797637599436,-2.2161189017770093,-2.3418813499450493,-2.1854855951253223,-2.2074921070260953,-2.304785944544023,-0.945799210765275,-1.1037506999811788,-1.1037842386272394,-0.9457814273394141,-0.9457679659847947,-2.304383254782041,-2.2763480580793227,-1.1524689552143983,-1.321567167685434,-0.946291685857566,-1.3454002619193017,-1.1092311647580577,-1.0548563499932333,-1.1037539594537757,-1.1037847393535232,-1.1037879025786943,-1.1037875368419883,-2.3044032613442837,-1.9868415442856409,-0.9457751504306519,-1.5965196550292,-1.977659334169085,-2.282167897271191,-1.1037648795627273,-0.9458819052469426,-1.5965283017269996,-2.0704882109348195,-1.596521592548704,-1.822611024736398,-2.3421662431246286,-2.30436488108158,-2.0753915721325034,-0.9460188157873365,-2.2164588683818245,-1.1050032337752818,-1.2249420379312017,-0.9457678869799038,-1.5965152624314691,-1.5966656493681,-1.1037647101546788,-0.9457681057957239,-1.3453990842830998,-1.1659428178552949,-0.18350798644529123,-2.808526041248144,-2.1705356954126196,-2.3044896061305975,-1.1055514087058678,-2.282113413821231,-1.2931247793216074,-1.1037634686784548,-1.1084072868177957,-0.9459479197736129,-2.073656832886091,-2.3048548568921428,-1.1037564078556763,-2.158237158922702,-1.9776664148787644,-2.165165638165847,-0.9458003517795639,-2.304364025514472,-0.5865053674419354,-2.206784558590665,-2.3065470635735155,-2.1650213812274317,-2.3046732618208967,-2.2623912500907872,-2.386351642860154,-2.2069856038223716,-2.304690744035124,-1.2852272102270579,-2.0849117154882912,-0.9457682525903867,-1.1037578923549,-2.2169964153898882,-2.0487576076416594,-0.7699657136608428,-2.3246395111836424,-1.3457744066228248,-0.94577033411174,-1.2852673561532326,-1.9801760987996515,-2.165057499786952,-1.3454002629705688,-2.3079420435371625,-2.1301450652071705,-2.130098457337088,-2.2359127836641917,-1.1037974473830063,-1.9777793147521114,-1.9776617805842258,-1.4793404308363487,-1.3454109965225711,-0.33603818276948505,-1.3454542700268597,-1.1549687366356123,-1.5972887435124183,-2.133739045504341,-1.1040024287779544,-1.3454095245030682,-1.1197494564640207,-1.245618281495654,-1.103747714682624,-1.1038180716227288,-1.8224312996981804,-2.339757229106887,-2.070350737725008,-2.3047561592202777,-1.9776627207277298],\"z\":[0.17406015293696642,0.42008703781284895,-0.02847692407501587,0.46129111638802817,0.4200752603709451,0.3785646890574334,0.3707304866602817,-0.028457594285946002,0.1016626549093969,-0.028461505499991692,0.3744126454776901,-0.04704064215684922,0.1740096629108851,-0.02850369258693133,-0.028461869754734383,0.11057509588417792,0.10527053591599313,-0.028466776287660495,-0.02845800694968925,-0.02845691127111969,0.10166450076914872,0.3696597711608894,0.1677129617033904,-0.03267284346876807,-0.028461898793574764,-0.028531667482390926,-0.028462029322146455,-0.028455806770406548,0.22964363566686982,-0.028775028966533094,-0.028476995097295236,-0.028470277240728252,-0.05859391643970646,0.17405925401671718,-0.028510837001408097,-0.028461400059706803,-0.028455317381735606,-0.028467816495797695,0.44084813791346117,-0.028457072086908373,-0.029853550604823732,0.17406105998769686,-0.028566397745708086,-0.02845626839395416,-0.028473921892960594,-0.028464691804994394,0.1738631448218116,0.1740516138293299,0.1740577128299681,0.17406174591406837,0.1740661963381185,0.10166644927611754,-0.02846263248283035,0.2244377689151699,-0.028501785552061527,0.17405294525484782,0.38642062248492054,0.44522674227691783,-0.028479411837998618,-0.028654233014303043,-0.028502083770634765,-0.028455117016893083,-0.028505968566974182,-0.028728635207676764,0.40733256854766503,0.374970860938521,0.18734078370011184,-0.028457983819333118,-0.030249535533586846,0.42650391202721005,-0.02845514418996307,0.17406170636163978,-0.032907788105629054,0.10165603555342453,0.3198945329594629,0.17405947132467522,0.10166126641744223,-0.028474371210190638,-0.02848853332415432,0.4201138477178962,0.3120493639109554,0.10166150732221427,0.1740592801334713,-0.028524799463709668,0.43620346195576937,-0.02847885623689266,0.16683946375071623,0.10164990321802127,0.3676886210955812,-0.028463267283835778,0.3949699797346447,-0.02845777401397891,0.10166170098973223,-0.028455143181963443,0.10166519077040521,0.3397658689800314,0.4476713926888588,0.17406401937266602,0.3746470176982783,-0.028497834087566738,0.17406316186381923,-0.028459551001186384,0.4181405232524394,0.42010893163608287,0.378565192080037,-0.028994743000851822,0.10140835150971722,0.10163831286894043,0.447672805931123,-0.028455323625782864,0.4476702304239513,0.3199006065169811,0.09667411596179597,0.4612839338765174,-0.028455986314488334,0.10160975442633355,0.3785650138226838,-0.028488160904574726,0.31989533539594744,0.2586385610320959,-0.028666759957876615,-0.01000602918341413,-0.028462421247948573,0.1735706650244806,-0.028462309904131303,0.4612712991118057,0.4949178481364458,0.3214039626845058,0.2805819216539304,0.4470629174557624,0.10165196339758241,-0.028461025883818235,-0.028460037184772705,0.10165648532793521,0.1016651321011598,0.4476674609660217,0.3982450013077218,-0.08448713114595356,0.11769717162182625,0.10157873568362191,0.17406013348853552,-0.028963278883897905,-0.06910785307405307,-0.02845866470746569,-0.02846396535628933,-0.028469058712967576,-0.028469362826633492,0.44766725485999537,0.37606989542845465,0.10081132348354457,0.2297167260388683,0.37856189769556803,0.36767446717699437,-0.02848820257703633,0.10160004327346113,0.2297152267923893,0.4201004711500028,0.22971602002252975,0.3748204837785164,0.43807877885640284,0.447672216165633,0.41948557140987297,0.1016173406147421,0.4611221955643483,-0.029823854286285954,0.14016799423961518,0.10166463195478195,0.229715969904243,0.22960979256080843,-0.028470965320119997,0.10166326918038718,0.17405955686560348,0.2149103972102179,0.2113943861617076,0.38416761657526355,0.5035449308131655,0.44761976454024094,-0.03178166941256544,0.36765634435381433,0.2242201278358925,-0.028460412205553686,-0.03346524302681269,0.10158252616218351,0.4197326582538136,0.4476029443442717,-0.028457111562813824,0.3404510763843261,0.3785441318211706,0.41812141823132987,0.10165291216217845,0.44766865667217054,-0.010007821871529663,0.3198989027632053,0.5556658622593222,0.4181412162285234,0.44764503624507485,0.4544663357971791,0.42702953925494486,0.39067302878122906,0.44746648289060414,0.2181453966620345,0.4123686980761882,0.10166435669277958,-0.028456410725855922,0.46120687670429283,0.417699077863729,0.11602319069002316,0.4172503952977257,0.17336765197763543,0.10166415659586905,0.2181411623402586,0.37699603494828576,0.4181357688346335,0.17406013436267456,0.44675227317991756,0.407878914743826,0.4078787253693938,0.48525257714607994,-0.02847077662624153,0.3785449396810778,0.37855915968858334,0.18733407869938382,0.174048302216134,-0.10264001509044045,0.17403408109853707,-0.03321880032472176,0.22843836188817565,0.4075390096450859,-0.028725131104057444,0.1740576981805106,-0.0392848768982875,0.10526276813826575,-0.028456616412152292,-0.02848355635500761,0.3749882879029181,0.5161006956805753,0.42010950303376143,0.4473276785629925,0.3785647136523673],\"type\":\"scatter3d\"},{\"customdata\":[[\"Proof-of-BibleHash\"],[\"SHA-256 + Hive\"],[\"Proof-of-Authority\"],[\"ECC 256K1\"],[\"Leased POS\"]],\"hovertemplate\":\"<b>%{hovertext}</b><br><br>Class=%{marker.color}<br>PC 1=%{x}<br>PC 2=%{y}<br>PC 3=%{z}<br>Algorithm=%{customdata[0]}<extra></extra>\",\"hovertext\":[\"BiblePay\",\"LitecoinCash\",\"Poa Network\",\"Acute Angle Cloud\",\"Waves\"],\"legendgroup\":\"2\",\"marker\":{\"color\":[2,2,2,2,2],\"coloraxis\":\"coloraxis\",\"symbol\":\"square\"},\"mode\":\"markers\",\"name\":\"2\",\"scene\":\"scene\",\"showlegend\":true,\"x\":[-0.11699947596715495,-0.36469609861036334,-0.41811540748779447,-0.40380200711650105,-0.28815609484297217],\"y\":[4.011444907895415,3.5416682465846914,3.416597520837299,2.435216701956041,4.290575651413409],\"z\":[8.501133021869233,12.030510186430769,13.322249181199698,22.970098756416384,7.628590252387027],\"type\":\"scatter3d\"},{\"customdata\":[[\"TRC10\"]],\"hovertemplate\":\"<b>%{hovertext}</b><br><br>Class=%{marker.color}<br>PC 1=%{x}<br>PC 2=%{y}<br>PC 3=%{z}<br>Algorithm=%{customdata[0]}<extra></extra>\",\"hovertext\":[\"BitTorrent\"],\"legendgroup\":\"3\",\"marker\":{\"color\":[3],\"coloraxis\":\"coloraxis\",\"symbol\":\"x\"},\"mode\":\"markers\",\"name\":\"3\",\"scene\":\"scene\",\"showlegend\":true,\"x\":[34.03465600633945],\"y\":[1.5874111998002007],\"z\":[-0.6915531472718655],\"type\":\"scatter3d\"}],                        {\"template\":{\"data\":{\"histogram2dcontour\":[{\"type\":\"histogram2dcontour\",\"colorbar\":{\"outlinewidth\":0,\"ticks\":\"\"},\"colorscale\":[[0.0,\"#0d0887\"],[0.1111111111111111,\"#46039f\"],[0.2222222222222222,\"#7201a8\"],[0.3333333333333333,\"#9c179e\"],[0.4444444444444444,\"#bd3786\"],[0.5555555555555556,\"#d8576b\"],[0.6666666666666666,\"#ed7953\"],[0.7777777777777778,\"#fb9f3a\"],[0.8888888888888888,\"#fdca26\"],[1.0,\"#f0f921\"]]}],\"choropleth\":[{\"type\":\"choropleth\",\"colorbar\":{\"outlinewidth\":0,\"ticks\":\"\"}}],\"histogram2d\":[{\"type\":\"histogram2d\",\"colorbar\":{\"outlinewidth\":0,\"ticks\":\"\"},\"colorscale\":[[0.0,\"#0d0887\"],[0.1111111111111111,\"#46039f\"],[0.2222222222222222,\"#7201a8\"],[0.3333333333333333,\"#9c179e\"],[0.4444444444444444,\"#bd3786\"],[0.5555555555555556,\"#d8576b\"],[0.6666666666666666,\"#ed7953\"],[0.7777777777777778,\"#fb9f3a\"],[0.8888888888888888,\"#fdca26\"],[1.0,\"#f0f921\"]]}],\"heatmap\":[{\"type\":\"heatmap\",\"colorbar\":{\"outlinewidth\":0,\"ticks\":\"\"},\"colorscale\":[[0.0,\"#0d0887\"],[0.1111111111111111,\"#46039f\"],[0.2222222222222222,\"#7201a8\"],[0.3333333333333333,\"#9c179e\"],[0.4444444444444444,\"#bd3786\"],[0.5555555555555556,\"#d8576b\"],[0.6666666666666666,\"#ed7953\"],[0.7777777777777778,\"#fb9f3a\"],[0.8888888888888888,\"#fdca26\"],[1.0,\"#f0f921\"]]}],\"heatmapgl\":[{\"type\":\"heatmapgl\",\"colorbar\":{\"outlinewidth\":0,\"ticks\":\"\"},\"colorscale\":[[0.0,\"#0d0887\"],[0.1111111111111111,\"#46039f\"],[0.2222222222222222,\"#7201a8\"],[0.3333333333333333,\"#9c179e\"],[0.4444444444444444,\"#bd3786\"],[0.5555555555555556,\"#d8576b\"],[0.6666666666666666,\"#ed7953\"],[0.7777777777777778,\"#fb9f3a\"],[0.8888888888888888,\"#fdca26\"],[1.0,\"#f0f921\"]]}],\"contourcarpet\":[{\"type\":\"contourcarpet\",\"colorbar\":{\"outlinewidth\":0,\"ticks\":\"\"}}],\"contour\":[{\"type\":\"contour\",\"colorbar\":{\"outlinewidth\":0,\"ticks\":\"\"},\"colorscale\":[[0.0,\"#0d0887\"],[0.1111111111111111,\"#46039f\"],[0.2222222222222222,\"#7201a8\"],[0.3333333333333333,\"#9c179e\"],[0.4444444444444444,\"#bd3786\"],[0.5555555555555556,\"#d8576b\"],[0.6666666666666666,\"#ed7953\"],[0.7777777777777778,\"#fb9f3a\"],[0.8888888888888888,\"#fdca26\"],[1.0,\"#f0f921\"]]}],\"surface\":[{\"type\":\"surface\",\"colorbar\":{\"outlinewidth\":0,\"ticks\":\"\"},\"colorscale\":[[0.0,\"#0d0887\"],[0.1111111111111111,\"#46039f\"],[0.2222222222222222,\"#7201a8\"],[0.3333333333333333,\"#9c179e\"],[0.4444444444444444,\"#bd3786\"],[0.5555555555555556,\"#d8576b\"],[0.6666666666666666,\"#ed7953\"],[0.7777777777777778,\"#fb9f3a\"],[0.8888888888888888,\"#fdca26\"],[1.0,\"#f0f921\"]]}],\"mesh3d\":[{\"type\":\"mesh3d\",\"colorbar\":{\"outlinewidth\":0,\"ticks\":\"\"}}],\"scatter\":[{\"fillpattern\":{\"fillmode\":\"overlay\",\"size\":10,\"solidity\":0.2},\"type\":\"scatter\"}],\"parcoords\":[{\"type\":\"parcoords\",\"line\":{\"colorbar\":{\"outlinewidth\":0,\"ticks\":\"\"}}}],\"scatterpolargl\":[{\"type\":\"scatterpolargl\",\"marker\":{\"colorbar\":{\"outlinewidth\":0,\"ticks\":\"\"}}}],\"bar\":[{\"error_x\":{\"color\":\"#2a3f5f\"},\"error_y\":{\"color\":\"#2a3f5f\"},\"marker\":{\"line\":{\"color\":\"#E5ECF6\",\"width\":0.5},\"pattern\":{\"fillmode\":\"overlay\",\"size\":10,\"solidity\":0.2}},\"type\":\"bar\"}],\"scattergeo\":[{\"type\":\"scattergeo\",\"marker\":{\"colorbar\":{\"outlinewidth\":0,\"ticks\":\"\"}}}],\"scatterpolar\":[{\"type\":\"scatterpolar\",\"marker\":{\"colorbar\":{\"outlinewidth\":0,\"ticks\":\"\"}}}],\"histogram\":[{\"marker\":{\"pattern\":{\"fillmode\":\"overlay\",\"size\":10,\"solidity\":0.2}},\"type\":\"histogram\"}],\"scattergl\":[{\"type\":\"scattergl\",\"marker\":{\"colorbar\":{\"outlinewidth\":0,\"ticks\":\"\"}}}],\"scatter3d\":[{\"type\":\"scatter3d\",\"line\":{\"colorbar\":{\"outlinewidth\":0,\"ticks\":\"\"}},\"marker\":{\"colorbar\":{\"outlinewidth\":0,\"ticks\":\"\"}}}],\"scattermapbox\":[{\"type\":\"scattermapbox\",\"marker\":{\"colorbar\":{\"outlinewidth\":0,\"ticks\":\"\"}}}],\"scatterternary\":[{\"type\":\"scatterternary\",\"marker\":{\"colorbar\":{\"outlinewidth\":0,\"ticks\":\"\"}}}],\"scattercarpet\":[{\"type\":\"scattercarpet\",\"marker\":{\"colorbar\":{\"outlinewidth\":0,\"ticks\":\"\"}}}],\"carpet\":[{\"aaxis\":{\"endlinecolor\":\"#2a3f5f\",\"gridcolor\":\"white\",\"linecolor\":\"white\",\"minorgridcolor\":\"white\",\"startlinecolor\":\"#2a3f5f\"},\"baxis\":{\"endlinecolor\":\"#2a3f5f\",\"gridcolor\":\"white\",\"linecolor\":\"white\",\"minorgridcolor\":\"white\",\"startlinecolor\":\"#2a3f5f\"},\"type\":\"carpet\"}],\"table\":[{\"cells\":{\"fill\":{\"color\":\"#EBF0F8\"},\"line\":{\"color\":\"white\"}},\"header\":{\"fill\":{\"color\":\"#C8D4E3\"},\"line\":{\"color\":\"white\"}},\"type\":\"table\"}],\"barpolar\":[{\"marker\":{\"line\":{\"color\":\"#E5ECF6\",\"width\":0.5},\"pattern\":{\"fillmode\":\"overlay\",\"size\":10,\"solidity\":0.2}},\"type\":\"barpolar\"}],\"pie\":[{\"automargin\":true,\"type\":\"pie\"}]},\"layout\":{\"autotypenumbers\":\"strict\",\"colorway\":[\"#636efa\",\"#EF553B\",\"#00cc96\",\"#ab63fa\",\"#FFA15A\",\"#19d3f3\",\"#FF6692\",\"#B6E880\",\"#FF97FF\",\"#FECB52\"],\"font\":{\"color\":\"#2a3f5f\"},\"hovermode\":\"closest\",\"hoverlabel\":{\"align\":\"left\"},\"paper_bgcolor\":\"white\",\"plot_bgcolor\":\"#E5ECF6\",\"polar\":{\"bgcolor\":\"#E5ECF6\",\"angularaxis\":{\"gridcolor\":\"white\",\"linecolor\":\"white\",\"ticks\":\"\"},\"radialaxis\":{\"gridcolor\":\"white\",\"linecolor\":\"white\",\"ticks\":\"\"}},\"ternary\":{\"bgcolor\":\"#E5ECF6\",\"aaxis\":{\"gridcolor\":\"white\",\"linecolor\":\"white\",\"ticks\":\"\"},\"baxis\":{\"gridcolor\":\"white\",\"linecolor\":\"white\",\"ticks\":\"\"},\"caxis\":{\"gridcolor\":\"white\",\"linecolor\":\"white\",\"ticks\":\"\"}},\"coloraxis\":{\"colorbar\":{\"outlinewidth\":0,\"ticks\":\"\"}},\"colorscale\":{\"sequential\":[[0.0,\"#0d0887\"],[0.1111111111111111,\"#46039f\"],[0.2222222222222222,\"#7201a8\"],[0.3333333333333333,\"#9c179e\"],[0.4444444444444444,\"#bd3786\"],[0.5555555555555556,\"#d8576b\"],[0.6666666666666666,\"#ed7953\"],[0.7777777777777778,\"#fb9f3a\"],[0.8888888888888888,\"#fdca26\"],[1.0,\"#f0f921\"]],\"sequentialminus\":[[0.0,\"#0d0887\"],[0.1111111111111111,\"#46039f\"],[0.2222222222222222,\"#7201a8\"],[0.3333333333333333,\"#9c179e\"],[0.4444444444444444,\"#bd3786\"],[0.5555555555555556,\"#d8576b\"],[0.6666666666666666,\"#ed7953\"],[0.7777777777777778,\"#fb9f3a\"],[0.8888888888888888,\"#fdca26\"],[1.0,\"#f0f921\"]],\"diverging\":[[0,\"#8e0152\"],[0.1,\"#c51b7d\"],[0.2,\"#de77ae\"],[0.3,\"#f1b6da\"],[0.4,\"#fde0ef\"],[0.5,\"#f7f7f7\"],[0.6,\"#e6f5d0\"],[0.7,\"#b8e186\"],[0.8,\"#7fbc41\"],[0.9,\"#4d9221\"],[1,\"#276419\"]]},\"xaxis\":{\"gridcolor\":\"white\",\"linecolor\":\"white\",\"ticks\":\"\",\"title\":{\"standoff\":15},\"zerolinecolor\":\"white\",\"automargin\":true,\"zerolinewidth\":2},\"yaxis\":{\"gridcolor\":\"white\",\"linecolor\":\"white\",\"ticks\":\"\",\"title\":{\"standoff\":15},\"zerolinecolor\":\"white\",\"automargin\":true,\"zerolinewidth\":2},\"scene\":{\"xaxis\":{\"backgroundcolor\":\"#E5ECF6\",\"gridcolor\":\"white\",\"linecolor\":\"white\",\"showbackground\":true,\"ticks\":\"\",\"zerolinecolor\":\"white\",\"gridwidth\":2},\"yaxis\":{\"backgroundcolor\":\"#E5ECF6\",\"gridcolor\":\"white\",\"linecolor\":\"white\",\"showbackground\":true,\"ticks\":\"\",\"zerolinecolor\":\"white\",\"gridwidth\":2},\"zaxis\":{\"backgroundcolor\":\"#E5ECF6\",\"gridcolor\":\"white\",\"linecolor\":\"white\",\"showbackground\":true,\"ticks\":\"\",\"zerolinecolor\":\"white\",\"gridwidth\":2}},\"shapedefaults\":{\"line\":{\"color\":\"#2a3f5f\"}},\"annotationdefaults\":{\"arrowcolor\":\"#2a3f5f\",\"arrowhead\":0,\"arrowwidth\":1},\"geo\":{\"bgcolor\":\"white\",\"landcolor\":\"#E5ECF6\",\"subunitcolor\":\"white\",\"showland\":true,\"showlakes\":true,\"lakecolor\":\"white\"},\"title\":{\"x\":0.05},\"mapbox\":{\"style\":\"light\"}}},\"scene\":{\"domain\":{\"x\":[0.0,1.0],\"y\":[0.0,1.0]},\"xaxis\":{\"title\":{\"text\":\"PC 1\"}},\"yaxis\":{\"title\":{\"text\":\"PC 2\"}},\"zaxis\":{\"title\":{\"text\":\"PC 3\"}}},\"coloraxis\":{\"colorbar\":{\"title\":{\"text\":\"Class\"}},\"colorscale\":[[0.0,\"#0d0887\"],[0.1111111111111111,\"#46039f\"],[0.2222222222222222,\"#7201a8\"],[0.3333333333333333,\"#9c179e\"],[0.4444444444444444,\"#bd3786\"],[0.5555555555555556,\"#d8576b\"],[0.6666666666666666,\"#ed7953\"],[0.7777777777777778,\"#fb9f3a\"],[0.8888888888888888,\"#fdca26\"],[1.0,\"#f0f921\"]]},\"legend\":{\"title\":{\"text\":\"Class\"},\"tracegroupgap\":0,\"x\":0,\"y\":1},\"margin\":{\"t\":60},\"width\":800},                        {\"responsive\": true}                    ).then(function(){\n",
       "                            \n",
       "var gd = document.getElementById('81114012-58b4-406d-b61b-46ffc89eb6d4');\n",
       "var x = new MutationObserver(function (mutations, observer) {{\n",
       "        var display = window.getComputedStyle(gd).display;\n",
       "        if (!display || display === 'none') {{\n",
       "            console.log([gd, 'removed!']);\n",
       "            Plotly.purge(gd);\n",
       "            observer.disconnect();\n",
       "        }}\n",
       "}});\n",
       "\n",
       "// Listen for the removal of the full notebook cells\n",
       "var notebookContainer = gd.closest('#notebook-container');\n",
       "if (notebookContainer) {{\n",
       "    x.observe(notebookContainer, {childList: true});\n",
       "}}\n",
       "\n",
       "// Listen for the clearing of the current output cell\n",
       "var outputEl = gd.closest('.output');\n",
       "if (outputEl) {{\n",
       "    x.observe(outputEl, {childList: true});\n",
       "}}\n",
       "\n",
       "                        })                };                });            </script>        </div>"
      ]
     },
     "metadata": {},
     "output_type": "display_data"
    }
   ],
   "source": [
    "# Creating a 3D-Scatter with the PCA data and the clusters\n",
    "fig = px.scatter_3d(clustered_df, x=\"PC 1\", y=\"PC 2\", z=\"PC 3\",\n",
    "                    color=\"Class\", symbol=\"Class\", width=800,\n",
    "                    hover_name=\"CoinName\",\n",
    "                    hover_data=[\"Algorithm\"])\n",
    "fig.update_layout(legend=dict(x=0, y=1))\n",
    "fig.show()"
   ]
  },
  {
   "cell_type": "code",
   "execution_count": 47,
   "metadata": {},
   "outputs": [
    {
     "data": {},
     "metadata": {},
     "output_type": "display_data"
    },
    {
     "data": {
      "application/vnd.holoviews_exec.v0+json": "",
      "text/html": [
       "<div id='1292'>\n",
       "  <div class=\"bk-root\" id=\"e5d5878e-533b-4f83-a297-28e1039951fb\" data-root-id=\"1292\"></div>\n",
       "</div>\n",
       "<script type=\"application/javascript\">(function(root) {\n",
       "  function embed_document(root) {\n",
       "    var docs_json = {\"9dbd529d-25cd-43aa-8f66-3c8f079fbb39\":{\"defs\":[{\"extends\":null,\"module\":null,\"name\":\"ReactiveHTML1\",\"overrides\":[],\"properties\":[]},{\"extends\":null,\"module\":null,\"name\":\"FlexBox1\",\"overrides\":[],\"properties\":[{\"default\":\"flex-start\",\"kind\":null,\"name\":\"align_content\"},{\"default\":\"flex-start\",\"kind\":null,\"name\":\"align_items\"},{\"default\":\"row\",\"kind\":null,\"name\":\"flex_direction\"},{\"default\":\"wrap\",\"kind\":null,\"name\":\"flex_wrap\"},{\"default\":\"flex-start\",\"kind\":null,\"name\":\"justify_content\"}]},{\"extends\":null,\"module\":null,\"name\":\"GridStack1\",\"overrides\":[],\"properties\":[{\"default\":\"warn\",\"kind\":null,\"name\":\"mode\"},{\"default\":null,\"kind\":null,\"name\":\"ncols\"},{\"default\":null,\"kind\":null,\"name\":\"nrows\"},{\"default\":true,\"kind\":null,\"name\":\"allow_resize\"},{\"default\":true,\"kind\":null,\"name\":\"allow_drag\"},{\"default\":[],\"kind\":null,\"name\":\"state\"}]},{\"extends\":null,\"module\":null,\"name\":\"click1\",\"overrides\":[],\"properties\":[{\"default\":\"\",\"kind\":null,\"name\":\"terminal_output\"},{\"default\":\"\",\"kind\":null,\"name\":\"debug_name\"},{\"default\":0,\"kind\":null,\"name\":\"clears\"}]},{\"extends\":null,\"module\":null,\"name\":\"NotificationAreaBase1\",\"overrides\":[],\"properties\":[{\"default\":\"bottom-right\",\"kind\":null,\"name\":\"position\"},{\"default\":0,\"kind\":null,\"name\":\"_clear\"}]},{\"extends\":null,\"module\":null,\"name\":\"NotificationArea1\",\"overrides\":[],\"properties\":[{\"default\":[],\"kind\":null,\"name\":\"notifications\"},{\"default\":\"bottom-right\",\"kind\":null,\"name\":\"position\"},{\"default\":0,\"kind\":null,\"name\":\"_clear\"},{\"default\":[{\"background\":\"#ffc107\",\"icon\":{\"className\":\"fas fa-exclamation-triangle\",\"color\":\"white\",\"tagName\":\"i\"},\"type\":\"warning\"},{\"background\":\"#007bff\",\"icon\":{\"className\":\"fas fa-info-circle\",\"color\":\"white\",\"tagName\":\"i\"},\"type\":\"info\"}],\"kind\":null,\"name\":\"types\"}]},{\"extends\":null,\"module\":null,\"name\":\"Notification\",\"overrides\":[],\"properties\":[{\"default\":null,\"kind\":null,\"name\":\"background\"},{\"default\":3000,\"kind\":null,\"name\":\"duration\"},{\"default\":null,\"kind\":null,\"name\":\"icon\"},{\"default\":\"\",\"kind\":null,\"name\":\"message\"},{\"default\":null,\"kind\":null,\"name\":\"notification_type\"},{\"default\":false,\"kind\":null,\"name\":\"_destroyed\"}]},{\"extends\":null,\"module\":null,\"name\":\"TemplateActions1\",\"overrides\":[],\"properties\":[{\"default\":0,\"kind\":null,\"name\":\"open_modal\"},{\"default\":0,\"kind\":null,\"name\":\"close_modal\"}]},{\"extends\":null,\"module\":null,\"name\":\"MaterialTemplateActions1\",\"overrides\":[],\"properties\":[{\"default\":0,\"kind\":null,\"name\":\"open_modal\"},{\"default\":0,\"kind\":null,\"name\":\"close_modal\"}]}],\"roots\":{\"references\":[{\"attributes\":{},\"id\":\"1302\",\"type\":\"StringEditor\"},{\"attributes\":{\"columns\":[{\"id\":\"1298\"},{\"id\":\"1303\"},{\"id\":\"1308\"},{\"id\":\"1313\"},{\"id\":\"1318\"},{\"id\":\"1323\"},{\"id\":\"1328\"},{\"id\":\"1333\"},{\"id\":\"1338\"}],\"height\":300,\"reorderable\":false,\"source\":{\"id\":\"1294\"},\"view\":{\"id\":\"1343\"},\"width\":700},\"id\":\"1341\",\"type\":\"DataTable\"},{\"attributes\":{\"editor\":{\"id\":\"1307\"},\"field\":\"TotalCoinsMined\",\"formatter\":{\"id\":\"1306\"},\"title\":\"TotalCoinsMined\"},\"id\":\"1308\",\"type\":\"TableColumn\"},{\"attributes\":{},\"id\":\"1332\",\"type\":\"StringEditor\"},{\"attributes\":{},\"id\":\"1295\",\"type\":\"Selection\"},{\"attributes\":{\"margin\":[5,5,5,5],\"name\":\"HSpacer01129\",\"sizing_mode\":\"stretch_width\"},\"id\":\"1346\",\"type\":\"Spacer\"},{\"attributes\":{\"editor\":{\"id\":\"1302\"},\"field\":\"ProofType\",\"formatter\":{\"id\":\"1301\"},\"title\":\"ProofType\"},\"id\":\"1303\",\"type\":\"TableColumn\"},{\"attributes\":{},\"id\":\"1317\",\"type\":\"NumberEditor\"},{\"attributes\":{\"editor\":{\"id\":\"1312\"},\"field\":\"TotalCoinSupply\",\"formatter\":{\"id\":\"1311\"},\"title\":\"TotalCoinSupply\"},\"id\":\"1313\",\"type\":\"TableColumn\"},{\"attributes\":{\"editor\":{\"id\":\"1317\"},\"field\":\"PC_1\",\"formatter\":{\"id\":\"1316\"},\"title\":\"PC 1\"},\"id\":\"1318\",\"type\":\"TableColumn\"},{\"attributes\":{},\"id\":\"1296\",\"type\":\"StringFormatter\"},{\"attributes\":{\"data\":{\"Algorithm\":[\"Scrypt\",\"Scrypt\",\"X13\",\"SHA-256\",\"Ethash\",\"Scrypt\",\"X11\",\"CryptoNight-V7\",\"Ethash\",\"Equihash\",\"SHA-512\",\"Multiple\",\"SHA-256\",\"SHA-256\",\"Scrypt\",\"X15\",\"X11\",\"Scrypt\",\"Scrypt\",\"Scrypt\",\"Multiple\",\"Scrypt\",\"SHA-256\",\"Scrypt\",\"Scrypt\",\"Scrypt\",\"Quark\",\"Groestl\",\"Scrypt\",\"Scrypt\",\"Scrypt\",\"Scrypt\",\"Scrypt\",\"X11\",\"Scrypt\",\"Groestl\",\"Multiple\",\"SHA-256\",\"Scrypt\",\"Scrypt\",\"Scrypt\",\"Scrypt\",\"PoS\",\"Scrypt\",\"Scrypt\",\"NeoScrypt\",\"Scrypt\",\"Scrypt\",\"Scrypt\",\"Scrypt\",\"X11\",\"Scrypt\",\"X11\",\"SHA-256\",\"Scrypt\",\"Scrypt\",\"Scrypt\",\"SHA3\",\"Scrypt\",\"HybridScryptHash256\",\"Scrypt\",\"Scrypt\",\"SHA-256\",\"Scrypt\",\"X13\",\"Scrypt\",\"SHA-256\",\"Scrypt\",\"X13\",\"NeoScrypt\",\"Scrypt\",\"Scrypt\",\"Scrypt\",\"Scrypt\",\"Scrypt\",\"Scrypt\",\"X11\",\"X11\",\"SHA-256\",\"Multiple\",\"SHA-256\",\"PHI1612\",\"X11\",\"SHA-256\",\"SHA-256\",\"SHA-256\",\"X11\",\"Scrypt\",\"Scrypt\",\"Scrypt\",\"Scrypt\",\"Lyra2REv2\",\"Scrypt\",\"X11\",\"Multiple\",\"SHA-256\",\"X13\",\"Scrypt\",\"CryptoNight\",\"CryptoNight\",\"Shabal256\",\"Counterparty\",\"Scrypt\",\"SHA-256\",\"Groestl\",\"Scrypt\",\"Scrypt\",\"Scrypt\",\"X13\",\"Scrypt\",\"Scrypt\",\"Scrypt\",\"Scrypt\",\"X13\",\"Scrypt\",\"Stanford Folding\",\"X11\",\"Multiple\",\"QuBit\",\"Scrypt\",\"Scrypt\",\"Scrypt\",\"M7 POW\",\"Scrypt\",\"SHA-256\",\"Scrypt\",\"X11\",\"SHA3\",\"X11\",\"Lyra2RE\",\"SHA-256\",\"QUAIT\",\"X11\",\"X11\",\"Scrypt\",\"Scrypt\",\"Scrypt\",\"Ethash\",\"X13\",\"Blake2b\",\"SHA-256\",\"X15\",\"X11\",\"SHA-256\",\"BLAKE256\",\"Scrypt\",\"1GB AES Pattern Search\",\"SHA-256\",\"X11\",\"Scrypt\",\"SHA-256\",\"SHA-256\",\"NIST5\",\"Scrypt\",\"Scrypt\",\"X11\",\"Dagger\",\"Scrypt\",\"X11GOST\",\"X11\",\"Scrypt\",\"SHA-256\",\"Scrypt\",\"PoS\",\"Scrypt\",\"X11\",\"X11\",\"SHA-256\",\"SHA-256\",\"NIST5\",\"X11\",\"Scrypt\",\"POS 3.0\",\"Scrypt\",\"Scrypt\",\"Scrypt\",\"X13\",\"X11\",\"X11\",\"Equihash\",\"X11\",\"Scrypt\",\"CryptoNight\",\"SHA-256\",\"SHA-256\",\"X11\",\"Scrypt\",\"Multiple\",\"Scrypt\",\"Scrypt\",\"Scrypt\",\"SHA-256\",\"Scrypt\",\"Scrypt\",\"SHA-256D\",\"PoS\",\"Scrypt\",\"X11\",\"Lyra2Z\",\"PoS\",\"X13\",\"X14\",\"PoS\",\"SHA-256D\",\"Ethash\",\"Equihash\",\"DPoS\",\"X11\",\"Scrypt\",\"X11\",\"X13\",\"X11\",\"PoS\",\"Scrypt\",\"Scrypt\",\"X11\",\"PoS\",\"X11\",\"SHA-256\",\"Scrypt\",\"X11\",\"Scrypt\",\"Scrypt\",\"X11\",\"CryptoNight\",\"Scrypt\",\"Scrypt\",\"Scrypt\",\"Scrypt\",\"Quark\",\"QuBit\",\"Scrypt\",\"CryptoNight\",\"Lyra2RE\",\"Scrypt\",\"SHA-256\",\"X11\",\"Scrypt\",\"X11\",\"Scrypt\",\"CryptoNight-V7\",\"Scrypt\",\"Scrypt\",\"Scrypt\",\"X13\",\"X11\",\"Equihash\",\"Scrypt\",\"Scrypt\",\"Lyra2RE\",\"Scrypt\",\"Dagger-Hashimoto\",\"X11\",\"Blake2S\",\"X11\",\"Scrypt\",\"PoS\",\"X11\",\"NIST5\",\"PoS\",\"X11\",\"Scrypt\",\"Scrypt\",\"Scrypt\",\"SHA-256\",\"X11\",\"Scrypt\",\"Scrypt\",\"SHA-256\",\"PoS\",\"Scrypt\",\"X15\",\"SHA-256\",\"Scrypt\",\"POS 3.0\",\"CryptoNight-V7\",\"536\",\"Argon2d\",\"Blake2b\",\"Cloverhash\",\"CryptoNight\",\"NIST5\",\"X11\",\"NIST5\",\"Skein\",\"Scrypt\",\"X13\",\"Scrypt\",\"X11\",\"X11\",\"Scrypt\",\"CryptoNight\",\"X13\",\"Time Travel\",\"Scrypt\",\"Keccak\",\"SkunkHash v2 Raptor\",\"X11\",\"Skein\",\"SHA-256\",\"X11\",\"Scrypt\",\"VeChainThor Authority\",\"Scrypt\",\"PoS\",\"Scrypt\",\"Scrypt\",\"Scrypt\",\"Scrypt\",\"Scrypt\",\"Scrypt\",\"Scrypt\",\"CryptoNight\",\"SHA-512\",\"Ouroboros\",\"X11\",\"Equihash\",\"NeoScrypt\",\"X11\",\"Scrypt\",\"NeoScrypt\",\"Lyra2REv2\",\"Equihash\",\"Scrypt\",\"SHA-256\",\"NIST5\",\"PHI1612\",\"Dagger\",\"Scrypt\",\"Quark\",\"Scrypt\",\"POS 2.0\",\"Scrypt\",\"SHA-256\",\"X11\",\"NeoScrypt\",\"Ethash\",\"NeoScrypt\",\"X11\",\"DPoS\",\"NIST5\",\"X13\",\"Multiple\",\"Scrypt\",\"CryptoNight\",\"CryptoNight\",\"Ethash\",\"NIST5\",\"Quark\",\"X11\",\"CryptoNight-V7\",\"Scrypt\",\"Scrypt\",\"Scrypt\",\"X11\",\"BLAKE256\",\"X11\",\"NeoScrypt\",\"Quark\",\"NeoScrypt\",\"Scrypt\",\"Scrypt\",\"Scrypt\",\"X11\",\"X11\",\"SHA-256\",\"C11\",\"POS 3.0\",\"Ethash\",\"Scrypt\",\"CryptoNight\",\"SkunkHash\",\"Scrypt\",\"CryptoNight\",\"Scrypt\",\"Dagger\",\"Lyra2REv2\",\"X13\",\"Proof-of-BibleHash\",\"SHA-256 + Hive\",\"Scrypt\",\"Scrypt\",\"X11\",\"C11\",\"Proof-of-Authority\",\"X11\",\"XEVAN\",\"Scrypt\",\"VBFT\",\"Ethash\",\"CryptoNight\",\"Scrypt\",\"IMesh\",\"NIST5\",\"Scrypt\",\"Scrypt\",\"Equihash\",\"Scrypt\",\"Lyra2Z\",\"Green Protocol\",\"PoS\",\"Scrypt\",\"Semux BFT consensus\",\"X11\",\"Quark\",\"PoS\",\"CryptoNight\",\"X16R\",\"Scrypt\",\"NIST5\",\"Lyra2RE\",\"XEVAN\",\"Tribus\",\"Scrypt\",\"Lyra2Z\",\"CryptoNight\",\"CryptoNight Heavy\",\"CryptoNight\",\"Scrypt\",\"Scrypt\",\"Jump Consistent Hash\",\"SHA-256D\",\"CryptoNight\",\"Scrypt\",\"X15\",\"Scrypt\",\"Quark\",\"SHA-256\",\"DPoS\",\"X16R\",\"HMQ1725\",\"X11\",\"X16R\",\"Quark\",\"Quark\",\"Scrypt\",\"Lyra2REv2\",\"Quark\",\"Scrypt\",\"Scrypt\",\"CryptoNight-V7\",\"Cryptonight-GPU\",\"XEVAN\",\"CryptoNight Heavy\",\"X11\",\"X11\",\"Scrypt\",\"PoS\",\"SHA-256\",\"Keccak\",\"X11\",\"X11\",\"Scrypt\",\"SHA-512\",\"X16R\",\"ECC 256K1\",\"Equihash\",\"XEVAN\",\"Lyra2Z\",\"SHA-256\",\"XEVAN\",\"X11\",\"CryptoNight\",\"Quark\",\"Blake\",\"Blake\",\"Equihash\",\"Exosis\",\"Scrypt\",\"Scrypt\",\"Equihash\",\"Quark\",\"Equihash\",\"Quark\",\"Scrypt\",\"QuBit\",\"X11\",\"Scrypt\",\"XEVAN\",\"SHA-256D\",\"X11\",\"SHA-256\",\"X13\",\"SHA-256\",\"X11\",\"DPoS\",\"Scrypt\",\"Scrypt\",\"X11\",\"NeoScrypt\",\"Scrypt\",\"Blake\",\"Scrypt\",\"SHA-256\",\"Scrypt\",\"X11\",\"Scrypt\",\"Scrypt\",\"SHA-256\",\"X11\",\"SHA-256\",\"Scrypt\",\"Scrypt\",\"Scrypt\",\"Groestl\",\"X11\",\"Scrypt\",\"PoS\",\"Scrypt\",\"Scrypt\",\"X11\",\"SHA-256\",\"DPoS\",\"Scrypt\",\"Scrypt\",\"NeoScrypt\",\"Multiple\",\"X13\",\"Equihash+Scrypt\",\"DPoS\",\"Ethash\",\"DPoS\",\"SHA-256\",\"Leased POS\",\"PoS\",\"TRC10\",\"PoS\",\"SHA-256\",\"Scrypt\",\"CryptoNight\",\"Equihash\",\"Scrypt\"],\"Class\":{\"__ndarray__\":\"AAAAAAAAAAAAAAAAAQAAAAEAAAABAAAAAAAAAAEAAAABAAAAAQAAAAAAAAABAAAAAAAAAAAAAAABAAAAAAAAAAEAAAABAAAAAAAAAAAAAAABAAAAAQAAAAEAAAABAAAAAQAAAAAAAAABAAAAAQAAAAEAAAAAAAAAAQAAAAAAAAABAAAAAQAAAAAAAAAAAAAAAQAAAAEAAAABAAAAAQAAAAEAAAABAAAAAAAAAAAAAAABAAAAAQAAAAEAAAABAAAAAQAAAAAAAAAAAAAAAQAAAAAAAAABAAAAAQAAAAEAAAABAAAAAAAAAAEAAAABAAAAAAAAAAEAAAAAAAAAAAAAAAAAAAABAAAAAQAAAAEAAAAAAAAAAAAAAAAAAAAAAAAAAAAAAAEAAAABAAAAAQAAAAAAAAAAAAAAAQAAAAAAAAABAAAAAAAAAAAAAAABAAAAAQAAAAEAAAABAAAAAAAAAAAAAAABAAAAAAAAAAEAAAABAAAAAAAAAAAAAAABAAAAAAAAAAAAAAABAAAAAQAAAAAAAAAAAAAAAQAAAAAAAAAAAAAAAQAAAAAAAAABAAAAAAAAAAEAAAAAAAAAAQAAAAAAAAAAAAAAAQAAAAEAAAAAAAAAAQAAAAEAAAABAAAAAAAAAAEAAAABAAAAAQAAAAEAAAABAAAAAAAAAAAAAAABAAAAAQAAAAEAAAAAAAAAAQAAAAAAAAABAAAAAQAAAAAAAAABAAAAAAAAAAEAAAAAAAAAAAAAAAEAAAABAAAAAAAAAAEAAAABAAAAAAAAAAAAAAABAAAAAAAAAAEAAAAAAAAAAAAAAAAAAAABAAAAAQAAAAEAAAABAAAAAAAAAAAAAAAAAAAAAAAAAAAAAAABAAAAAQAAAAAAAAAAAAAAAAAAAAAAAAAAAAAAAQAAAAAAAAAAAAAAAAAAAAAAAAAAAAAAAQAAAAAAAAABAAAAAAAAAAAAAAABAAAAAAAAAAEAAAAAAAAAAAAAAAEAAAAAAAAAAQAAAAAAAAABAAAAAAAAAAEAAAAAAAAAAAAAAAAAAAAAAAAAAQAAAAAAAAAAAAAAAAAAAAAAAAAAAAAAAQAAAAEAAAAAAAAAAAAAAAEAAAABAAAAAAAAAAAAAAAAAAAAAAAAAAAAAAABAAAAAAAAAAAAAAAAAAAAAAAAAAAAAAAAAAAAAAAAAAAAAAABAAAAAAAAAAAAAAAAAAAAAAAAAAAAAAAAAAAAAQAAAAEAAAABAAAAAAAAAAAAAAAAAAAAAAAAAAEAAAAAAAAAAQAAAAAAAAAAAAAAAQAAAAAAAAABAAAAAQAAAAAAAAABAAAAAQAAAAAAAAABAAAAAAAAAAAAAAAAAAAAAQAAAAAAAAAAAAAAAQAAAAAAAAAAAAAAAAAAAAAAAAAAAAAAAAAAAAAAAAABAAAAAAAAAAEAAAAAAAAAAAAAAAAAAAAAAAAAAQAAAAAAAAABAAAAAAAAAAEAAAABAAAAAQAAAAEAAAAAAAAAAQAAAAAAAAAAAAAAAQAAAAAAAAABAAAAAQAAAAEAAAAAAAAAAQAAAAAAAAABAAAAAQAAAAEAAAAAAAAAAQAAAAAAAAABAAAAAAAAAAAAAAAAAAAAAQAAAAAAAAABAAAAAQAAAAEAAAABAAAAAQAAAAAAAAAAAAAAAQAAAAAAAAAAAAAAAAAAAAEAAAAAAAAAAQAAAAAAAAABAAAAAAAAAAEAAAAAAAAAAAAAAAAAAAAAAAAAAQAAAAAAAAAAAAAAAQAAAAAAAAAAAAAAAAAAAAEAAAABAAAAAQAAAAEAAAAAAAAAAAAAAAAAAAAAAAAAAQAAAAAAAAABAAAAAQAAAAEAAAAAAAAAAAAAAAEAAAABAAAAAAAAAAAAAAABAAAAAAAAAAEAAAABAAAAAQAAAAAAAAABAAAAAQAAAAAAAAAAAAAAAAAAAAEAAAABAAAAAQAAAAAAAAABAAAAAAAAAAEAAAABAAAAAAAAAAEAAAABAAAAAQAAAAEAAAAAAAAAAgAAAAIAAAABAAAAAQAAAAEAAAAAAAAAAgAAAAAAAAAAAAAAAAAAAAAAAAABAAAAAQAAAAEAAAABAAAAAAAAAAAAAAAAAAAAAQAAAAAAAAABAAAAAAAAAAAAAAAAAAAAAAAAAAEAAAAAAAAAAAAAAAEAAAAAAAAAAAAAAAEAAAABAAAAAAAAAAEAAAAAAAAAAQAAAAEAAAABAAAAAQAAAAAAAAAAAAAAAQAAAAAAAAABAAAAAAAAAAAAAAAAAAAAAAAAAAAAAAAAAAAAAQAAAAEAAAABAAAAAAAAAAAAAAAAAAAAAAAAAAAAAAAAAAAAAQAAAAAAAAABAAAAAQAAAAEAAAABAAAAAAAAAAAAAAAAAAAAAAAAAAEAAAAAAAAAAAAAAAEAAAAAAAAAAAAAAAEAAAACAAAAAQAAAAAAAAABAAAAAQAAAAAAAAAAAAAAAQAAAAAAAAABAAAAAQAAAAAAAAABAAAAAQAAAAAAAAABAAAAAAAAAAEAAAAAAAAAAAAAAAEAAAAAAAAAAAAAAAAAAAAAAAAAAAAAAAEAAAABAAAAAQAAAAAAAAAAAAAAAAAAAAEAAAAAAAAAAQAAAAAAAAABAAAAAAAAAAAAAAAAAAAAAAAAAAEAAAAAAAAAAAAAAAAAAAABAAAAAAAAAAEAAAAAAAAAAQAAAAAAAAAAAAAAAAAAAAEAAAABAAAAAAAAAAAAAAAAAAAAAAAAAAAAAAAAAAAAAQAAAAAAAAABAAAAAAAAAAEAAAAAAAAAAAAAAAIAAAAAAAAAAwAAAAAAAAAAAAAAAAAAAAEAAAABAAAAAAAAAA==\",\"dtype\":\"int32\",\"order\":\"little\",\"shape\":[532]},\"CoinName\":[\"42 Coin\",\"404Coin\",\"EliteCoin\",\"Bitcoin\",\"Ethereum\",\"Litecoin\",\"Dash\",\"Monero\",\"Ethereum Classic\",\"ZCash\",\"Bitshares\",\"DigiByte\",\"BitcoinDark\",\"PayCoin\",\"ProsperCoin\",\"KoboCoin\",\"Spreadcoin\",\"Argentum\",\"Aurora Coin\",\"BlueCoin\",\"MyriadCoin\",\"MoonCoin\",\"ZetaCoin\",\"SexCoin\",\"Quatloo\",\"EnergyCoin\",\"QuarkCoin\",\"Riecoin\",\"Digitalcoin \",\"BitBar\",\"Catcoin\",\"CryptoBullion\",\"CannaCoin\",\"CryptCoin\",\"CasinoCoin\",\"Diamond\",\"Verge\",\"DevCoin\",\"EarthCoin\",\"E-Gulden\",\"Einsteinium\",\"Emerald\",\"Exclusive Coin\",\"FlutterCoin\",\"Franko\",\"FeatherCoin\",\"GrandCoin\",\"GlobalCoin\",\"GoldCoin\",\"HoboNickels\",\"HyperStake\",\"Infinite Coin\",\"IOCoin\",\"IXcoin\",\"KrugerCoin\",\"LuckyCoin\",\"Litebar \",\"MaxCoin\",\"MegaCoin\",\"MediterraneanCoin\",\"MintCoin\",\"MinCoin\",\"MazaCoin\",\"Nautilus Coin\",\"NavCoin\",\"NobleCoin\",\"Namecoin\",\"NyanCoin\",\"OpalCoin\",\"Orbitcoin\",\"PotCoin\",\"PhoenixCoin\",\"Reddcoin\",\"RonPaulCoin\",\"StableCoin\",\"SmartCoin\",\"SuperCoin\",\"SyncCoin\",\"SysCoin\",\"TeslaCoin\",\"TigerCoin\",\"TittieCoin\",\"TorCoin\",\"TerraCoin\",\"UnbreakableCoin\",\"Unobtanium\",\"UroCoin\",\"UnitaryStatus Dollar\",\"UltraCoin\",\"ViaCoin\",\"VeriCoin\",\"Vertcoin\",\"WorldCoin\",\"X11 Coin\",\"Crypti\",\"JouleCoin\",\"StealthCoin\",\"ZCC Coin\",\"ByteCoin\",\"DigitalNote \",\"BurstCoin\",\"StorjCoin\",\"MonaCoin\",\"Neutron\",\"FairCoin\",\"Gulden\",\"RubyCoin\",\"PesetaCoin\",\"Kore\",\"Wild Beast Coin\",\"Dnotes\",\"Flo\",\"8BIT Coin\",\"Sativa Coin\",\"ArtByte\",\"Folding Coin\",\"Ucoin\",\"Unitus\",\"CypherPunkCoin\",\"OmniCron\",\"Vtorrent\",\"GreenCoin\",\"Cryptonite\",\"MasterCoin\",\"SoonCoin\",\"1Credit\",\"IslaCoin\",\"Nexus\",\"MarsCoin \",\"Crypto\",\"Anarchists Prime\",\"Droidz\",\"BowsCoin\",\"Squall Coin\",\"Song Coin\",\"BitZeny\",\"Diggits\",\"Expanse\",\"Paycon\",\"Siacoin\",\"Emercoin\",\"EverGreenCoin\",\"MindCoin\",\"I0coin\",\"Decred\",\"Revolution VR\",\"HOdlcoin\",\"EDRCoin\",\"Hitcoin\",\"Gamecredits\",\"DubaiCoin\",\"CarpeDiemCoin\",\"PWR Coin\",\"BillaryCoin\",\"GPU Coin\",\"Adzcoin\",\"SoilCoin\",\"YoCoin\",\"SibCoin\",\"EuropeCoin\",\"ZeitCoin\",\"SwingCoin\",\"SafeExchangeCoin\",\"Nebuchadnezzar\",\"Francs\",\"BolivarCoin\",\"Ratecoin\",\"Revenu\",\"Clockcoin\",\"VIP Tokens\",\"BitSend\",\"Omni\",\"Let it Ride\",\"PutinCoin\",\"iBankCoin\",\"Frankywillcoin\",\"MudraCoin\",\"PizzaCoin\",\"Lutetium Coin\",\"Komodo\",\"GoldBlocks\",\"CarterCoin\",\"Karbo\",\"BitTokens\",\"ZayedCoin\",\"MustangCoin\",\"ZoneCoin\",\"Circuits of Value\",\"RootCoin\",\"DopeCoin\",\"BitCurrency\",\"DollarCoin\",\"Swiscoin\",\"Shilling\",\"BuzzCoin\",\"Opair\",\"PesoBit\",\"Halloween Coin\",\"ZCoin\",\"CoffeeCoin\",\"RoyalCoin\",\"GanjaCoin V2\",\"TeamUP\",\"LanaCoin\",\"Elementrem\",\"ZClassic\",\"ARK\",\"InsaneCoin\",\"KiloCoin\",\"ArtexCoin\",\"EmberCoin\",\"XenixCoin\",\"FreeCoin\",\"PLNCoin\",\"AquariusCoin\",\"Kurrent\",\"Creatio\",\"Eternity\",\"Eurocoin\",\"BitcoinFast\",\"Stakenet\",\"BitConnect Coin\",\"MoneyCoin\",\"Enigma\",\"Cannabis Industry Coin\",\"Russiacoin\",\"PandaCoin\",\"GameUnits\",\"GAKHcoin\",\"Allsafe\",\"LiteCreed\",\"OsmiumCoin\",\"Bikercoins\",\"HexxCoin\",\"Klingon Empire Darsek\",\"Internet of People\",\"KushCoin\",\"Printerium\",\"PacCoin\",\"Impeach\",\"Citadel\",\"Zilbercoin\",\"FirstCoin\",\"BeaverCoin\",\"FindCoin\",\"VaultCoin\",\"Zero\",\"OpenChat\",\"Canada eCoin\",\"Zoin\",\"RenosCoin\",\"DubaiCoin\",\"VirtacoinPlus\",\"TajCoin\",\"Impact\",\"EB3coin\",\"Atmos\",\"HappyCoin\",\"Coinonat\",\"MacronCoin\",\"Condensate\",\"Independent Money System\",\"ArgusCoin\",\"LomoCoin\",\"ProCurrency\",\"GoldReserve\",\"BenjiRolls\",\"GrowthCoin\",\"ILCoin\",\"Phreak\",\"Degas Coin\",\"HTML5 Coin\",\"Ultimate Secure Cash\",\"EquiTrader\",\"QTUM\",\"Quantum Resistant Ledger\",\"Espers\",\"Dynamic\",\"Nano\",\"ChanCoin\",\"Dinastycoin\",\"Denarius\",\"DigitalPrice\",\"Virta Unique Coin\",\"Bitcoin Planet\",\"Unify\",\"BritCoin\",\"SocialCoin\",\"ArcticCoin\",\"DAS\",\"Linda\",\"LeviarCoin\",\"DeepOnion\",\"Bitcore\",\"gCn Coin\",\"SmartCash\",\"Signatum\",\"Onix\",\"Cream\",\"Bitcoin Cash\",\"Monoeci\",\"Draftcoin\",\"Vechain\",\"Sojourn Coin\",\"Stakecoin\",\"NewYorkCoin\",\"FrazCoin\",\"Kronecoin\",\"AdCoin\",\"Linx\",\"CoinonatX\",\"Ethereum Dark\",\"Sumokoin\",\"Obsidian\",\"Cardano\",\"Regalcoin\",\"BitcoinZ\",\"TrezarCoin\",\"Elements\",\"TerraNovaCoin\",\"VIVO Coin\",\"Rupee\",\"Bitcoin Gold\",\"WomenCoin\",\"Theresa May Coin\",\"NamoCoin\",\"LUXCoin\",\"Pirl\",\"Xios\",\"Bitcloud 2.0\",\"eBoost\",\"KekCoin\",\"BlackholeCoin\",\"Infinity Economics\",\"Pura\",\"Innova\",\"Ellaism\",\"GoByte\",\"Magnet\",\"Lamden Tau\",\"Electra\",\"Bitcoin Diamond\",\"SHIELD\",\"Cash & Back Coin\",\"UltraNote\",\"BitCoal\",\"DaxxCoin\",\"Bulwark\",\"Kalkulus\",\"AC3\",\"Lethean\",\"GermanCoin\",\"LiteCoin Ultra\",\"PopularCoin\",\"PhantomX\",\"Photon\",\"Sucre\",\"SparksPay\",\"Digiwage\",\"GunCoin\",\"IrishCoin\",\"Trollcoin\",\"Litecoin Plus\",\"Monkey Project\",\"Pioneer Coin\",\"UnitedBitcoin\",\"Interzone\",\"TokenPay\",\"1717 Masonic Commemorative Token\",\"My Big Coin\",\"TurtleCoin\",\"MUNcoin\",\"Unified Society USDEX\",\"Niobio Cash\",\"ShareChain\",\"Travelflex\",\"KREDS\",\"Tokyo Coin\",\"BiblePay\",\"LitecoinCash\",\"BitFlip\",\"LottoCoin\",\"Crypto Improvement Fund\",\"Stipend\",\"Poa Network\",\"Pushi\",\"Ellerium\",\"Velox\",\"Ontology\",\"Callisto Network\",\"BitTube\",\"Poseidon\",\"Aidos Kuneen\",\"Bitspace\",\"Briacoin\",\"Ignition\",\"Bitrolium\",\"MedicCoin\",\"Alpenschillling\",\"Bitcoin Green\",\"Deviant Coin\",\"Abjcoin\",\"Semux\",\"FuturoCoin\",\"Carebit\",\"Zealium\",\"Monero Classic\",\"Proton\",\"iDealCash\",\"Jumpcoin\",\"Infinex\",\"Bitcoin Incognito\",\"KEYCO\",\"HollyWoodCoin\",\"GINcoin\",\"PlatinCoin\",\"Loki\",\"Newton Coin\",\"Swisscoin\",\"Xt3ch\",\"MassGrid\",\"TheVig\",\"PluraCoin\",\"EmaratCoin\",\"Dekado\",\"Lynx\",\"Poseidon Quark\",\"BitcoinWSpectrum\",\"Muse\",\"Motion\",\"PlusOneCoin\",\"Axe\",\"Trivechain\",\"Dystem\",\"Giant\",\"Peony Coin\",\"Absolute Coin\",\"Vitae\",\"HexCoin\",\"TPCash\",\"Webchain\",\"Ryo\",\"Urals Coin\",\"Qwertycoin\",\"ARENON\",\"EUNO\",\"MMOCoin\",\"Ketan\",\"Project Pai\",\"XDNA\",\"PAXEX\",\"Azart\",\"ThunderStake\",\"Kcash\",\"Xchange\",\"Acute Angle Cloud\",\"CrypticCoin\",\"Bettex coin\",\"Actinium\",\"Bitcoin SV\",\"BitMoney\",\"Junson Ming Chan Coin\",\"FREDEnergy\",\"HerbCoin\",\"Universal Molecule\",\"Lithium\",\"PirateCash\",\"Exosis\",\"Block-Logic\",\"Oduwa\",\"Beam\",\"Galilel\",\"Bithereum\",\"Crypto Sports\",\"Credit\",\"SLICE\",\"Dash Platinum\",\"Nasdacoin\",\"Beetle Coin\",\"Titan Coin\",\"Award\",\"BLAST\",\"Bitcoin Rhodium\",\"GlobalToken\",\"Insane Coin\",\"ALAX\",\"LiteDoge\",\"SolarCoin\",\"TruckCoin\",\"UFO Coin\",\"OrangeCoin\",\"BlakeCoin\",\"BitstarCoin\",\"NeosCoin\",\"HyperCoin\",\"PinkCoin\",\"Crypto Escudo\",\"AudioCoin\",\"IncaKoin\",\"Piggy Coin\",\"Crown Coin\",\"Genstake\",\"SmileyCoin\",\"XiaoMiCoin\",\"Groestlcoin\",\"CapriCoin\",\" ClubCoin\",\"Radium\",\"Bata\",\"Pakcoin\",\"Creditbit \",\"OKCash\",\"Lisk\",\"HiCoin\",\"WhiteCoin\",\"FriendshipCoin\",\"JoinCoin\",\"Triangles Coin\",\"Vollar\",\"EOS\",\"Reality Clash\",\"Oxycoin\",\"TigerCash\",\"Waves\",\"Particl\",\"BitTorrent\",\"Nxt\",\"ZEPHYR\",\"Gapcoin\",\"Beldex\",\"Horizen\",\"BitcoinPlus\"],\"PC_1\":{\"__ndarray__\":\"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\",\"dtype\":\"float64\",\"order\":\"little\",\"shape\":[532]},\"PC_2\":{\"__ndarray__\":\"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\",\"dtype\":\"float64\",\"order\":\"little\",\"shape\":[532]},\"PC_3\":{\"__ndarray__\":\"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\",\"dtype\":\"float64\",\"order\":\"little\",\"shape\":[532]},\"ProofType\":[\"PoW/PoS\",\"PoW/PoS\",\"PoW/PoS\",\"PoW\",\"PoW\",\"PoW\",\"PoW/PoS\",\"PoW\",\"PoW\",\"PoW\",\"PoS\",\"PoW\",\"PoW/PoS\",\"PoS\",\"PoW\",\"PoW/PoS\",\"PoW\",\"PoW\",\"PoW/PoS\",\"PoW/PoS\",\"PoW\",\"PoW\",\"PoW\",\"PoW\",\"PoW\",\"PoW/PoS\",\"PoW\",\"PoW\",\"PoW\",\"PoW/PoS\",\"PoW\",\"PoW/PoS\",\"PoW\",\"PoW\",\"PoC\",\"PoW/PoS\",\"PoW\",\"PoW\",\"PoW\",\"PoW\",\"PoW\",\"PoW\",\"PoS\",\"PoS/PoW/PoT\",\"PoW\",\"PoW\",\"PoW\",\"PoW\",\"PoW\",\"PoW/PoS\",\"PoS\",\"PoW\",\"PoW/PoS\",\"PoW\",\"PoW\",\"PoW\",\"PoW\",\"PoW/PoS\",\"PoW\",\"PoW\",\"PoS\",\"PoW\",\"PoW/PoS\",\"PoS\",\"PoW/PoS\",\"PoW\",\"PoW\",\"PoW\",\"PoW/PoS\",\"PoW/PoS\",\"PoW/PoS\",\"PoW/PoS\",\"PoW/PoS\",\"PoW\",\"PoW\",\"PoW\",\"PoS\",\"PoW/PoS\",\"PoW\",\"PoS\",\"PoW\",\"PoS\",\"PoW/PoS\",\"PoW\",\"PoW\",\"PoW\",\"PoW\",\"PoW/PoS\",\"PoW/PoS\",\"PoW\",\"PoST\",\"PoW\",\"PoW\",\"PoW/PoS\",\"PoS\",\"PoW\",\"PoW/PoS\",\"PoW/PoS\",\"PoW\",\"PoW\",\"PoC\",\"PoS\",\"PoW\",\"PoW/PoS\",\"PoW/PoS\",\"PoW\",\"PoS\",\"PoW\",\"PoW/PoS\",\"PoW\",\"PoS\",\"PoW\",\"PoW/PoS\",\"PoW/PoS\",\"PoW\",\"PoW\",\"PoS\",\"PoW\",\"PoW\",\"PoW\",\"PoW/PoS\",\"PoW\",\"PoW\",\"PoW\",\"PoW\",\"PoW\",\"PoW/PoS\",\"PoW/nPoS\",\"PoW\",\"PoW\",\"PoW\",\"PoW/PoS\",\"PoW\",\"PoS/PoW\",\"PoW\",\"PoW\",\"PoS\",\"PoW\",\"PoW/PoS\",\"PoW\",\"PoW/PoS\",\"PoW/PoS\",\"PoW\",\"PoW\",\"PoW/PoS\",\"PoW\",\"PoW\",\"PoW/PoS\",\"PoW/PoS\",\"PoW\",\"PoW/PoS\",\"PoW\",\"PoW/PoS\",\"PoW/PoS\",\"PoS\",\"PoW\",\"PoW\",\"PoW\",\"PoW\",\"PoW/PoS\",\"PoS\",\"PoW/PoS\",\"PoC\",\"PoS\",\"PoW\",\"PoW\",\"PoW/PoS\",\"PoW/PoS\",\"PoW/PoS\",\"PoW/PoS\",\"PoW/PoS\",\"PoW\",\"PoS\",\"PoW/PoS\",\"PoW/PoS\",\"PoW/PoS\",\"PoS\",\"PoW\",\"PoS\",\"dPoW/PoW\",\"PoW/PoS\",\"PoW/PoS\",\"PoW\",\"PoW/PoS\",\"PoW\",\"PoW/PoS\",\"PoW/PoS\",\"PoW\",\"PoW/PoS\",\"PoW\",\"PoS\",\"PoW\",\"PoW/PoW\",\"PoW\",\"PoW/PoS\",\"PoS\",\"PoW/PoS\",\"PoW/PoS\",\"PoW\",\"PoS\",\"PoS\",\"PoW/PoS\",\"PoS\",\"PoW/PoS\",\"PoW\",\"PoW\",\"DPoS\",\"PoW/PoS\",\"PoW\",\"PoW\",\"PoW/PoS\",\"PoW/PoS\",\"PoS\",\"PoW/PoS\",\"PoW/PoS\",\"PoW\",\"PoS\",\"PoW/PoS\",\"PoW/PoS\",\"PoW/PoS\",\"TPoS\",\"PoW/PoS\",\"PoW/PoS\",\"PoW/PoS\",\"PoW\",\"PoW/PoS\",\"PoS\",\"PoW/PoS\",\"PoW/PoS\",\"PoS\",\"PoW/PoS\",\"PoW\",\"PoW\",\"PoW\",\"PoW/PoS\",\"PoW/PoS\",\"PoW/PoS\",\"PoW/PoS\",\"PoW\",\"PoW/PoS\",\"PoW\",\"PoS\",\"PoW/PoS \",\"PoW\",\"PoS\",\"PoW\",\"PoW\",\"PoW/PoS\",\"PoW\",\"PoW\",\"PoS\",\"PoW\",\"PoW/PoS\",\"PoW/PoS\",\"PoW/PoS\",\"PoW\",\"PoS\",\"PoW/PoS\",\"PoW\",\"PoS\",\"PoW/PoS\",\"PoW/PoS\",\"PoW/PoS\",\"PoW/PoS\",\"PoS\",\"PoW/PoS\",\"PoW\",\"PoS\",\"PoW\",\"PoS\",\"PoW/PoS\",\"PoW/PoS\",\"PoS\",\"PoW\",\"PoS\",\"PoW\",\"PoW/PoS\",\"PoW\",\"PoW\",\"PoW\",\"PoW\",\"PoW/PoS\",\"PoW\",\"PoW/PoS\",\"PoW/PoS\",\"PoW\",\"PoW/PoS\",\"PoW\",\"PoW\",\"PoW\",\"PoW/PoS\",\"PoW\",\"PoW/PoS\",\"PoW\",\"PoW\",\"PoW\",\"PoS\",\"PoW\",\"PoW/PoS\",\"PoW\",\"PoW/PoS\",\"PoS\",\"Proof of Authority\",\"PoW\",\"PoS\",\"PoW\",\"PoW\",\"PoW\",\"PoW\",\"PoW\",\"PoW/PoS\",\"PoW/PoS\",\"PoW\",\"PoS\",\"PoS\",\"PoW/PoS\",\"PoW\",\"PoW/PoS\",\"PoW\",\"PoW/PoS\",\"PoW\",\"PoS\",\"PoW\",\"PoW/PoS\",\"PoW/PoS\",\"PoW/PoS\",\"PoW/PoS\",\"PoW\",\"PoW/PoS\",\"PoW/PoS\",\"PoW\",\"PoS\",\"PoW/PoS\",\"PoS\",\"PoW\",\"PoW\",\"PoW\",\"PoW\",\"PoW/PoS\",\"DPoS\",\"PoW/PoS\",\"PoW/PoS\",\"PoW\",\"PoW/PoS\",\"PoW\",\"PoW\",\"PoW\",\"PoS\",\"PoS\",\"PoW\",\"PoW\",\"PoW/PoS\",\"PoW/PoS\",\"PoW\",\"PoW/PoS\",\"PoW\",\"PoW\",\"PoW\",\"PoS\",\"PoW\",\"PoW\",\"PoW/PoS\",\"PoW/PoS\",\"PoS\",\"PoW\",\"PoW\",\"PoW\",\"PoS\",\"PoS\",\"PoW and PoS\",\"PoW\",\"PoW\",\"PoW/PoS\",\"PoW\",\"PoW\",\"PoW\",\"PoW\",\"PoS\",\"POBh\",\"PoW + Hive\",\"PoW\",\"PoW\",\"PoW\",\"PoW/PoS\",\"PoA\",\"PoW/PoS\",\"PoW/PoS\",\"PoS\",\"PoS\",\"PoW\",\"PoW\",\"PoW\",\"PoW\",\"PoW/PoS\",\"PoW/PoS\",\"PoW/PoS\",\"PoW\",\"PoS\",\"PoW\",\"PoS\",\"PoS\",\"PoW/PoS\",\"DPoS\",\"PoW\",\"PoW/PoS\",\"PoS\",\"PoW\",\"PoS\",\"PoW/PoS\",\"PoW\",\"PoW\",\"PoS/PoW\",\"PoW\",\"PoS\",\"PoW\",\"PoW\",\"PoW\",\"PoW\",\"PoW/PoS\",\"PoS\",\"PoW\",\"PoW/PoS\",\"PoW\",\"PoW/PoS\",\"PoS\",\"HPoW\",\"PoS\",\"PoS\",\"PoS\",\"PoW\",\"PoW\",\"PoW\",\"PoW/PoS\",\"PoS\",\"PoW/PoS\",\"PoS\",\"PoW/PoS\",\"PoS\",\"PoW\",\"PoW/PoS\",\"PoW\",\"PoW\",\"PoW\",\"PoW\",\"PoS\",\"PoW/PoS\",\"PoS\",\"PoS\",\"PoW\",\"PoW/PoS\",\"PoS\",\"PoW\",\"PoW/PoS\",\"Zero-Knowledge Proof\",\"PoW\",\"DPOS\",\"PoW\",\"PoS\",\"PoW\",\"PoW\",\"Pos\",\"PoS\",\"PoW\",\"PoW/PoS\",\"PoW\",\"PoW\",\"PoS\",\"PoW\",\"PoW\",\"PoW/PoS\",\"PoW\",\"PoW/PoS\",\"PoW\",\"PoS\",\"PoW/PoS\",\"PoW\",\"PoS\",\"PoW/PoS\",\"PoW/PoS\",\"PoW/PoS\",\"PoW/PoS\",\"PoW\",\"PoW\",\"PoW\",\"PoW/PoS\",\"DPoS\",\"PoW/PoS\",\"PoW\",\"PoW/PoS\",\"PoW\",\"PoW/PoS\",\"PoW\",\"PoW/PoS\",\"PoS\",\"PoW/PoS\",\"PoW/PoS\",\"PoW\",\"PoW/PoS\",\"PoW/PoS\",\"PoW/PoS\",\"PoW\",\"PoW/PoS\",\"PoW\",\"PoW/PoS\",\"PoW\",\"PoW/PoS\",\"PoW/PoS\",\"PoS\",\"PoW\",\"PoW\",\"Proof of Trust\",\"PoW/PoS\",\"DPoS\",\"PoS\",\"PoW/PoS\",\"PoW/PoS\",\"PoW\",\"PoW/PoS\",\"PoW\",\"DPoS\",\"PoW\",\"DPoS\",\"PoS\",\"LPoS\",\"PoS\",\"DPoS\",\"PoS/LPoS\",\"DPoS\",\"PoW/PoS\",\"PoW\",\"PoW\",\"PoS\"],\"TotalCoinSupply\":[\"42\",\"532000000\",\"314159265359\",\"21000000\",\"0\",\"84000000\",\"22000000\",\"0\",\"210000000\",\"21000000\",\"3600570502\",\"21000000000\",\"22000000\",\"12500000\",\"21000000\",\"350000000\",\"20000000\",\"64000000\",\"16768584\",\"0\",\"2000000000\",\"384000000000\",\"169795588\",\"250000000\",\"100000000\",\"0\",\"247000000\",\"84000000\",\"48166000\",\"500000\",\"21000000 \",\"1000000\",\"13140000\",\"18000000\",\"40000000000\",\"4380000\",\"16555000000\",\"21000000000\",\"13500000000\",\"21000000 \",\"299792458\",\"32000000\",\"0\",\"0\",\"11235813\",\"336000000\",\"1420609614\",\"70000000\",\"72245700\",\"120000000\",\"0\",\"90600000000\",\"22000000\",\"21000000\",\"265420800\",\"20000000\",\"1350000\",\"100000000\",\"42000000\",\"200000000\",\"0\",\"10000000\",\"2419200000\",\"16180000\",\"0\",\"15000000000\",\"21000000\",\"337000000\",\"0\",\"3770000\",\"420000000\",\"98000000\",\"0\",\"21000000\",\"250000000\",\"51200000\",\"0\",\"1000\",\"888000000\",\"100000000\",\"47011968\",\"2300000000\",\"10000000\",\"42000000\",\"80000000\",\"250000\",\"0\",\"1600000000\",\"100000000\",\"23000000\",\"0\",\"84000000\",\"265420800\",\"5500000\",\"0\",\"45000000\",\"0\",\"1000000000\",\"184467440735\",\"10000000000\",\"2158812800\",\"500000000\",\"105120000\",\"68000000\",\"0\",\"1680000000\",\"0\",\"166386000\",\"12000000\",\"2628000\",\"500000000\",\"160000000\",\"0\",\"10000000\",\"1000000000\",\"1000000000\",\"20000000\",\"0\",\"0\",\"3371337\",\"20000000\",\"10000000000\",\"1840000000\",\"619478\",\"21000000\",\"92000000000\",\"0\",\"78000000\",\"33000000\",\"65789100\",\"53760000\",\"5060000\",\"21000000\",\"0\",\"210240000\",\"250000000\",\"100000000\",\"16906397\",\"50000000\",\"0\",\"1000000000\",\"26298000\",\"16000000\",\"21000000\",\"21000000\",\"210000000\",\"81962100\",\"22000000\",\"26550000000\",\"84000000\",\"10500000\",\"21626280000 \",\"0\",\"42000000\",\"221052632\",\"84000000\",\"30000000\",\"168351300\",\"24000000\",\"384000000\",\" 99000000000\",\"40000000\",\"2147483647\",\"20000000\",\"20000000\",\"25000000\",\"75000000\",\"222725000\",\"525000000\",\"90000000\",\"139000000\",\"616448\",\"33500000\",\"2000000000\",\"44333333\",\"100000000\",\"200000000\",\"25000000\",\"657000000\",\"200000000\",\"50000000\",\"90000000\",\"10000000\",\"21000000\",\"9736000\",\"3000000\",\"21000000\",\"1200000000\",\"0\",\"200000000\",\"0\",\"10638298\",\"3100000000\",\"30000000\",\"20000000000\",\"74000000\",\"0\",\"1500000000\",\"21400000\",\"39999898\",\"2500124\",\"100000000\",\"301000000\",\"7506000000\",\"26205539\",\"21000000\",\"125000000\",\"30000000\",\"10000000000\",\"500000000\",\"850000000\",\"3853326.77707314\",\"50000000\",\"38540000 \",\"42000000\",\"228000000\",\"20000000\",\"60000000\",\"20000000\",\"33000000\",\"76500000\",\"28000000\",\"650659833\",\"5000000\",\"21000000\",\"144000000\",\"32514916898\",\"13000000\",\"3315789\",\"15000000\",\"78835200\",\"2714286\",\"25000000\",\"9999999\",\"500000000\",\"21000000\",\"9354000\",\"20000000\",\"100000000000\",\"21933333\",\"185000000\",\"55000000\",\"110000000\",\"3360000\",\"14524851.4827\",\"1000000000\",\"17000000\",\"1000000000\",\"100000000 \",\"21000000\",\"34426423\",\"2232901\",\"100000000\",\"36900000\",\"110000000\",\"4000000000\",\"110290030\",\"100000000\",\"48252000\",\"400000000\",\"500000000\",\"21212121\",\"28600000\",\"1000000000\",\"75000000000\",\"40000000\",\"35520400\",\"2000000000\",\"2500000000\",\"30000000\",\"105000000\",\"90000000000\",\"200084200\",\"72000000\",\"100000000\",\"105000000\",\"50000000000\",\"0\",\"340282367\",\"30000000\",\"2000000000\",\"10000000\",\"100000000\",\"120000000\",\"100000000\",\"19276800\",\"30000000\",\" 75000000\",\"60000000\",\"18900000\",\"50000000000\",\"54000000\",\"18898187.6216583\",\"21000000\",\"200000000000\",\"5000000000\",\"137500000\",\"1100000000\",\"100000000\",\"21000000\",\"9507271\",\"17405891.19707116\",\"86712634466\",\"10500000000\",\"61599965\",\"0\",\"20000000\",\"84000000\",\"100000000\",\"100000000\",\"48252000\",\"4200000\",\"88888888\",\"91388946\",\"45000000000\",\"27000000\",\"21000000000\",\"400000000\",\"1800000000\",\"15733333\",\"27000000\",\"24000000\",\"21000000\",\"25000000000\",\"100000000\",\"1200000000\",\"60000000\",\"156306732.71\",\"21000000\",\"200000000\",\"100000000\",\"21000000\",\"14788275.991\",\"9000000000\",\"350000000\",\"45000000\",\"280000000\",\"31800000\",\"144000000\",\"500000000\",\"30000000000\",\"210000000\",\"660000000\",\"210000000\",\"85000000000\",\"12500000\",\"10000000000\",\"27716121\",\"20000000\",\"550000000\",\"999481516\",\"50000000000\",\"150000000\",\"4999999999\",\"50000000\",\" 90000000000\",\"19800000\",\"21000000\",\"120000000\",\"500000000\",\"64000000\",\"900000000\",\"4000000\",\"21000000\",\"23000000\",\"20166000\",\"23000000\",\"25000000\",\"1618033\",\"30000000\",\"1000000000000\",\"16600000\",\"232000000\",\"336000000\",\"10000000000\",\"100000000\",\"1100000000\",\"800000000\",\"5200000000\",\"840000000\",\"40000000\",\"18406979840\",\"500000000\",\"19340594\",\"252460800\",\"25000000\",\"60000000\",\"124000000\",\"1000000000\",\"6500000000\",\"1000000000\",\"21000000\",\"25000000\",\"50000000\",\"3000000\",\"5000000\",\"70000000\",\"500000000\",\"300000000\",\"21000000\",\"88000000\",\"30000000\",\"100000000\",\"100000000\",\"200000000\",\"80000000\",\"18400000\",\"45000000\",\"5121951220\",\"21000000\",\"26280000\",\"21000000\",\"18000000\",\"26000000\",\"10500000\",\"600000518\",\"150000000\",\"184000000000\",\"10200000000\",\"44000000\",\"168000000\",\"100000000\",\"1000000000\",\"84000000\",\"90000000\",\"92000000000\",\"650000000 \",\"100262205\",\"18081806 \",\"22075700\",\"21000000\",\"21000000\",\"82546564\",\"21000000\",\"5151000\",\"16880000000\",\"52500000\",\"100000000\",\"22105263\",\"1000000000\",\"1750000000\",\"88188888\",\"210000000\",\"184470000000\",\"55000000\",\"50000000\",\"260000000\",\"210000000\",\"2100000000\",\"366000000\",\"100000000\",\"25000000\",\"18000000000\",\"1000000000\",\"100000000\",\"1000000000\",\"7600000000\",\"50000000\",\"84000000\",\"21000000\",\"70000000000\",\"0\",\"8080000000\",\"54000000\",\"105120001.44\",\"25228800\",\"105000000\",\"21000000\",\"120000000\",\"21000000\",\"262800000\",\"19035999\",\"30886000\",\"13370000\",\"74800000000\",\"100000000\",\"19700000\",\"84000000\",\"500000000\",\"5000000000\",\"420000000\",\"64000000\",\"2100000\",\"168000000\",\"30000000\",\"1000000000\",\"35000000000\",\"98100000000\",\"0\",\"4000000000\",\"200000000\",\"7000000000\",\"54256119\",\"21000000\",\"0\",\"500000000\",\"1000000000\",\"10500000000\",\"190000000\",\"1000000000\",\"42000000\",\"15000000\",\"50000000000\",\"400000000\",\"105000000\",\"208000000\",\"160000000\",\"9000000\",\"5000000\",\"182000000\",\"16504333\",\"105000000\",\"159918400\",\"10008835635\",\"300000000\",\"60168145\",\"2800000\",\"120000\",\"2100000000\",\"0\",\"24487944\",\"0\",\"1000000000\",\"100000000\",\"8634140\",\"990000000000\",\"1000000000\",\"2000000000\",\"250000000\",\"1400222610\",\"21000000\",\"1000000\"],\"TotalCoinsMined\":{\"__ndarray__\":\"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\",\"dtype\":\"float64\",\"order\":\"little\",\"shape\":[532]}},\"selected\":{\"id\":\"1295\"},\"selection_policy\":{\"id\":\"1344\"}},\"id\":\"1294\",\"type\":\"ColumnDataSource\"},{\"attributes\":{\"editor\":{\"id\":\"1297\"},\"field\":\"Algorithm\",\"formatter\":{\"id\":\"1296\"},\"title\":\"Algorithm\"},\"id\":\"1298\",\"type\":\"TableColumn\"},{\"attributes\":{\"format\":\"0,0.0[00000]\"},\"id\":\"1306\",\"type\":\"NumberFormatter\"},{\"attributes\":{},\"id\":\"1322\",\"type\":\"NumberEditor\"},{\"attributes\":{},\"id\":\"1344\",\"type\":\"UnionRenderers\"},{\"attributes\":{},\"id\":\"1337\",\"type\":\"IntEditor\"},{\"attributes\":{\"children\":[{\"id\":\"1293\"},{\"id\":\"1341\"},{\"id\":\"1346\"}],\"margin\":[0,0,0,0],\"name\":\"Row01124\",\"tags\":[\"embedded\"]},\"id\":\"1292\",\"type\":\"Row\"},{\"attributes\":{\"editor\":{\"id\":\"1337\"},\"field\":\"Class\",\"formatter\":{\"id\":\"1336\"},\"title\":\"Class\"},\"id\":\"1338\",\"type\":\"TableColumn\"},{\"attributes\":{},\"id\":\"1307\",\"type\":\"NumberEditor\"},{\"attributes\":{\"editor\":{\"id\":\"1332\"},\"field\":\"CoinName\",\"formatter\":{\"id\":\"1331\"},\"title\":\"CoinName\"},\"id\":\"1333\",\"type\":\"TableColumn\"},{\"attributes\":{},\"id\":\"1327\",\"type\":\"NumberEditor\"},{\"attributes\":{\"editor\":{\"id\":\"1327\"},\"field\":\"PC_3\",\"formatter\":{\"id\":\"1326\"},\"title\":\"PC 3\"},\"id\":\"1328\",\"type\":\"TableColumn\"},{\"attributes\":{\"margin\":[5,5,5,5],\"name\":\"HSpacer01128\",\"sizing_mode\":\"stretch_width\"},\"id\":\"1293\",\"type\":\"Spacer\"},{\"attributes\":{\"format\":\"0,0.0[00000]\"},\"id\":\"1326\",\"type\":\"NumberFormatter\"},{\"attributes\":{},\"id\":\"1336\",\"type\":\"NumberFormatter\"},{\"attributes\":{},\"id\":\"1297\",\"type\":\"StringEditor\"},{\"attributes\":{\"editor\":{\"id\":\"1322\"},\"field\":\"PC_2\",\"formatter\":{\"id\":\"1321\"},\"title\":\"PC 2\"},\"id\":\"1323\",\"type\":\"TableColumn\"},{\"attributes\":{\"format\":\"0,0.0[00000]\"},\"id\":\"1321\",\"type\":\"NumberFormatter\"},{\"attributes\":{\"source\":{\"id\":\"1294\"}},\"id\":\"1343\",\"type\":\"CDSView\"},{\"attributes\":{},\"id\":\"1331\",\"type\":\"StringFormatter\"},{\"attributes\":{},\"id\":\"1312\",\"type\":\"StringEditor\"},{\"attributes\":{\"format\":\"0,0.0[00000]\"},\"id\":\"1316\",\"type\":\"NumberFormatter\"},{\"attributes\":{},\"id\":\"1311\",\"type\":\"StringFormatter\"},{\"attributes\":{},\"id\":\"1301\",\"type\":\"StringFormatter\"}],\"root_ids\":[\"1292\"]},\"title\":\"Bokeh Application\",\"version\":\"2.4.3\"}};\n",
       "    var render_items = [{\"docid\":\"9dbd529d-25cd-43aa-8f66-3c8f079fbb39\",\"root_ids\":[\"1292\"],\"roots\":{\"1292\":\"e5d5878e-533b-4f83-a297-28e1039951fb\"}}];\n",
       "    root.Bokeh.embed.embed_items_notebook(docs_json, render_items);\n",
       "  }\n",
       "  if (root.Bokeh !== undefined && root.Bokeh.Panel !== undefined) {\n",
       "    embed_document(root);\n",
       "  } else {\n",
       "    var attempts = 0;\n",
       "    var timer = setInterval(function(root) {\n",
       "      if (root.Bokeh !== undefined && root.Bokeh.Panel !== undefined) {\n",
       "        clearInterval(timer);\n",
       "        embed_document(root);\n",
       "      } else if (document.readyState == \"complete\") {\n",
       "        attempts++;\n",
       "        if (attempts > 200) {\n",
       "          clearInterval(timer);\n",
       "          console.log(\"Bokeh: ERROR: Unable to run BokehJS code because BokehJS library is missing\");\n",
       "        }\n",
       "      }\n",
       "    }, 25, root)\n",
       "  }\n",
       "})(window);</script>"
      ],
      "text/plain": [
       ":Table   [Algorithm,ProofType,TotalCoinsMined,TotalCoinSupply,PC 1,PC 2,PC 3,CoinName,Class]"
      ]
     },
     "execution_count": 47,
     "metadata": {
      "application/vnd.holoviews_exec.v0+json": {
       "id": "1292"
      }
     },
     "output_type": "execute_result"
    }
   ],
   "source": [
    "# Create a table with tradable cryptocurrencies.\n",
    "clustered_df.hvplot.table()"
   ]
  },
  {
   "cell_type": "code",
   "execution_count": 48,
   "metadata": {},
   "outputs": [
    {
     "name": "stdout",
     "output_type": "stream",
     "text": [
      "There are 532 tradeable cryptocurrencies.\n"
     ]
    }
   ],
   "source": [
    "# Print the total number of tradable cryptocurrencies.\n",
    "print(f\"There are {clustered_df.CoinName.size} tradeable cryptocurrencies.\")"
   ]
  },
  {
   "cell_type": "code",
   "execution_count": 51,
   "metadata": {},
   "outputs": [
    {
     "data": {
      "text/plain": [
       "array([[0.00000000e+00, 4.20000000e-11],\n",
       "       [1.06585544e-03, 5.32000000e-04],\n",
       "       [2.95755135e-02, 3.14159265e-01],\n",
       "       ...,\n",
       "       [9.90135079e-04, 1.40022261e-03],\n",
       "       [7.37028150e-06, 2.10000000e-05],\n",
       "       [1.29582282e-07, 1.00000000e-06]])"
      ]
     },
     "execution_count": 51,
     "metadata": {},
     "output_type": "execute_result"
    }
   ],
   "source": [
    "# Scaling data to create the scatter plot with tradable cryptocurrencies.\n",
    "scaling_data = clustered_df.copy()\n",
    "scaling_data_2 = scaling_data.drop(\n",
    "    [\"Algorithm\", \"ProofType\",\"PC 1\", \"PC 2\", \"PC 3\", \"CoinName\", \"Class\"], \n",
    "    axis=1\n",
    ")\n",
    "min_max = MinMaxScaler().fit_transform(scaling_data_2)\n",
    "min_max"
   ]
  },
  {
   "cell_type": "code",
   "execution_count": 52,
   "metadata": {},
   "outputs": [
    {
     "data": {
      "text/html": [
       "<div>\n",
       "<style scoped>\n",
       "    .dataframe tbody tr th:only-of-type {\n",
       "        vertical-align: middle;\n",
       "    }\n",
       "\n",
       "    .dataframe tbody tr th {\n",
       "        vertical-align: top;\n",
       "    }\n",
       "\n",
       "    .dataframe thead th {\n",
       "        text-align: right;\n",
       "    }\n",
       "</style>\n",
       "<table border=\"1\" class=\"dataframe\">\n",
       "  <thead>\n",
       "    <tr style=\"text-align: right;\">\n",
       "      <th></th>\n",
       "      <th>TotalCoinsMined</th>\n",
       "      <th>TotalCoinSupply</th>\n",
       "      <th>CoinName</th>\n",
       "      <th>Class</th>\n",
       "    </tr>\n",
       "  </thead>\n",
       "  <tbody>\n",
       "    <tr>\n",
       "      <th>42</th>\n",
       "      <td>0.000000</td>\n",
       "      <td>4.200000e-11</td>\n",
       "      <td>42 Coin</td>\n",
       "      <td>0</td>\n",
       "    </tr>\n",
       "    <tr>\n",
       "      <th>404</th>\n",
       "      <td>0.001066</td>\n",
       "      <td>5.320000e-04</td>\n",
       "      <td>404Coin</td>\n",
       "      <td>0</td>\n",
       "    </tr>\n",
       "    <tr>\n",
       "      <th>1337</th>\n",
       "      <td>0.029576</td>\n",
       "      <td>3.141593e-01</td>\n",
       "      <td>EliteCoin</td>\n",
       "      <td>0</td>\n",
       "    </tr>\n",
       "    <tr>\n",
       "      <th>BTC</th>\n",
       "      <td>0.000018</td>\n",
       "      <td>2.100000e-05</td>\n",
       "      <td>Bitcoin</td>\n",
       "      <td>1</td>\n",
       "    </tr>\n",
       "    <tr>\n",
       "      <th>ETH</th>\n",
       "      <td>0.000109</td>\n",
       "      <td>0.000000e+00</td>\n",
       "      <td>Ethereum</td>\n",
       "      <td>1</td>\n",
       "    </tr>\n",
       "    <tr>\n",
       "      <th>LTC</th>\n",
       "      <td>0.000064</td>\n",
       "      <td>8.400000e-05</td>\n",
       "      <td>Litecoin</td>\n",
       "      <td>1</td>\n",
       "    </tr>\n",
       "    <tr>\n",
       "      <th>DASH</th>\n",
       "      <td>0.000009</td>\n",
       "      <td>2.200000e-05</td>\n",
       "      <td>Dash</td>\n",
       "      <td>0</td>\n",
       "    </tr>\n",
       "    <tr>\n",
       "      <th>XMR</th>\n",
       "      <td>0.000017</td>\n",
       "      <td>0.000000e+00</td>\n",
       "      <td>Monero</td>\n",
       "      <td>1</td>\n",
       "    </tr>\n",
       "    <tr>\n",
       "      <th>ETC</th>\n",
       "      <td>0.000115</td>\n",
       "      <td>2.100000e-04</td>\n",
       "      <td>Ethereum Classic</td>\n",
       "      <td>1</td>\n",
       "    </tr>\n",
       "    <tr>\n",
       "      <th>ZEC</th>\n",
       "      <td>0.000007</td>\n",
       "      <td>2.100000e-05</td>\n",
       "      <td>ZCash</td>\n",
       "      <td>1</td>\n",
       "    </tr>\n",
       "  </tbody>\n",
       "</table>\n",
       "</div>"
      ],
      "text/plain": [
       "      TotalCoinsMined  TotalCoinSupply          CoinName  Class\n",
       "42           0.000000     4.200000e-11           42 Coin      0\n",
       "404          0.001066     5.320000e-04           404Coin      0\n",
       "1337         0.029576     3.141593e-01         EliteCoin      0\n",
       "BTC          0.000018     2.100000e-05           Bitcoin      1\n",
       "ETH          0.000109     0.000000e+00          Ethereum      1\n",
       "LTC          0.000064     8.400000e-05          Litecoin      1\n",
       "DASH         0.000009     2.200000e-05              Dash      0\n",
       "XMR          0.000017     0.000000e+00            Monero      1\n",
       "ETC          0.000115     2.100000e-04  Ethereum Classic      1\n",
       "ZEC          0.000007     2.100000e-05             ZCash      1"
      ]
     },
     "execution_count": 52,
     "metadata": {},
     "output_type": "execute_result"
    }
   ],
   "source": [
    "# Create a new DataFrame that has the scaled data with the clustered_df DataFrame index.\n",
    "plot_df = pd.DataFrame(\n",
    "    data=min_max,\n",
    "    columns=[\"TotalCoinsMined\", \"TotalCoinSupply\"],\n",
    "    index=clustered_df.index\n",
    ")\n",
    "\n",
    "# Add the \"CoinName\" column from the clustered_df DataFrame to the new DataFrame.\n",
    "plot_df['CoinName']=clustered_df['CoinName']\n",
    "\n",
    "# Add the \"Class\" column from the clustered_df DataFrame to the new DataFrame. \n",
    "plot_df[\"Class\"] = clustered_df[\"Class\"]\n",
    "\n",
    "plot_df.head(10)"
   ]
  },
  {
   "cell_type": "code",
   "execution_count": 53,
   "metadata": {},
   "outputs": [
    {
     "data": {},
     "metadata": {},
     "output_type": "display_data"
    },
    {
     "data": {
      "application/vnd.holoviews_exec.v0+json": "",
      "text/html": [
       "<div id='1358'>\n",
       "  <div class=\"bk-root\" id=\"6c11daff-9bce-45e2-8274-779ddb8bb96e\" data-root-id=\"1358\"></div>\n",
       "</div>\n",
       "<script type=\"application/javascript\">(function(root) {\n",
       "  function embed_document(root) {\n",
       "    var docs_json = {\"efcab59d-c21b-4ae5-9a0b-5ea81a7876dc\":{\"defs\":[{\"extends\":null,\"module\":null,\"name\":\"ReactiveHTML1\",\"overrides\":[],\"properties\":[]},{\"extends\":null,\"module\":null,\"name\":\"FlexBox1\",\"overrides\":[],\"properties\":[{\"default\":\"flex-start\",\"kind\":null,\"name\":\"align_content\"},{\"default\":\"flex-start\",\"kind\":null,\"name\":\"align_items\"},{\"default\":\"row\",\"kind\":null,\"name\":\"flex_direction\"},{\"default\":\"wrap\",\"kind\":null,\"name\":\"flex_wrap\"},{\"default\":\"flex-start\",\"kind\":null,\"name\":\"justify_content\"}]},{\"extends\":null,\"module\":null,\"name\":\"GridStack1\",\"overrides\":[],\"properties\":[{\"default\":\"warn\",\"kind\":null,\"name\":\"mode\"},{\"default\":null,\"kind\":null,\"name\":\"ncols\"},{\"default\":null,\"kind\":null,\"name\":\"nrows\"},{\"default\":true,\"kind\":null,\"name\":\"allow_resize\"},{\"default\":true,\"kind\":null,\"name\":\"allow_drag\"},{\"default\":[],\"kind\":null,\"name\":\"state\"}]},{\"extends\":null,\"module\":null,\"name\":\"click1\",\"overrides\":[],\"properties\":[{\"default\":\"\",\"kind\":null,\"name\":\"terminal_output\"},{\"default\":\"\",\"kind\":null,\"name\":\"debug_name\"},{\"default\":0,\"kind\":null,\"name\":\"clears\"}]},{\"extends\":null,\"module\":null,\"name\":\"NotificationAreaBase1\",\"overrides\":[],\"properties\":[{\"default\":\"bottom-right\",\"kind\":null,\"name\":\"position\"},{\"default\":0,\"kind\":null,\"name\":\"_clear\"}]},{\"extends\":null,\"module\":null,\"name\":\"NotificationArea1\",\"overrides\":[],\"properties\":[{\"default\":[],\"kind\":null,\"name\":\"notifications\"},{\"default\":\"bottom-right\",\"kind\":null,\"name\":\"position\"},{\"default\":0,\"kind\":null,\"name\":\"_clear\"},{\"default\":[{\"background\":\"#ffc107\",\"icon\":{\"className\":\"fas fa-exclamation-triangle\",\"color\":\"white\",\"tagName\":\"i\"},\"type\":\"warning\"},{\"background\":\"#007bff\",\"icon\":{\"className\":\"fas fa-info-circle\",\"color\":\"white\",\"tagName\":\"i\"},\"type\":\"info\"}],\"kind\":null,\"name\":\"types\"}]},{\"extends\":null,\"module\":null,\"name\":\"Notification\",\"overrides\":[],\"properties\":[{\"default\":null,\"kind\":null,\"name\":\"background\"},{\"default\":3000,\"kind\":null,\"name\":\"duration\"},{\"default\":null,\"kind\":null,\"name\":\"icon\"},{\"default\":\"\",\"kind\":null,\"name\":\"message\"},{\"default\":null,\"kind\":null,\"name\":\"notification_type\"},{\"default\":false,\"kind\":null,\"name\":\"_destroyed\"}]},{\"extends\":null,\"module\":null,\"name\":\"TemplateActions1\",\"overrides\":[],\"properties\":[{\"default\":0,\"kind\":null,\"name\":\"open_modal\"},{\"default\":0,\"kind\":null,\"name\":\"close_modal\"}]},{\"extends\":null,\"module\":null,\"name\":\"MaterialTemplateActions1\",\"overrides\":[],\"properties\":[{\"default\":0,\"kind\":null,\"name\":\"open_modal\"},{\"default\":0,\"kind\":null,\"name\":\"close_modal\"}]}],\"roots\":{\"references\":[{\"attributes\":{\"angle\":{\"value\":0.0},\"fill_alpha\":{\"value\":1.0},\"fill_color\":{\"value\":\"#e5ae38\"},\"hatch_alpha\":{\"value\":1.0},\"hatch_color\":{\"value\":\"#e5ae38\"},\"hatch_scale\":{\"value\":12.0},\"hatch_weight\":{\"value\":1.0},\"line_alpha\":{\"value\":1.0},\"line_cap\":{\"value\":\"butt\"},\"line_color\":{\"value\":\"#e5ae38\"},\"line_dash\":{\"value\":[]},\"line_dash_offset\":{\"value\":0},\"line_join\":{\"value\":\"bevel\"},\"line_width\":{\"value\":1},\"marker\":{\"value\":\"circle\"},\"size\":{\"value\":5.477225575051661},\"x\":{\"field\":\"TotalCoinsMined\"},\"y\":{\"field\":\"TotalCoinSupply\"}},\"id\":\"1468\",\"type\":\"Scatter\"},{\"attributes\":{},\"id\":\"1403\",\"type\":\"Selection\"},{\"attributes\":{\"source\":{\"id\":\"1469\"}},\"id\":\"1476\",\"type\":\"CDSView\"},{\"attributes\":{\"children\":[{\"id\":\"1359\"},{\"id\":\"1366\"},{\"id\":\"1511\"}],\"margin\":[0,0,0,0],\"name\":\"Row01299\",\"tags\":[\"embedded\"]},\"id\":\"1358\",\"type\":\"Row\"},{\"attributes\":{\"fill_alpha\":{\"value\":0.1},\"fill_color\":{\"value\":\"#6d904f\"},\"hatch_alpha\":{\"value\":0.1},\"hatch_color\":{\"value\":\"#6d904f\"},\"line_alpha\":{\"value\":0.1},\"line_color\":{\"value\":\"#6d904f\"},\"size\":{\"value\":5.477225575051661},\"x\":{\"field\":\"TotalCoinsMined\"},\"y\":{\"field\":\"TotalCoinSupply\"}},\"id\":\"1473\",\"type\":\"Scatter\"},{\"attributes\":{},\"id\":\"1397\",\"type\":\"BasicTickFormatter\"},{\"attributes\":{\"fill_alpha\":{\"value\":0.2},\"fill_color\":{\"value\":\"#6d904f\"},\"hatch_alpha\":{\"value\":0.2},\"hatch_color\":{\"value\":\"#6d904f\"},\"line_alpha\":{\"value\":0.2},\"line_color\":{\"value\":\"#6d904f\"},\"size\":{\"value\":5.477225575051661},\"x\":{\"field\":\"TotalCoinsMined\"},\"y\":{\"field\":\"TotalCoinSupply\"}},\"id\":\"1474\",\"type\":\"Scatter\"},{\"attributes\":{},\"id\":\"1398\",\"type\":\"AllLabels\"},{\"attributes\":{\"data\":{\"Class\":[0,0,0,0,0,0,0,0,0,0,0,0,0,0,0,0,0,0,0,0,0,0,0,0,0,0,0,0,0,0,0,0,0,0,0,0,0,0,0,0,0,0,0,0,0,0,0,0,0,0,0,0,0,0,0,0,0,0,0,0,0,0,0,0,0,0,0,0,0,0,0,0,0,0,0,0,0,0,0,0,0,0,0,0,0,0,0,0,0,0,0,0,0,0,0,0,0,0,0,0,0,0,0,0,0,0,0,0,0,0,0,0,0,0,0,0,0,0,0,0,0,0,0,0,0,0,0,0,0,0,0,0,0,0,0,0,0,0,0,0,0,0,0,0,0,0,0,0,0,0,0,0,0,0,0,0,0,0,0,0,0,0,0,0,0,0,0,0,0,0,0,0,0,0,0,0,0,0,0,0,0,0,0,0,0,0,0,0,0,0,0,0,0,0,0,0,0,0,0,0,0,0,0,0,0,0,0,0,0,0,0,0,0,0,0,0,0,0,0,0,0,0,0,0,0,0,0,0,0,0,0,0,0,0,0,0,0,0,0,0,0,0,0,0,0,0,0,0,0,0,0,0,0,0,0,0,0,0,0,0,0,0,0,0,0,0,0,0,0,0,0,0,0,0,0,0,0,0,0,0,0,0,0,0,0,0,0],\"CoinName\":[\"42 Coin\",\"404Coin\",\"EliteCoin\",\"Dash\",\"Bitshares\",\"BitcoinDark\",\"PayCoin\",\"KoboCoin\",\"Aurora Coin\",\"BlueCoin\",\"EnergyCoin\",\"BitBar\",\"CryptoBullion\",\"CasinoCoin\",\"Diamond\",\"Exclusive Coin\",\"FlutterCoin\",\"HoboNickels\",\"HyperStake\",\"IOCoin\",\"MaxCoin\",\"MintCoin\",\"MazaCoin\",\"Nautilus Coin\",\"NavCoin\",\"OpalCoin\",\"Orbitcoin\",\"PotCoin\",\"PhoenixCoin\",\"Reddcoin\",\"SuperCoin\",\"SyncCoin\",\"TeslaCoin\",\"TittieCoin\",\"TorCoin\",\"UnitaryStatus Dollar\",\"UltraCoin\",\"VeriCoin\",\"X11 Coin\",\"Crypti\",\"StealthCoin\",\"ZCC Coin\",\"BurstCoin\",\"StorjCoin\",\"Neutron\",\"FairCoin\",\"RubyCoin\",\"Kore\",\"Dnotes\",\"8BIT Coin\",\"Sativa Coin\",\"Ucoin\",\"Vtorrent\",\"IslaCoin\",\"Nexus\",\"Droidz\",\"Squall Coin\",\"Diggits\",\"Paycon\",\"Emercoin\",\"EverGreenCoin\",\"Decred\",\"EDRCoin\",\"Hitcoin\",\"DubaiCoin\",\"PWR Coin\",\"BillaryCoin\",\"GPU Coin\",\"EuropeCoin\",\"ZeitCoin\",\"SwingCoin\",\"SafeExchangeCoin\",\"Nebuchadnezzar\",\"Ratecoin\",\"Revenu\",\"Clockcoin\",\"VIP Tokens\",\"BitSend\",\"Let it Ride\",\"PutinCoin\",\"iBankCoin\",\"Frankywillcoin\",\"MudraCoin\",\"Lutetium Coin\",\"GoldBlocks\",\"CarterCoin\",\"BitTokens\",\"MustangCoin\",\"ZoneCoin\",\"RootCoin\",\"BitCurrency\",\"Swiscoin\",\"BuzzCoin\",\"Opair\",\"PesoBit\",\"Halloween Coin\",\"CoffeeCoin\",\"RoyalCoin\",\"GanjaCoin V2\",\"TeamUP\",\"LanaCoin\",\"ARK\",\"InsaneCoin\",\"EmberCoin\",\"XenixCoin\",\"FreeCoin\",\"PLNCoin\",\"AquariusCoin\",\"Creatio\",\"Eternity\",\"Eurocoin\",\"BitcoinFast\",\"Stakenet\",\"BitConnect Coin\",\"MoneyCoin\",\"Enigma\",\"Russiacoin\",\"PandaCoin\",\"GameUnits\",\"GAKHcoin\",\"Allsafe\",\"LiteCreed\",\"Klingon Empire Darsek\",\"Internet of People\",\"KushCoin\",\"Printerium\",\"Impeach\",\"Zilbercoin\",\"FirstCoin\",\"FindCoin\",\"OpenChat\",\"RenosCoin\",\"VirtacoinPlus\",\"TajCoin\",\"Impact\",\"Atmos\",\"HappyCoin\",\"MacronCoin\",\"Condensate\",\"Independent Money System\",\"ArgusCoin\",\"LomoCoin\",\"ProCurrency\",\"GoldReserve\",\"GrowthCoin\",\"Phreak\",\"Degas Coin\",\"HTML5 Coin\",\"Ultimate Secure Cash\",\"QTUM\",\"Espers\",\"Denarius\",\"Virta Unique Coin\",\"Bitcoin Planet\",\"BritCoin\",\"Linda\",\"DeepOnion\",\"Signatum\",\"Cream\",\"Monoeci\",\"Draftcoin\",\"Vechain\",\"Stakecoin\",\"CoinonatX\",\"Ethereum Dark\",\"Obsidian\",\"Cardano\",\"Regalcoin\",\"TrezarCoin\",\"TerraNovaCoin\",\"Rupee\",\"WomenCoin\",\"Theresa May Coin\",\"NamoCoin\",\"LUXCoin\",\"Xios\",\"Bitcloud 2.0\",\"KekCoin\",\"BlackholeCoin\",\"Infinity Economics\",\"Magnet\",\"Lamden Tau\",\"Electra\",\"Bitcoin Diamond\",\"Cash & Back Coin\",\"Bulwark\",\"Kalkulus\",\"GermanCoin\",\"LiteCoin Ultra\",\"PhantomX\",\"Digiwage\",\"Trollcoin\",\"Litecoin Plus\",\"Monkey Project\",\"TokenPay\",\"My Big Coin\",\"Unified Society USDEX\",\"Tokyo Coin\",\"Stipend\",\"Pushi\",\"Ellerium\",\"Velox\",\"Ontology\",\"Bitspace\",\"Briacoin\",\"Ignition\",\"MedicCoin\",\"Bitcoin Green\",\"Deviant Coin\",\"Abjcoin\",\"Semux\",\"Carebit\",\"Zealium\",\"Proton\",\"iDealCash\",\"Bitcoin Incognito\",\"HollyWoodCoin\",\"Swisscoin\",\"Xt3ch\",\"TheVig\",\"EmaratCoin\",\"Dekado\",\"Lynx\",\"Poseidon Quark\",\"BitcoinWSpectrum\",\"Muse\",\"Trivechain\",\"Dystem\",\"Giant\",\"Peony Coin\",\"Absolute Coin\",\"Vitae\",\"TPCash\",\"ARENON\",\"EUNO\",\"MMOCoin\",\"Ketan\",\"XDNA\",\"PAXEX\",\"ThunderStake\",\"Kcash\",\"Bettex coin\",\"BitMoney\",\"Junson Ming Chan Coin\",\"HerbCoin\",\"PirateCash\",\"Oduwa\",\"Galilel\",\"Crypto Sports\",\"Credit\",\"Dash Platinum\",\"Nasdacoin\",\"Beetle Coin\",\"Titan Coin\",\"Award\",\"Insane Coin\",\"ALAX\",\"LiteDoge\",\"TruckCoin\",\"OrangeCoin\",\"BitstarCoin\",\"NeosCoin\",\"HyperCoin\",\"PinkCoin\",\"AudioCoin\",\"IncaKoin\",\"Piggy Coin\",\"Genstake\",\"XiaoMiCoin\",\"CapriCoin\",\" ClubCoin\",\"Radium\",\"Creditbit \",\"OKCash\",\"Lisk\",\"HiCoin\",\"WhiteCoin\",\"FriendshipCoin\",\"Triangles Coin\",\"EOS\",\"Oxycoin\",\"TigerCash\",\"Particl\",\"Nxt\",\"ZEPHYR\",\"Gapcoin\",\"BitcoinPlus\"],\"TotalCoinSupply\":{\"__ndarray__\":\"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\",\"dtype\":\"float64\",\"order\":\"little\",\"shape\":[287]},\"TotalCoinsMined\":{\"__ndarray__\":\"AAAAAAAAAADVQ6eRhXZRP0gFXx0LSZ4/fb2YAaYh4z6ruJV6oa9mP4fxacJq17U+W7PlNwxp6T7W0pn52A37PoFADD9SNfM+Y2BMhDkIRT+TanQDD0sgP35ukl9tEWc+7S9W9+ubsT49x1z95a+kP28YHhABAMw+ye+KsSkQ2D76DhvNkpI+P1ecpQYuoxc/Ypyz9GrHWz/7kyPDCLLyPpO8/kFBRRA/0/9nDoYGlj/8i/ixXrVaP7x4IiUyI/E+j6uxX+B/ET9yUL0Vow3wPvxfgvURSss+cvkNgl17LT+LzHsEg5UTPwaytCCdUp4/8TiBm6/aCj9doxA1Q7ITPkOS6FanQBU/dL+NX1fZWj+VBQyzwkO4PlcDUAL0L1I/fTIxK6KaCj/j5byfQfUAPxuOVInTct0++0V+YL96Gj9FarAorYYBPzHwJWnxlyM/L/f3qVABXj+Tp6kxyxkLP8ZkQxXrtwQ/ibYLlr8rDD876RpKEMv8PqXMCj0KI8E+Y9QbIWkfJz/NWTdK5t+4PhEtw1ouEd4+SuSuQabKxj5dOKHlN5XoPj9ykiLfprk+IXp/RSnbED9yRrm5bCbiPvbV3K8TUJY++0V+YL96Gj+usZO2/Wf4PjQmLIvTzQY/1efNMZmp7D5+56xI8fTlPuaDOXY0GM8+uMNU6Ym/hj8I144k4rrVPosWSaGt1IQ/AkyV+P4P4z7jP4drq28FPzwUggjXC+Y+7L0e6OUeoz9rTh5jVovSPvn/Em4kxWE/kQBSK/0u9T7vjyYFktAhP3lc7dd7QrQ+QPXFzhym8T4+Nd5F5BgWP9J6jnO41Pk+ObDN1M5vBD+HQ9Dqr+lKP3YCdaw0LdM++0V+YL96Gj/CsEps9C7VPlS9UGUMv0U/pqRxDiJ88D7oqXRGKNwGP54PeOINLqQ+9FiPodBJpj5CAX3zt+DFPsR5KJfqb8A+T/4f/1R0Jj9wy+L1hwRGP4Iw9VQZQJQ/QVxHa5CaEz9q4x6W3sABP+anRel4hTE//jSGyJGwIz9a3dieLS/FPvtFfmC/eho/0CaSSobf8j7om9ie0ehRP4yfDBK/phw/2bdahaRt8z5pi0xWDNe3PzoFWd5FU9A+qVTopb56Cj8Kl7V81RnyPnWw/lSIwcQ+kQBSK/0u9T4WN5ZE6rbZPjz585B5Teo+mJbD7Cdx9T4t+OpgFAQUP+s1WKcNeec+4Jew0N0e5z5bwhuTX5yrPv5ylEtMv+E+qgjVT8Z8oT9eSCgLgW3NPrZMGtKEGMw+gWG4BsRH5j7bwMkrHwIAP/7gqRozYvk+ycQ2iXpnxT4Swqe2z/nXPmWo1pTmCuk+NMilXEnjlD75z9m7pMPIPrZ+M2OfIB0/oIVe/s3E7j56Q0MFuIxQP8DjwNiFFwM/Yojc8CLi6z6/xleSd8/pPjaSA+NaSx0/RxRsP55tHT8TzIbUfsv2PvWgsIfWkjo/vX+hfbIbID9qIh3CGb/WPtzbifm0dbM+ClzCLAnyoD4HdZcEvp8aP4T+AFYCMPI+MqZkmp+JMz9Xk1ir5SDoPkAjePZqn/Y+EiXgvSYHpT8A2wc5DOnlPvtFfmC/eho/PAT7udKVlz/kKuRSPKzRPvzVMe6uqhA/LSuoRvfT3D741RgF1Yb2PjQa6ZQatoI/cEzD1ck29z5MptGTM5ccP79RNfoAEQk/A/IJ6Umg6j460UXAisTzPs2g4AcRrqw/mO9bzlry0D6EUc3xJbL0PqB8WFRGy9E+B3K8ML16+j57/PtlW9GaP8LmK5XBxN4+Bh/umUwuKD8wD8hOyFSzPrzBQMmWa/k+rp7aV+kPqT9CUqMh5F8YP74vR7jljUI/McZWDzOY4T6jQtQrAzfCPh9wp4i2QwA/xDTgUPke6j4Qs5xlsVTxPkgxPBFPnoI/fiLM5MQ6BD+6ihEDPBIzP7lLXILzX50/YrqCwqdMKD/hujF22WIdP2ulizrsD+w+x4lPZ4v18T5woSpeKVJ0P4cZ6sLR1eE+fhwrH33sBz9y9oQbTOr8Pnc7MYj+j0M/CEcxCKQ4xT7hpgdtD6zSPrvcymHip/U+RIhXsT3p4z4SYLbW0RcvP+7nRXixfS4/5zpHmZTV5z675foWXF7CPr3GtnU1a5w+0BICUEwV+z4YmxHV7IpFP9oXMpkhNe0+8OWc8hCprD50qFQMeQi0PrhnnCDcsTE/2g6h9YTE5D7nUt5T0yv3PpDfXIos7uQ+mhHUuAbdtD5VKY49TIAiP6Jvk38Wduc+w3Op81Co0j5GNcFNBT1XP5ITnjO9Gec+oSQJmqt/BD8u8B4U0RmFP/TH2vq5KeA+KikY50KaAT+8pDhhpuD2PnIyP0TGCQA/fCaYJAgjtD8ryv/7BwTHPjZJd6O4nQ4/wKsguotF8z6GP57A2I0DPzXp732EAd4+rDHFwjsU2T5GhHshfKixPjmttaFBPuw+h6Fq6Z99ET99KAFD6+TWPlZtDKPqaPQ+io8aO8pLAD+b+oRxCokcP8RoNbwUwuM+7om/ZcPL0z6LmxGrrxXTPuttXDi6ilE/ekNDBbiMUD+PpPcVk8HcPuXrojJimys/qyDjxRnNkT/It8W1cbMCP5hG8hX4i+w+ImlavtdN7z7j92z1i1jzPgfZcP2pZMA+iirv8H3inz/i1s0RRUGoPkBWWhkuw/U+omxXO8JWKj8jMEysQqtNPyjBbHovVfA+C5KNNNcu+T56Q0MFuIxQP2D1pTy6sI8/zCNKYd8OMD+tHcn0sfjNPmOsZctQy/U+f2HIS8yb0j5kYzQw+mbkPiMYZ3/U4jw/nNMshRY7UD+cQ8suWY6SP4nBtdPqW0A/H8ZSq37GDz84uK+F5sM6P2MAAb39qCo/GCSU+ENwGz9L9hxTejDQPsPpRhaz5vE+mJIs6RnGEz8y4x8SUscfP/Gwxj8HsIQ/W6H50rSuMD+k9GATf/yyPqtJN1OLFIM+RW+UnMLjUD8RwmraN5NSP3pDQwW4jFA/s0VJGDmq4z56Q0MFuIxQPwcccQq4jGA/OcIUhBWh7z5CDuXNaWSBPg==\",\"dtype\":\"float64\",\"order\":\"little\",\"shape\":[287]}},\"selected\":{\"id\":\"1403\"},\"selection_policy\":{\"id\":\"1417\"}},\"id\":\"1402\",\"type\":\"ColumnDataSource\"},{\"attributes\":{\"margin\":[5,5,5,5],\"name\":\"HSpacer01304\",\"sizing_mode\":\"stretch_width\"},\"id\":\"1511\",\"type\":\"Spacer\"},{\"attributes\":{},\"id\":\"1400\",\"type\":\"BasicTickFormatter\"},{\"attributes\":{},\"id\":\"1401\",\"type\":\"AllLabels\"},{\"attributes\":{\"angle\":{\"value\":0.0},\"fill_alpha\":{\"value\":1.0},\"fill_color\":{\"value\":\"#fc4f30\"},\"hatch_alpha\":{\"value\":1.0},\"hatch_color\":{\"value\":\"#fc4f30\"},\"hatch_scale\":{\"value\":12.0},\"hatch_weight\":{\"value\":1.0},\"line_alpha\":{\"value\":1.0},\"line_cap\":{\"value\":\"butt\"},\"line_color\":{\"value\":\"#fc4f30\"},\"line_dash\":{\"value\":[]},\"line_dash_offset\":{\"value\":0},\"line_join\":{\"value\":\"bevel\"},\"line_width\":{\"value\":1},\"marker\":{\"value\":\"circle\"},\"size\":{\"value\":5.477225575051661},\"x\":{\"field\":\"TotalCoinsMined\"},\"y\":{\"field\":\"TotalCoinSupply\"}},\"id\":\"1444\",\"type\":\"Scatter\"},{\"attributes\":{\"callback\":null,\"renderers\":[{\"id\":\"1408\"},{\"id\":\"1429\"},{\"id\":\"1451\"},{\"id\":\"1475\"}],\"tags\":[\"hv_created\"],\"tooltips\":[[\"Class\",\"@{Class}\"],[\"TotalCoinsMined\",\"@{TotalCoinsMined}\"],[\"TotalCoinSupply\",\"@{TotalCoinSupply}\"],[\"CoinName\",\"@{CoinName}\"]]},\"id\":\"1362\",\"type\":\"HoverTool\"},{\"attributes\":{\"margin\":[5,5,5,5],\"name\":\"HSpacer01303\",\"sizing_mode\":\"stretch_width\"},\"id\":\"1359\",\"type\":\"Spacer\"},{\"attributes\":{},\"id\":\"1470\",\"type\":\"Selection\"},{\"attributes\":{\"label\":{\"value\":\"0\"},\"renderers\":[{\"id\":\"1408\"}]},\"id\":\"1421\",\"type\":\"LegendItem\"},{\"attributes\":{\"end\":1.1,\"reset_end\":1.1,\"reset_start\":-0.1,\"start\":-0.1,\"tags\":[[[\"TotalCoinSupply\",\"TotalCoinSupply\",null]]]},\"id\":\"1361\",\"type\":\"Range1d\"},{\"attributes\":{\"source\":{\"id\":\"1445\"}},\"id\":\"1452\",\"type\":\"CDSView\"},{\"attributes\":{\"fill_alpha\":{\"value\":0.1},\"fill_color\":{\"value\":\"#e5ae38\"},\"hatch_alpha\":{\"value\":0.1},\"hatch_color\":{\"value\":\"#e5ae38\"},\"line_alpha\":{\"value\":0.1},\"line_color\":{\"value\":\"#e5ae38\"},\"size\":{\"value\":5.477225575051661},\"x\":{\"field\":\"TotalCoinsMined\"},\"y\":{\"field\":\"TotalCoinSupply\"}},\"id\":\"1449\",\"type\":\"Scatter\"},{\"attributes\":{},\"id\":\"1371\",\"type\":\"LinearScale\"},{\"attributes\":{\"fill_alpha\":{\"value\":0.2},\"fill_color\":{\"value\":\"#e5ae38\"},\"hatch_alpha\":{\"value\":0.2},\"hatch_color\":{\"value\":\"#e5ae38\"},\"line_alpha\":{\"value\":0.2},\"line_color\":{\"value\":\"#e5ae38\"},\"size\":{\"value\":5.477225575051661},\"x\":{\"field\":\"TotalCoinsMined\"},\"y\":{\"field\":\"TotalCoinSupply\"}},\"id\":\"1450\",\"type\":\"Scatter\"},{\"attributes\":{\"end\":1.042857142857143,\"reset_end\":1.042857142857143,\"reset_start\":-0.04285714285714286,\"start\":-0.04285714285714286,\"tags\":[[[\"TotalCoinsMined\",\"TotalCoinsMined\",null]]]},\"id\":\"1360\",\"type\":\"Range1d\"},{\"attributes\":{\"coordinates\":null,\"data_source\":{\"id\":\"1469\"},\"glyph\":{\"id\":\"1472\"},\"group\":null,\"hover_glyph\":null,\"muted_glyph\":{\"id\":\"1474\"},\"nonselection_glyph\":{\"id\":\"1473\"},\"selection_glyph\":{\"id\":\"1494\"},\"view\":{\"id\":\"1476\"}},\"id\":\"1475\",\"type\":\"GlyphRenderer\"},{\"attributes\":{\"angle\":{\"value\":0.0},\"fill_alpha\":{\"value\":1.0},\"fill_color\":{\"value\":\"#30a2da\"},\"hatch_alpha\":{\"value\":1.0},\"hatch_color\":{\"value\":\"#30a2da\"},\"hatch_scale\":{\"value\":12.0},\"hatch_weight\":{\"value\":1.0},\"line_alpha\":{\"value\":1.0},\"line_cap\":{\"value\":\"butt\"},\"line_color\":{\"value\":\"#30a2da\"},\"line_dash\":{\"value\":[]},\"line_dash_offset\":{\"value\":0},\"line_join\":{\"value\":\"bevel\"},\"line_width\":{\"value\":1},\"marker\":{\"value\":\"circle\"},\"size\":{\"value\":5.477225575051661},\"x\":{\"field\":\"TotalCoinsMined\"},\"y\":{\"field\":\"TotalCoinSupply\"}},\"id\":\"1422\",\"type\":\"Scatter\"},{\"attributes\":{},\"id\":\"1490\",\"type\":\"UnionRenderers\"},{\"attributes\":{\"click_policy\":\"mute\",\"coordinates\":null,\"group\":null,\"items\":[{\"id\":\"1421\"},{\"id\":\"1443\"},{\"id\":\"1467\"},{\"id\":\"1493\"}],\"location\":[0,0],\"title\":\"Class\"},\"id\":\"1420\",\"type\":\"Legend\"},{\"attributes\":{},\"id\":\"1424\",\"type\":\"Selection\"},{\"attributes\":{\"label\":{\"value\":\"3\"},\"renderers\":[{\"id\":\"1475\"}]},\"id\":\"1493\",\"type\":\"LegendItem\"},{\"attributes\":{},\"id\":\"1446\",\"type\":\"Selection\"},{\"attributes\":{\"data\":{\"Class\":[2,2,2,2,2],\"CoinName\":[\"BiblePay\",\"LitecoinCash\",\"Poa Network\",\"Acute Angle Cloud\",\"Waves\"],\"TotalCoinSupply\":{\"__ndarray__\":\"lPYGX5hMdT+8eapDboZLP4RaKOGWizA//Knx0k1iUD8sQxzr4jYaPw==\",\"dtype\":\"float64\",\"order\":\"little\",\"shape\":[5]},\"TotalCoinsMined\":{\"__ndarray__\":\"j1gNkdpTXT+QpMXySiFFP5wZJXiPEis/ekNDBbiMUD/7RX5gv3oaPw==\",\"dtype\":\"float64\",\"order\":\"little\",\"shape\":[5]}},\"selected\":{\"id\":\"1446\"},\"selection_policy\":{\"id\":\"1464\"}},\"id\":\"1445\",\"type\":\"ColumnDataSource\"},{\"attributes\":{},\"id\":\"1373\",\"type\":\"LinearScale\"},{\"attributes\":{\"source\":{\"id\":\"1423\"}},\"id\":\"1430\",\"type\":\"CDSView\"},{\"attributes\":{\"below\":[{\"id\":\"1375\"}],\"center\":[{\"id\":\"1378\"},{\"id\":\"1382\"}],\"height\":300,\"left\":[{\"id\":\"1379\"}],\"margin\":[5,5,5,5],\"min_border_bottom\":10,\"min_border_left\":10,\"min_border_right\":10,\"min_border_top\":10,\"renderers\":[{\"id\":\"1408\"},{\"id\":\"1429\"},{\"id\":\"1451\"},{\"id\":\"1475\"}],\"right\":[{\"id\":\"1420\"}],\"sizing_mode\":\"fixed\",\"title\":{\"id\":\"1367\"},\"toolbar\":{\"id\":\"1389\"},\"width\":700,\"x_range\":{\"id\":\"1360\"},\"x_scale\":{\"id\":\"1371\"},\"y_range\":{\"id\":\"1361\"},\"y_scale\":{\"id\":\"1373\"}},\"id\":\"1366\",\"subtype\":\"Figure\",\"type\":\"Plot\"},{\"attributes\":{\"fill_alpha\":{\"value\":0.1},\"fill_color\":{\"value\":\"#fc4f30\"},\"hatch_alpha\":{\"value\":0.1},\"hatch_color\":{\"value\":\"#fc4f30\"},\"line_alpha\":{\"value\":0.1},\"line_color\":{\"value\":\"#fc4f30\"},\"size\":{\"value\":5.477225575051661},\"x\":{\"field\":\"TotalCoinsMined\"},\"y\":{\"field\":\"TotalCoinSupply\"}},\"id\":\"1427\",\"type\":\"Scatter\"},{\"attributes\":{\"coordinates\":null,\"group\":null,\"text_color\":\"black\",\"text_font_size\":\"12pt\"},\"id\":\"1367\",\"type\":\"Title\"},{\"attributes\":{\"axis_label\":\"TotalCoinsMined\",\"coordinates\":null,\"formatter\":{\"id\":\"1397\"},\"group\":null,\"major_label_policy\":{\"id\":\"1398\"},\"ticker\":{\"id\":\"1376\"}},\"id\":\"1375\",\"type\":\"LinearAxis\"},{\"attributes\":{\"fill_alpha\":{\"value\":0.2},\"fill_color\":{\"value\":\"#fc4f30\"},\"hatch_alpha\":{\"value\":0.2},\"hatch_color\":{\"value\":\"#fc4f30\"},\"line_alpha\":{\"value\":0.2},\"line_color\":{\"value\":\"#fc4f30\"},\"size\":{\"value\":5.477225575051661},\"x\":{\"field\":\"TotalCoinsMined\"},\"y\":{\"field\":\"TotalCoinSupply\"}},\"id\":\"1428\",\"type\":\"Scatter\"},{\"attributes\":{\"data\":{\"Class\":[1,1,1,1,1,1,1,1,1,1,1,1,1,1,1,1,1,1,1,1,1,1,1,1,1,1,1,1,1,1,1,1,1,1,1,1,1,1,1,1,1,1,1,1,1,1,1,1,1,1,1,1,1,1,1,1,1,1,1,1,1,1,1,1,1,1,1,1,1,1,1,1,1,1,1,1,1,1,1,1,1,1,1,1,1,1,1,1,1,1,1,1,1,1,1,1,1,1,1,1,1,1,1,1,1,1,1,1,1,1,1,1,1,1,1,1,1,1,1,1,1,1,1,1,1,1,1,1,1,1,1,1,1,1,1,1,1,1,1,1,1,1,1,1,1,1,1,1,1,1,1,1,1,1,1,1,1,1,1,1,1,1,1,1,1,1,1,1,1,1,1,1,1,1,1,1,1,1,1,1,1,1,1,1,1,1,1,1,1,1,1,1,1,1,1,1,1,1,1,1,1,1,1,1,1,1,1,1,1,1,1,1,1,1,1,1,1,1,1,1,1,1,1,1,1,1,1,1,1,1,1,1,1,1,1,1,1,1,1],\"CoinName\":[\"Bitcoin\",\"Ethereum\",\"Litecoin\",\"Monero\",\"Ethereum Classic\",\"ZCash\",\"DigiByte\",\"ProsperCoin\",\"Spreadcoin\",\"Argentum\",\"MyriadCoin\",\"MoonCoin\",\"ZetaCoin\",\"SexCoin\",\"Quatloo\",\"QuarkCoin\",\"Riecoin\",\"Digitalcoin \",\"Catcoin\",\"CannaCoin\",\"CryptCoin\",\"Verge\",\"DevCoin\",\"EarthCoin\",\"E-Gulden\",\"Einsteinium\",\"Emerald\",\"Franko\",\"FeatherCoin\",\"GrandCoin\",\"GlobalCoin\",\"GoldCoin\",\"Infinite Coin\",\"IXcoin\",\"KrugerCoin\",\"LuckyCoin\",\"Litebar \",\"MegaCoin\",\"MediterraneanCoin\",\"MinCoin\",\"NobleCoin\",\"Namecoin\",\"NyanCoin\",\"RonPaulCoin\",\"StableCoin\",\"SmartCoin\",\"SysCoin\",\"TigerCoin\",\"TerraCoin\",\"UnbreakableCoin\",\"Unobtanium\",\"UroCoin\",\"ViaCoin\",\"Vertcoin\",\"WorldCoin\",\"JouleCoin\",\"ByteCoin\",\"DigitalNote \",\"MonaCoin\",\"Gulden\",\"PesetaCoin\",\"Wild Beast Coin\",\"Flo\",\"ArtByte\",\"Folding Coin\",\"Unitus\",\"CypherPunkCoin\",\"OmniCron\",\"GreenCoin\",\"Cryptonite\",\"MasterCoin\",\"SoonCoin\",\"1Credit\",\"MarsCoin \",\"Crypto\",\"Anarchists Prime\",\"BowsCoin\",\"Song Coin\",\"BitZeny\",\"Expanse\",\"Siacoin\",\"MindCoin\",\"I0coin\",\"Revolution VR\",\"HOdlcoin\",\"Gamecredits\",\"CarpeDiemCoin\",\"Adzcoin\",\"SoilCoin\",\"YoCoin\",\"SibCoin\",\"Francs\",\"BolivarCoin\",\"Omni\",\"PizzaCoin\",\"Komodo\",\"Karbo\",\"ZayedCoin\",\"Circuits of Value\",\"DopeCoin\",\"DollarCoin\",\"Shilling\",\"ZCoin\",\"Elementrem\",\"ZClassic\",\"KiloCoin\",\"ArtexCoin\",\"Kurrent\",\"Cannabis Industry Coin\",\"OsmiumCoin\",\"Bikercoins\",\"HexxCoin\",\"PacCoin\",\"Citadel\",\"BeaverCoin\",\"VaultCoin\",\"Zero\",\"Canada eCoin\",\"Zoin\",\"DubaiCoin\",\"EB3coin\",\"Coinonat\",\"BenjiRolls\",\"ILCoin\",\"EquiTrader\",\"Quantum Resistant Ledger\",\"Dynamic\",\"Nano\",\"ChanCoin\",\"Dinastycoin\",\"DigitalPrice\",\"Unify\",\"SocialCoin\",\"ArcticCoin\",\"DAS\",\"LeviarCoin\",\"Bitcore\",\"gCn Coin\",\"SmartCash\",\"Onix\",\"Bitcoin Cash\",\"Sojourn Coin\",\"NewYorkCoin\",\"FrazCoin\",\"Kronecoin\",\"AdCoin\",\"Linx\",\"Sumokoin\",\"BitcoinZ\",\"Elements\",\"VIVO Coin\",\"Bitcoin Gold\",\"Pirl\",\"eBoost\",\"Pura\",\"Innova\",\"Ellaism\",\"GoByte\",\"SHIELD\",\"UltraNote\",\"BitCoal\",\"DaxxCoin\",\"AC3\",\"Lethean\",\"PopularCoin\",\"Photon\",\"Sucre\",\"SparksPay\",\"GunCoin\",\"IrishCoin\",\"Pioneer Coin\",\"UnitedBitcoin\",\"Interzone\",\"1717 Masonic Commemorative Token\",\"TurtleCoin\",\"MUNcoin\",\"Niobio Cash\",\"ShareChain\",\"Travelflex\",\"KREDS\",\"BitFlip\",\"LottoCoin\",\"Crypto Improvement Fund\",\"Callisto Network\",\"BitTube\",\"Poseidon\",\"Aidos Kuneen\",\"Bitrolium\",\"Alpenschillling\",\"FuturoCoin\",\"Monero Classic\",\"Jumpcoin\",\"Infinex\",\"KEYCO\",\"GINcoin\",\"PlatinCoin\",\"Loki\",\"Newton Coin\",\"MassGrid\",\"PluraCoin\",\"Motion\",\"PlusOneCoin\",\"Axe\",\"HexCoin\",\"Webchain\",\"Ryo\",\"Urals Coin\",\"Qwertycoin\",\"Project Pai\",\"Azart\",\"Xchange\",\"CrypticCoin\",\"Actinium\",\"Bitcoin SV\",\"FREDEnergy\",\"Universal Molecule\",\"Lithium\",\"Exosis\",\"Block-Logic\",\"Beam\",\"Bithereum\",\"SLICE\",\"BLAST\",\"Bitcoin Rhodium\",\"GlobalToken\",\"SolarCoin\",\"UFO Coin\",\"BlakeCoin\",\"Crypto Escudo\",\"Crown Coin\",\"SmileyCoin\",\"Groestlcoin\",\"Bata\",\"Pakcoin\",\"JoinCoin\",\"Vollar\",\"Reality Clash\",\"Beldex\",\"Horizen\"],\"TotalCoinSupply\":{\"__ndarray__\":\"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\",\"dtype\":\"float64\",\"order\":\"little\",\"shape\":[239]},\"TotalCoinsMined\":{\"__ndarray__\":\"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\",\"dtype\":\"float64\",\"order\":\"little\",\"shape\":[239]}},\"selected\":{\"id\":\"1424\"},\"selection_policy\":{\"id\":\"1440\"}},\"id\":\"1423\",\"type\":\"ColumnDataSource\"},{\"attributes\":{},\"id\":\"1376\",\"type\":\"BasicTicker\"},{\"attributes\":{\"fill_color\":{\"value\":\"#6d904f\"},\"hatch_color\":{\"value\":\"#6d904f\"},\"line_color\":{\"value\":\"#6d904f\"},\"size\":{\"value\":5.477225575051661},\"x\":{\"field\":\"TotalCoinsMined\"},\"y\":{\"field\":\"TotalCoinSupply\"}},\"id\":\"1472\",\"type\":\"Scatter\"},{\"attributes\":{\"axis\":{\"id\":\"1375\"},\"coordinates\":null,\"grid_line_color\":null,\"group\":null,\"ticker\":null},\"id\":\"1378\",\"type\":\"Grid\"},{\"attributes\":{\"data\":{\"Class\":[3],\"CoinName\":[\"BitTorrent\"],\"TotalCoinSupply\":{\"__ndarray__\":\"rkfhehSu7z8=\",\"dtype\":\"float64\",\"order\":\"little\",\"shape\":[1]},\"TotalCoinsMined\":{\"__ndarray__\":\"AAAAAAAA8D8=\",\"dtype\":\"float64\",\"order\":\"little\",\"shape\":[1]}},\"selected\":{\"id\":\"1470\"},\"selection_policy\":{\"id\":\"1490\"}},\"id\":\"1469\",\"type\":\"ColumnDataSource\"},{\"attributes\":{\"coordinates\":null,\"data_source\":{\"id\":\"1445\"},\"glyph\":{\"id\":\"1448\"},\"group\":null,\"hover_glyph\":null,\"muted_glyph\":{\"id\":\"1450\"},\"nonselection_glyph\":{\"id\":\"1449\"},\"selection_glyph\":{\"id\":\"1468\"},\"view\":{\"id\":\"1452\"}},\"id\":\"1451\",\"type\":\"GlyphRenderer\"},{\"attributes\":{},\"id\":\"1384\",\"type\":\"PanTool\"},{\"attributes\":{},\"id\":\"1464\",\"type\":\"UnionRenderers\"},{\"attributes\":{\"axis_label\":\"TotalCoinSupply\",\"coordinates\":null,\"formatter\":{\"id\":\"1400\"},\"group\":null,\"major_label_policy\":{\"id\":\"1401\"},\"ticker\":{\"id\":\"1380\"}},\"id\":\"1379\",\"type\":\"LinearAxis\"},{\"attributes\":{\"axis\":{\"id\":\"1379\"},\"coordinates\":null,\"dimension\":1,\"grid_line_color\":null,\"group\":null,\"ticker\":null},\"id\":\"1382\",\"type\":\"Grid\"},{\"attributes\":{},\"id\":\"1380\",\"type\":\"BasicTicker\"},{\"attributes\":{\"label\":{\"value\":\"2\"},\"renderers\":[{\"id\":\"1451\"}]},\"id\":\"1467\",\"type\":\"LegendItem\"},{\"attributes\":{},\"id\":\"1385\",\"type\":\"WheelZoomTool\"},{\"attributes\":{},\"id\":\"1383\",\"type\":\"SaveTool\"},{\"attributes\":{\"overlay\":{\"id\":\"1388\"}},\"id\":\"1386\",\"type\":\"BoxZoomTool\"},{\"attributes\":{},\"id\":\"1387\",\"type\":\"ResetTool\"},{\"attributes\":{\"fill_color\":{\"value\":\"#e5ae38\"},\"hatch_color\":{\"value\":\"#e5ae38\"},\"line_color\":{\"value\":\"#e5ae38\"},\"size\":{\"value\":5.477225575051661},\"x\":{\"field\":\"TotalCoinsMined\"},\"y\":{\"field\":\"TotalCoinSupply\"}},\"id\":\"1448\",\"type\":\"Scatter\"},{\"attributes\":{\"bottom_units\":\"screen\",\"coordinates\":null,\"fill_alpha\":0.5,\"fill_color\":\"lightgrey\",\"group\":null,\"left_units\":\"screen\",\"level\":\"overlay\",\"line_alpha\":1.0,\"line_color\":\"black\",\"line_dash\":[4,4],\"line_width\":2,\"right_units\":\"screen\",\"syncable\":false,\"top_units\":\"screen\"},\"id\":\"1388\",\"type\":\"BoxAnnotation\"},{\"attributes\":{\"coordinates\":null,\"data_source\":{\"id\":\"1423\"},\"glyph\":{\"id\":\"1426\"},\"group\":null,\"hover_glyph\":null,\"muted_glyph\":{\"id\":\"1428\"},\"nonselection_glyph\":{\"id\":\"1427\"},\"selection_glyph\":{\"id\":\"1444\"},\"view\":{\"id\":\"1430\"}},\"id\":\"1429\",\"type\":\"GlyphRenderer\"},{\"attributes\":{},\"id\":\"1417\",\"type\":\"UnionRenderers\"},{\"attributes\":{\"tools\":[{\"id\":\"1362\"},{\"id\":\"1383\"},{\"id\":\"1384\"},{\"id\":\"1385\"},{\"id\":\"1386\"},{\"id\":\"1387\"}]},\"id\":\"1389\",\"type\":\"Toolbar\"},{\"attributes\":{\"fill_color\":{\"value\":\"#30a2da\"},\"hatch_color\":{\"value\":\"#30a2da\"},\"line_color\":{\"value\":\"#30a2da\"},\"size\":{\"value\":5.477225575051661},\"x\":{\"field\":\"TotalCoinsMined\"},\"y\":{\"field\":\"TotalCoinSupply\"}},\"id\":\"1405\",\"type\":\"Scatter\"},{\"attributes\":{\"label\":{\"value\":\"1\"},\"renderers\":[{\"id\":\"1429\"}]},\"id\":\"1443\",\"type\":\"LegendItem\"},{\"attributes\":{\"angle\":{\"value\":0.0},\"fill_alpha\":{\"value\":1.0},\"fill_color\":{\"value\":\"#6d904f\"},\"hatch_alpha\":{\"value\":1.0},\"hatch_color\":{\"value\":\"#6d904f\"},\"hatch_scale\":{\"value\":12.0},\"hatch_weight\":{\"value\":1.0},\"line_alpha\":{\"value\":1.0},\"line_cap\":{\"value\":\"butt\"},\"line_color\":{\"value\":\"#6d904f\"},\"line_dash\":{\"value\":[]},\"line_dash_offset\":{\"value\":0},\"line_join\":{\"value\":\"bevel\"},\"line_width\":{\"value\":1},\"marker\":{\"value\":\"circle\"},\"size\":{\"value\":5.477225575051661},\"x\":{\"field\":\"TotalCoinsMined\"},\"y\":{\"field\":\"TotalCoinSupply\"}},\"id\":\"1494\",\"type\":\"Scatter\"},{\"attributes\":{},\"id\":\"1440\",\"type\":\"UnionRenderers\"},{\"attributes\":{\"fill_alpha\":{\"value\":0.1},\"fill_color\":{\"value\":\"#30a2da\"},\"hatch_alpha\":{\"value\":0.1},\"hatch_color\":{\"value\":\"#30a2da\"},\"line_alpha\":{\"value\":0.1},\"line_color\":{\"value\":\"#30a2da\"},\"size\":{\"value\":5.477225575051661},\"x\":{\"field\":\"TotalCoinsMined\"},\"y\":{\"field\":\"TotalCoinSupply\"}},\"id\":\"1406\",\"type\":\"Scatter\"},{\"attributes\":{\"fill_alpha\":{\"value\":0.2},\"fill_color\":{\"value\":\"#30a2da\"},\"hatch_alpha\":{\"value\":0.2},\"hatch_color\":{\"value\":\"#30a2da\"},\"line_alpha\":{\"value\":0.2},\"line_color\":{\"value\":\"#30a2da\"},\"size\":{\"value\":5.477225575051661},\"x\":{\"field\":\"TotalCoinsMined\"},\"y\":{\"field\":\"TotalCoinSupply\"}},\"id\":\"1407\",\"type\":\"Scatter\"},{\"attributes\":{\"source\":{\"id\":\"1402\"}},\"id\":\"1409\",\"type\":\"CDSView\"},{\"attributes\":{\"fill_color\":{\"value\":\"#fc4f30\"},\"hatch_color\":{\"value\":\"#fc4f30\"},\"line_color\":{\"value\":\"#fc4f30\"},\"size\":{\"value\":5.477225575051661},\"x\":{\"field\":\"TotalCoinsMined\"},\"y\":{\"field\":\"TotalCoinSupply\"}},\"id\":\"1426\",\"type\":\"Scatter\"},{\"attributes\":{\"coordinates\":null,\"data_source\":{\"id\":\"1402\"},\"glyph\":{\"id\":\"1405\"},\"group\":null,\"hover_glyph\":null,\"muted_glyph\":{\"id\":\"1407\"},\"nonselection_glyph\":{\"id\":\"1406\"},\"selection_glyph\":{\"id\":\"1422\"},\"view\":{\"id\":\"1409\"}},\"id\":\"1408\",\"type\":\"GlyphRenderer\"}],\"root_ids\":[\"1358\"]},\"title\":\"Bokeh Application\",\"version\":\"2.4.3\"}};\n",
       "    var render_items = [{\"docid\":\"efcab59d-c21b-4ae5-9a0b-5ea81a7876dc\",\"root_ids\":[\"1358\"],\"roots\":{\"1358\":\"6c11daff-9bce-45e2-8274-779ddb8bb96e\"}}];\n",
       "    root.Bokeh.embed.embed_items_notebook(docs_json, render_items);\n",
       "  }\n",
       "  if (root.Bokeh !== undefined && root.Bokeh.Panel !== undefined) {\n",
       "    embed_document(root);\n",
       "  } else {\n",
       "    var attempts = 0;\n",
       "    var timer = setInterval(function(root) {\n",
       "      if (root.Bokeh !== undefined && root.Bokeh.Panel !== undefined) {\n",
       "        clearInterval(timer);\n",
       "        embed_document(root);\n",
       "      } else if (document.readyState == \"complete\") {\n",
       "        attempts++;\n",
       "        if (attempts > 200) {\n",
       "          clearInterval(timer);\n",
       "          console.log(\"Bokeh: ERROR: Unable to run BokehJS code because BokehJS library is missing\");\n",
       "        }\n",
       "      }\n",
       "    }, 25, root)\n",
       "  }\n",
       "})(window);</script>"
      ],
      "text/plain": [
       ":NdOverlay   [Class]\n",
       "   :Scatter   [TotalCoinsMined]   (TotalCoinSupply,CoinName)"
      ]
     },
     "execution_count": 53,
     "metadata": {
      "application/vnd.holoviews_exec.v0+json": {
       "id": "1358"
      }
     },
     "output_type": "execute_result"
    }
   ],
   "source": [
    "# Create a hvplot.scatter plot using x=\"TotalCoinsMined\" and y=\"TotalCoinSupply\".\n",
    "plot_df.hvplot.scatter(\n",
    "    x=\"TotalCoinsMined\",\n",
    "    y=\"TotalCoinSupply\",\n",
    "    by=\"Class\",\n",
    "    hover_cols=[\"CoinName\"],\n",
    ")\n"
   ]
  },
  {
   "cell_type": "code",
   "execution_count": null,
   "metadata": {},
   "outputs": [],
   "source": []
  }
 ],
 "metadata": {
  "file_extension": ".py",
  "kernelspec": {
   "display_name": "PythonData",
   "language": "python",
   "name": "pythondata"
  },
  "language_info": {
   "codemirror_mode": {
    "name": "ipython",
    "version": 3
   },
   "file_extension": ".py",
   "mimetype": "text/x-python",
   "name": "python",
   "nbconvert_exporter": "python",
   "pygments_lexer": "ipython3",
   "version": "3.9.12"
  },
  "latex_envs": {
   "LaTeX_envs_menu_present": true,
   "autoclose": false,
   "autocomplete": true,
   "bibliofile": "biblio.bib",
   "cite_by": "apalike",
   "current_citInitial": 1,
   "eqLabelWithNumbers": true,
   "eqNumInitial": 1,
   "hotkeys": {
    "equation": "Ctrl-E",
    "itemize": "Ctrl-I"
   },
   "labels_anchors": false,
   "latex_user_defs": false,
   "report_style_numbering": false,
   "user_envs_cfg": false
  },
  "mimetype": "text/x-python",
  "name": "python",
  "npconvert_exporter": "python",
  "pygments_lexer": "ipython3",
  "version": 3
 },
 "nbformat": 4,
 "nbformat_minor": 2
}
